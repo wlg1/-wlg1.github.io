{
  "cells": [
    {
      "cell_type": "markdown",
      "source": [
        "**IMPT**\n",
        "\n",
        "Before running, download 'gemma-2-2b-20-gemmascope-res-16k-explanations.json' from [https://www.neuronpedia.org/](https://www.neuronpedia.org/), and upload it to the session's files.\n",
        "\n",
        "Then log into hf using token. Then after entering it in, and do Run All.\n",
        "\n",
        "NOTE: Run All has strange issue where sometimes it doesn't work properly. If the bar plots don't match what's seen in the writeup (eg. missing bars), run each section again one by one."
      ],
      "metadata": {
        "id": "Mi-kyJrNRFK6"
      }
    },
    {
      "cell_type": "code",
      "execution_count": null,
      "metadata": {
        "colab": {
          "base_uri": "https://localhost:8080/",
          "height": 415,
          "referenced_widgets": [
            "20712ca8fa124594b0dad0f40602bfb5",
            "9fd1a85ffa2b40358cfce429124a5886",
            "3b294e1525894e569d5fe5791f69b041",
            "2a3b957dd0f34640a1074cb4351284cc",
            "b64041fca1a04c0b909f4b89c1f32e62",
            "e4b25c2b97284449b0cb57d1cfd4a197",
            "e33fb2fd996c46919be89f946bacfc65",
            "9ec3ed384f48455fad75a41a27016116",
            "7b526d6219a148899773ae4dfc790a2c",
            "afb94f51cedc46938ff2f7b147b3c3b0",
            "68f30fd63aee4c4e809628da7b85b53c",
            "a62d91308ae04128b8cf909d87bfef24",
            "d52a88e60e024c33a787a6b0b8ee5f9a",
            "74bc9456b84e44fb8776f4bff05dbd4d",
            "82ac6172bafb402ea6c65de60b687cb6",
            "4cfb6909ad734c76a91ff5771112a35b",
            "3988f92368e949a08dcfa9f1f96c2430"
          ]
        },
        "id": "UKRmnN7jbxbd",
        "outputId": "27cb4cc6-a48e-43a4-ab82-b0a0a1aec5d0"
      },
      "outputs": [
        {
          "output_type": "display_data",
          "data": {
            "text/plain": [
              "VBox(children=(HTML(value='<center> <img\\nsrc=https://huggingface.co/front/assets/huggingface_logo-noborder.sv…"
            ],
            "application/vnd.jupyter.widget-view+json": {
              "version_major": 2,
              "version_minor": 0,
              "model_id": "20712ca8fa124594b0dad0f40602bfb5"
            }
          },
          "metadata": {}
        }
      ],
      "source": [
        "# req to load model into transformerlens\n",
        "from huggingface_hub import hf_hub_download, notebook_login\n",
        "notebook_login()"
      ]
    },
    {
      "cell_type": "markdown",
      "metadata": {
        "id": "kUYRF57KNxrL"
      },
      "source": [
        "# setup"
      ]
    },
    {
      "cell_type": "code",
      "execution_count": null,
      "metadata": {
        "id": "44hx2_jY1SaC"
      },
      "outputs": [],
      "source": [
        "%%capture\n",
        "!pip install transformer_lens"
      ]
    },
    {
      "cell_type": "code",
      "execution_count": null,
      "metadata": {
        "id": "4H-vBfRa1pOo"
      },
      "outputs": [],
      "source": [
        "import numpy as np\n",
        "import pandas as pd\n",
        "import matplotlib.pyplot as plt\n",
        "\n",
        "import torch\n",
        "from torch import nn, Tensor\n",
        "from transformer_lens.hook_points import HookPoint\n",
        "\n",
        "# load this after transformerlens else issue\n",
        "# from transformers import AutoModelForCausalLM, BitsAndBytesConfig, AutoTokenizer\n",
        "\n",
        "from functools import partial\n",
        "from jaxtyping import Float, Int\n",
        "from typing import Optional, Callable, Union, List, Tuple"
      ]
    },
    {
      "cell_type": "code",
      "execution_count": null,
      "metadata": {
        "id": "yUWzqfKmaRXj"
      },
      "outputs": [],
      "source": [
        "device = \"cuda\" if torch.cuda.is_available() else \"cpu\""
      ]
    },
    {
      "cell_type": "markdown",
      "metadata": {
        "id": "nZz2t_CbNKmK"
      },
      "source": [
        "# load labels"
      ]
    },
    {
      "cell_type": "code",
      "execution_count": null,
      "metadata": {
        "id": "6CvQQSVdQvq5"
      },
      "outputs": [],
      "source": [
        "import json\n",
        "with open('gemma-2-2b-20-gemmascope-res-16k-explanations.json', 'rb') as f:\n",
        "    feat_labels_allData = json.load(f)"
      ]
    },
    {
      "cell_type": "code",
      "execution_count": null,
      "metadata": {
        "colab": {
          "base_uri": "https://localhost:8080/"
        },
        "id": "qriFJT15P6MB",
        "outputId": "8a307d28-74d1-440c-d088-4ba577173249"
      },
      "outputs": [
        {
          "output_type": "stream",
          "name": "stdout",
          "text": [
            "mentions of the letter 'Z' and variations of 'Z' in different contexts\n"
          ]
        }
      ],
      "source": [
        "feat_labels_lst = [0 for i in range(feat_labels_allData['explanationsCount'])]\n",
        "feat_labels_dict = {}\n",
        "for f_dict in feat_labels_allData['explanations']:\n",
        "    feat_labels_lst[int(f_dict['index'])] = f_dict['description']\n",
        "    feat_labels_dict[int(f_dict['index'])] = f_dict['description']\n",
        "    if int(f_dict['index']) == 0:\n",
        "        print(f_dict['description'])"
      ]
    },
    {
      "cell_type": "code",
      "execution_count": null,
      "metadata": {
        "colab": {
          "base_uri": "https://localhost:8080/"
        },
        "id": "NNE4LIP6RDJe",
        "outputId": "c5e10419-ef07-4cd4-9cfb-049bcbc956a2"
      },
      "outputs": [
        {
          "output_type": "execute_result",
          "data": {
            "text/plain": [
              "16383"
            ]
          },
          "metadata": {},
          "execution_count": 12
        }
      ],
      "source": [
        "len(feat_labels_dict)"
      ]
    },
    {
      "cell_type": "markdown",
      "metadata": {
        "id": "CLquai4hOaWR"
      },
      "source": [
        "## search for features"
      ]
    },
    {
      "cell_type": "code",
      "execution_count": null,
      "metadata": {
        "id": "FEbmjLd7c-Ju"
      },
      "outputs": [],
      "source": [
        "# def find_indices_with_keyword(f_dict, keyword):\n",
        "    # \"\"\"\n",
        "    # Find all indices of fList which contain the keyword in the string at those indices.\n",
        "\n",
        "    # Args:\n",
        "    # fList (list of str): List of strings to search within.\n",
        "    # keyword (str): Keyword to search for within the strings of fList.\n",
        "\n",
        "    # Returns:\n",
        "    # list of int: List of indices where the keyword is found within the strings of fList.\n",
        "    # \"\"\"\n",
        "    # filt_dict = {}\n",
        "    # for index, string in f_dict.items():\n",
        "    #     # split_list = string.split(',')\n",
        "    #     # no_space_list = [i.replace(' ', '').lower() for i in split_list]\n",
        "    #     # if keyword in no_space_list:\n",
        "    #     if keyword in string:\n",
        "    #         filt_dict[index] = string\n",
        "    # return filt_dict"
      ]
    },
    {
      "cell_type": "code",
      "execution_count": null,
      "metadata": {
        "id": "wKS0eFoCObvI"
      },
      "outputs": [],
      "source": [
        "# keyword = \"number\"\n",
        "# number_feats = find_indices_with_keyword(feat_labels_dict, keyword)"
      ]
    },
    {
      "cell_type": "code",
      "execution_count": null,
      "metadata": {
        "id": "HdjRMBTOSpg0"
      },
      "outputs": [],
      "source": [
        "# keyword = \"month\"\n",
        "# month_feats = find_indices_with_keyword(feat_labels_dict, keyword)"
      ]
    },
    {
      "cell_type": "markdown",
      "metadata": {
        "id": "l8UydG5Pc4GR"
      },
      "source": [
        "# load model"
      ]
    },
    {
      "cell_type": "code",
      "execution_count": null,
      "metadata": {
        "colab": {
          "base_uri": "https://localhost:8080/"
        },
        "id": "-z3Bg4Ui26l2",
        "outputId": "92f9797f-e222-4530-ab5d-80ff2b2cbca1"
      },
      "outputs": [
        {
          "output_type": "execute_result",
          "data": {
            "text/plain": [
              "<torch.autograd.grad_mode.set_grad_enabled at 0x7c9931dcf6a0>"
            ]
          },
          "metadata": {},
          "execution_count": 16
        }
      ],
      "source": [
        "torch.set_grad_enabled(False) # avoid blowing up mem"
      ]
    },
    {
      "cell_type": "code",
      "execution_count": null,
      "metadata": {
        "id": "12wF3f7o1Ni7"
      },
      "outputs": [],
      "source": [
        "# model = AutoModelForCausalLM.from_pretrained(\n",
        "#     \"google/gemma-2-2b\",\n",
        "#     device_map='auto',\n",
        "# )"
      ]
    },
    {
      "cell_type": "code",
      "execution_count": null,
      "metadata": {
        "id": "RV_HTT-v7ggl"
      },
      "outputs": [],
      "source": [
        "# tokenizer =  AutoTokenizer.from_pretrained(\"google/gemma-2-2b\")"
      ]
    },
    {
      "cell_type": "markdown",
      "metadata": {
        "id": "NU3TRser6AdO"
      },
      "source": [
        "## load transformerlens"
      ]
    },
    {
      "cell_type": "code",
      "execution_count": null,
      "metadata": {
        "colab": {
          "base_uri": "https://localhost:8080/",
          "height": 72
        },
        "id": "VbJhCygk1Vbq",
        "outputId": "5fa8fcfb-ef54-4121-8cba-93963569ddd8"
      },
      "outputs": [
        {
          "output_type": "stream",
          "name": "stderr",
          "text": [
            "WARNING:root:You tried to specify center_unembed=True for a model using logit softcap, but this can't be done! Softcapping is not invariant upon adding a constantSetting center_unembed=False instead.\n",
            "WARNING:root:You are not using LayerNorm, so the writing weights can't be centered! Skipping\n"
          ]
        }
      ],
      "source": [
        "%%capture\n",
        "from transformer_lens import HookedTransformer\n",
        "\n",
        "model_2 = HookedTransformer.from_pretrained(\n",
        "    \"gemma-2-2b\"\n",
        ")"
      ]
    },
    {
      "cell_type": "code",
      "source": [
        "tokenizer =  model_2.tokenizer"
      ],
      "metadata": {
        "id": "as3e8wtyVEGa"
      },
      "execution_count": null,
      "outputs": []
    },
    {
      "cell_type": "markdown",
      "metadata": {
        "id": "45CFoL9SrSR1"
      },
      "source": [
        "## test prompts"
      ]
    },
    {
      "cell_type": "code",
      "execution_count": null,
      "metadata": {
        "id": "0qw-KjbczhRr"
      },
      "outputs": [],
      "source": [
        "# prompt = \"one two three four\"\n",
        "# inputs = tokenizer.encode(prompt, return_tensors=\"pt\", add_special_tokens=True).to(\"cuda\")\n",
        "# outputs = model.generate(input_ids=inputs, max_new_tokens=1)\n",
        "# print(tokenizer.decode(outputs[0, -1]))"
      ]
    },
    {
      "cell_type": "markdown",
      "metadata": {
        "id": "N8ZMNbBKMuKA"
      },
      "source": [
        "# load sae"
      ]
    },
    {
      "cell_type": "code",
      "execution_count": null,
      "metadata": {
        "colab": {
          "base_uri": "https://localhost:8080/",
          "height": 49,
          "referenced_widgets": [
            "76b601852c7e4066b302004d9c23d5fa",
            "0647722d16eb4fa68a376059a265365d",
            "07e24a087c4e4082b8f96bdc6b24371b",
            "e742a42058a14bce97ba43a7d80d2ee7",
            "36709db13e7a45239bb6d7ce63d7f677",
            "ddf0fca18b984d4c9b7ed8a8395426c1",
            "05e2a9b3804642648657f2f6796c91f7",
            "1c4274fdba824a6eb6a9585a6a826dd9",
            "ee859c40665644ffaa1a86d43cd219d8",
            "e493e48b5afd4d1fb4a530a88f9063f2",
            "1b2bfd7b2cb14687a98d6c62eafb9b5e"
          ]
        },
        "id": "havaBGy6b97D",
        "outputId": "c8f2ba37-18e0-474c-c58c-d89d2bf5c28c"
      },
      "outputs": [
        {
          "output_type": "display_data",
          "data": {
            "text/plain": [
              "params.npz:   0%|          | 0.00/302M [00:00<?, ?B/s]"
            ],
            "application/vnd.jupyter.widget-view+json": {
              "version_major": 2,
              "version_minor": 0,
              "model_id": "76b601852c7e4066b302004d9c23d5fa"
            }
          },
          "metadata": {}
        }
      ],
      "source": [
        "path_to_params = hf_hub_download(\n",
        "    repo_id=\"google/gemma-scope-2b-pt-res\",\n",
        "    filename=\"layer_20/width_16k/average_l0_71/params.npz\",\n",
        "    force_download=False,\n",
        ")"
      ]
    },
    {
      "cell_type": "code",
      "execution_count": null,
      "metadata": {
        "id": "HB0GoeZccJD7"
      },
      "outputs": [],
      "source": [
        "params = np.load(path_to_params)\n",
        "pt_params = {k: torch.from_numpy(v).cuda() for k, v in params.items()}"
      ]
    },
    {
      "cell_type": "code",
      "execution_count": null,
      "metadata": {
        "id": "WYfvS97fAFzq"
      },
      "outputs": [],
      "source": [
        "import torch.nn as nn\n",
        "class JumpReLUSAE(nn.Module):\n",
        "  def __init__(self, d_model, d_sae):\n",
        "    # Note that we initialise these to zeros because we're loading in pre-trained weights.\n",
        "    # If you want to train your own SAEs then we recommend using blah\n",
        "    super().__init__()\n",
        "    self.W_enc = nn.Parameter(torch.zeros(d_model, d_sae))\n",
        "    self.W_dec = nn.Parameter(torch.zeros(d_sae, d_model))\n",
        "    self.threshold = nn.Parameter(torch.zeros(d_sae))\n",
        "    self.b_enc = nn.Parameter(torch.zeros(d_sae))\n",
        "    self.b_dec = nn.Parameter(torch.zeros(d_model))\n",
        "\n",
        "  def encode(self, input_acts):\n",
        "    pre_acts = input_acts @ self.W_enc + self.b_enc\n",
        "    mask = (pre_acts > self.threshold)\n",
        "    acts = mask * torch.nn.functional.relu(pre_acts)\n",
        "    return acts\n",
        "\n",
        "  def decode(self, acts):\n",
        "    return acts @ self.W_dec + self.b_dec\n",
        "\n",
        "  def forward(self, acts):\n",
        "    acts = self.encode(acts)\n",
        "    recon = self.decode(acts)\n",
        "    return recon\n"
      ]
    },
    {
      "cell_type": "code",
      "execution_count": null,
      "metadata": {
        "colab": {
          "base_uri": "https://localhost:8080/"
        },
        "id": "X91UGkU1cSrC",
        "outputId": "d90e1ffb-60cb-435f-b8be-ee9d6bae356f"
      },
      "outputs": [
        {
          "output_type": "execute_result",
          "data": {
            "text/plain": [
              "<All keys matched successfully>"
            ]
          },
          "metadata": {},
          "execution_count": 25
        }
      ],
      "source": [
        "sae = JumpReLUSAE(params['W_enc'].shape[0], params['W_enc'].shape[1])\n",
        "sae.load_state_dict(pt_params)"
      ]
    },
    {
      "cell_type": "code",
      "execution_count": null,
      "metadata": {
        "colab": {
          "base_uri": "https://localhost:8080/"
        },
        "id": "sjgbfaPCjSWv",
        "outputId": "372d9e54-1be8-4cda-ea28-c1127462fcb7"
      },
      "outputs": [
        {
          "output_type": "execute_result",
          "data": {
            "text/plain": [
              "JumpReLUSAE()"
            ]
          },
          "metadata": {},
          "execution_count": 26
        }
      ],
      "source": [
        "sae.cuda()"
      ]
    },
    {
      "cell_type": "markdown",
      "source": [
        "# get actv fns using transformerlens"
      ],
      "metadata": {
        "id": "Oaw31kh_UJH1"
      }
    },
    {
      "cell_type": "code",
      "source": [
        "def gather_residual_activations(model_2, target_layer, inputs):\n",
        "    h_store = torch.zeros((inputs.shape[0], inputs.shape[1], model_2.cfg.d_model), device=model_2.cfg.device)\n",
        "\n",
        "    def store_h_hook(\n",
        "        pattern: Float[Tensor, \"batch seqlen d_model\"],\n",
        "        hook: HookPoint,\n",
        "    ):\n",
        "        # h_store = pattern  # this won't work b/c replaces entire thing, so won't be stored\n",
        "        h_store[:] = pattern  # this works b/c changes values, not replaces entire thing\n",
        "\n",
        "    layer_name = f'blocks.{target_layer}.hook_resid_post'\n",
        "    model_2.run_with_hooks(\n",
        "        inputs,\n",
        "        return_type = None,\n",
        "        fwd_hooks=[\n",
        "            (layer_name, store_h_hook),\n",
        "        ]\n",
        "    )\n",
        "\n",
        "    return h_store"
      ],
      "metadata": {
        "id": "BBDZ1IyFUMM3"
      },
      "execution_count": null,
      "outputs": []
    },
    {
      "cell_type": "markdown",
      "metadata": {
        "id": "pzHjkBaA3RfR"
      },
      "source": [
        "## get actv fns"
      ]
    },
    {
      "cell_type": "code",
      "execution_count": null,
      "metadata": {
        "id": "aSvKs581WU7j"
      },
      "outputs": [],
      "source": [
        "# def gather_residual_activations(model, target_layer, inputs):\n",
        "#   target_act = None\n",
        "#   def gather_target_act_hook(mod, inputs, outputs):\n",
        "#     nonlocal target_act # make sure we can modify the target_act from the outer scope\n",
        "#     target_act = outputs[0]\n",
        "#     return outputs\n",
        "#   handle = model.model.layers[target_layer].register_forward_hook(gather_target_act_hook)\n",
        "#   _ = model.forward(inputs)\n",
        "#   handle.remove()\n",
        "#   return target_act"
      ]
    },
    {
      "cell_type": "code",
      "execution_count": null,
      "metadata": {
        "id": "313MaH5JepiA"
      },
      "outputs": [],
      "source": [
        "prompt = \"January February March April\"\n",
        "inputs = tokenizer.encode(prompt, return_tensors=\"pt\", add_special_tokens=True).to(\"cuda\")"
      ]
    },
    {
      "cell_type": "code",
      "execution_count": null,
      "metadata": {
        "id": "pXoyLeWeXQF2"
      },
      "outputs": [],
      "source": [
        "target_act = gather_residual_activations(model_2, 20, inputs)"
      ]
    },
    {
      "cell_type": "code",
      "source": [
        "target_act.shape"
      ],
      "metadata": {
        "colab": {
          "base_uri": "https://localhost:8080/"
        },
        "id": "d-W3UiGEU3Zx",
        "outputId": "39ca36d0-c490-436e-bc9b-defa4f5e56e7"
      },
      "execution_count": null,
      "outputs": [
        {
          "output_type": "execute_result",
          "data": {
            "text/plain": [
              "torch.Size([1, 5, 2304])"
            ]
          },
          "metadata": {},
          "execution_count": 31
        }
      ]
    },
    {
      "cell_type": "markdown",
      "metadata": {
        "id": "iS4Re5VTQti5"
      },
      "source": [
        "Now, we can run our SAE on the saved activations."
      ]
    },
    {
      "cell_type": "code",
      "execution_count": null,
      "metadata": {
        "id": "H2ax0KLtZfcu",
        "colab": {
          "base_uri": "https://localhost:8080/"
        },
        "outputId": "e53812df-bb07-4668-9881-bb36af902c74"
      },
      "outputs": [
        {
          "output_type": "execute_result",
          "data": {
            "text/plain": [
              "torch.Size([1, 5, 16384])"
            ]
          },
          "metadata": {},
          "execution_count": 32
        }
      ],
      "source": [
        "sae_acts = sae.encode(target_act.to(torch.float32))\n",
        "sae_acts.shape"
      ]
    },
    {
      "cell_type": "markdown",
      "metadata": {
        "id": "EV8oow-wwFU_"
      },
      "source": [
        "# steering fns"
      ]
    },
    {
      "cell_type": "code",
      "execution_count": null,
      "metadata": {
        "id": "JDow_KwZBXp_"
      },
      "outputs": [],
      "source": [
        "def patch_and_steer(tokens, patch, multp, layer_id):\n",
        "    # replace LLM actvs in that layer with decoder output\n",
        "\n",
        "    layer_name = f'blocks.{layer_id}.hook_resid_post'\n",
        "\n",
        "    def patch_layer(\n",
        "        orig_actvs: Float[Tensor, \"batch pos d_model\"],\n",
        "        hook: HookPoint,\n",
        "        LLM_patch: Float[Tensor, \"batch pos d_model\"],\n",
        "        layer_to_patch: int,\n",
        "    ) -> Float[Tensor, \"batch pos d_model\"]:\n",
        "        if layer_to_patch == hook.layer():\n",
        "            orig_actvs[:, :, :] = LLM_patch\n",
        "        return orig_actvs\n",
        "\n",
        "    hook_fn = partial(\n",
        "            patch_layer,\n",
        "            LLM_patch= patch,\n",
        "            layer_to_patch = layer_id\n",
        "        )\n",
        "\n",
        "    # if you use run_with_cache, you need to add_hook before\n",
        "    # if you use run_with_hooks, you dont need add_hook, just add it in fwd_hooks arg\n",
        "    # no need to reset hoooks after since run_with_hooks isn't permanent like add_hook with perm arg\n",
        "\n",
        "    # rerun clean inputs on ablated model\n",
        "    ablated_logits = model_2.run_with_hooks(tokens,\n",
        "                        fwd_hooks=[\n",
        "                            (layer_name, hook_fn),\n",
        "                        ]\n",
        "                    )\n",
        "\n",
        "    next_token = ablated_logits[0, -1].argmax(dim=-1)\n",
        "    next_char = model_2.to_string(next_token)\n",
        "    print(next_char)\n",
        "    return next_char"
      ]
    },
    {
      "cell_type": "code",
      "execution_count": null,
      "metadata": {
        "id": "xw8f93bInk2_"
      },
      "outputs": [],
      "source": [
        "def steer_by_sae_lastTok(prompt, steer_vec, multp):\n",
        "    tokens = model_2.to_tokens(prompt).to(device)\n",
        "    inputs = tokenizer.encode(prompt, return_tensors=\"pt\", add_special_tokens=True).to(\"cuda\")\n",
        "    target_act = gather_residual_activations(model_2, 20, inputs)\n",
        "    sae_acts_3 = sae.encode(target_act.to(torch.float32))\n",
        "\n",
        "    sae_acts_3[:, -1, :]  += multp * steer_vec[:, -1, :] # in-place\n",
        "    recon = sae.decode(sae_acts_3)\n",
        "\n",
        "    layer_id = 20\n",
        "    return patch_and_steer(tokens, recon, multp, layer_id)"
      ]
    },
    {
      "cell_type": "code",
      "execution_count": null,
      "metadata": {
        "id": "zpoop5GIwBLK"
      },
      "outputs": [],
      "source": [
        "def steer_by_LLM_lastTok(prompt, steer_vec, multp):\n",
        "    tokens = model_2.to_tokens(prompt).to(device)\n",
        "    inputs = tokenizer.encode(prompt, return_tensors=\"pt\", add_special_tokens=True).to(\"cuda\")\n",
        "    target_act = gather_residual_activations(model_2, 20, inputs)\n",
        "\n",
        "    target_act[:, -1, :]  += multp * steer_vec[:, -1, :] # in-place\n",
        "\n",
        "    layer_id = 20\n",
        "    return patch_and_steer(tokens, target_act, multp, layer_id)"
      ]
    },
    {
      "cell_type": "markdown",
      "metadata": {
        "id": "wgSm_-CvDKie"
      },
      "source": [
        "# scoring fns"
      ]
    },
    {
      "cell_type": "code",
      "execution_count": null,
      "metadata": {
        "id": "HJFTpSBmDjIJ"
      },
      "outputs": [],
      "source": [
        "def get_test_scores_steer_actvs(prompts_list, answers, steer_vec, multp, actv_type):\n",
        "    results = []\n",
        "    score = 0\n",
        "    for p_id, prompt in enumerate(prompts_list):\n",
        "        if actv_type == 'SAE':\n",
        "            output = steer_by_sae_lastTok(prompt, steer_vec, multp)\n",
        "        else:\n",
        "            output = steer_by_LLM_lastTok(prompt, steer_vec, multp)\n",
        "        if p_id < len(answers):\n",
        "            results.append({\n",
        "                'Prompt': prompt,\n",
        "                'Answer': answers[p_id],\n",
        "                'Output': output\n",
        "            })\n",
        "            output_reformat = output.replace(\" \", \"\")\n",
        "            if output_reformat == answers[p_id]:\n",
        "                score += 1\n",
        "        else:\n",
        "            results.append({\n",
        "                'Prompt': prompt,\n",
        "                'Answer': '',\n",
        "                'Output': output\n",
        "            })\n",
        "    return pd.DataFrame(results), score / len(answers)\n",
        "\n",
        "def run_tests_steer_actvs(steer_vec, multp_list, actv_type):\n",
        "    all_scores = []\n",
        "    all_tables = []\n",
        "    for prompts_list, answers in zip(all_test_prompts, all_test_answers):\n",
        "        prompts_table = []\n",
        "        prompts_scores = []\n",
        "        for multp in multp_list:\n",
        "            df, score = get_test_scores_steer_actvs(prompts_list, answers, steer_vec, multp, actv_type)\n",
        "            prompts_table.append(df)\n",
        "            prompts_scores.append(score)\n",
        "        all_tables.append(prompts_table)\n",
        "        all_scores.append(prompts_scores)\n",
        "    return all_tables, all_scores"
      ]
    },
    {
      "cell_type": "markdown",
      "metadata": {
        "id": "f0Jh_w11rzCG"
      },
      "source": [
        "# make test data"
      ]
    },
    {
      "cell_type": "code",
      "source": [
        "test_labels_lst = ['numwords', 'months', 'days', 'tomorrow_is', 'nextMonth_is', 'descr_numwords', 'spanish_numwords']"
      ],
      "metadata": {
        "id": "A9J0p7-aJw6T"
      },
      "execution_count": null,
      "outputs": []
    },
    {
      "cell_type": "code",
      "execution_count": null,
      "metadata": {
        "id": "D0o1a5zUzggz"
      },
      "outputs": [],
      "source": [
        "all_test_prompts = []\n",
        "all_test_answers = []"
      ]
    },
    {
      "cell_type": "code",
      "execution_count": null,
      "metadata": {
        "id": "BOZFQeUusmes"
      },
      "outputs": [],
      "source": [
        "words = ['one', 'two', 'three', 'four', 'five', 'six', 'seven', 'eight', 'nine', 'ten', 'eleven', 'twelve']\n",
        "numword_samps = []\n",
        "for i in range(0, 9):\n",
        "    samp = f\"{words[i]} {words[i+1]} {words[i+2]} {words[i+3]}\"\n",
        "    numword_samps.append(samp)\n",
        "answers = [str(i) for i in range(5, 10)]\n",
        "\n",
        "all_test_prompts.append(numword_samps)\n",
        "all_test_answers.append(answers)"
      ]
    },
    {
      "cell_type": "code",
      "execution_count": null,
      "metadata": {
        "id": "9K8Q23m1t9o-"
      },
      "outputs": [],
      "source": [
        "words = ['January', 'February', 'March', 'April', 'May', 'June', 'July', 'August', 'September', 'October', 'November', 'December']\n",
        "months_samps = []\n",
        "# for i in range(0, 9):\n",
        "for i in range(0, 5):\n",
        "    samp = f\"{words[i]} {words[i+1]} {words[i+2]} {words[i+3]}\"\n",
        "    months_samps.append(samp)\n",
        "answers = [str(i) for i in range(5, 10)]\n",
        "\n",
        "all_test_prompts.append(months_samps)\n",
        "all_test_answers.append(answers)"
      ]
    },
    {
      "cell_type": "code",
      "execution_count": null,
      "metadata": {
        "id": "xaDGEwW2uFsL"
      },
      "outputs": [],
      "source": [
        "words = [\"Monday\", \"Tuesday\", \"Wednesday\", \"Thursday\", \"Friday\", \"Saturday\", \"Sunday\"]\n",
        "day_samps = []\n",
        "for i in range(0, 5):\n",
        "    samp = f\"{words[i]} {words[i+1]} {words[i+2]}\" # {words[i+3]}\"\n",
        "    day_samps.append(samp)\n",
        "answers = [str(i) for i in range(4, 7)]\n",
        "\n",
        "all_test_prompts.append(day_samps)\n",
        "all_test_answers.append(answers)"
      ]
    },
    {
      "cell_type": "code",
      "execution_count": null,
      "metadata": {
        "id": "F1kNpnr33NiX"
      },
      "outputs": [],
      "source": [
        "words = [\"Monday\", \"Tuesday\", \"Wednesday\", \"Thursday\", \"Friday\", \"Saturday\", \"Sunday\"]\n",
        "tomorrowIs_samps = []\n",
        "for i in range(0, 6):\n",
        "    samp = f\"Today is {words[i]}, tomorrow is\"\n",
        "    tomorrowIs_samps.append(samp)\n",
        "answers = [str(i) for i in range(2, 7)]\n",
        "\n",
        "all_test_prompts.append(tomorrowIs_samps)\n",
        "all_test_answers.append(answers)"
      ]
    },
    {
      "cell_type": "code",
      "execution_count": null,
      "metadata": {
        "id": "44sSCfoH5xb8"
      },
      "outputs": [],
      "source": [
        "words = ['January', 'February', 'March', 'April', 'May', 'June', 'July', 'August', 'September', 'October', 'November', 'December']\n",
        "nextMonthIs_samps = []\n",
        "for i in range(0, 8):\n",
        "    samp = f\"This month is {words[i]}, next month is\"\n",
        "    nextMonthIs_samps.append(samp)\n",
        "answers = [str(i) for i in range(2, 10)]\n",
        "\n",
        "all_test_prompts.append(nextMonthIs_samps)\n",
        "all_test_answers.append(answers)"
      ]
    },
    {
      "cell_type": "code",
      "execution_count": null,
      "metadata": {
        "id": "ONTflRZF6oP_"
      },
      "outputs": [],
      "source": [
        "words = ['one', 'two', 'three', 'four', 'five', 'six', 'seven', 'eight', 'nine', 'ten', 'eleven', 'twelve'][::-1]\n",
        "backw_numword_samps = []\n",
        "for i in range(0, 8):\n",
        "    samp = f\"{words[i]} {words[i+1]} {words[i+2]} {words[i+3]}\"\n",
        "    backw_numword_samps.append(samp)\n",
        "answers = [str(i) for i in range(8, 0, -1)]\n",
        "\n",
        "all_test_prompts.append(backw_numword_samps)\n",
        "all_test_answers.append(answers)"
      ]
    },
    {
      "cell_type": "code",
      "execution_count": null,
      "metadata": {
        "id": "-kiOzaTv3xJv"
      },
      "outputs": [],
      "source": [
        "words = ['uno', 'dos', 'tres', 'cuatro', 'cinco', 'seis', 'siete', 'ocho', 'nueve']\n",
        "SPnumword_samps = []\n",
        "for i in range(0, 6):\n",
        "    samp = f\"{words[i]} {words[i+1]} {words[i+2]} {words[i+3]}\"\n",
        "    SPnumword_samps.append(samp)\n",
        "answers = [str(i) for i in range(5, 10)]\n",
        "\n",
        "all_test_prompts.append(SPnumword_samps)\n",
        "all_test_answers.append(answers)"
      ]
    },
    {
      "cell_type": "markdown",
      "metadata": {
        "id": "r4h4oL-Ctagf"
      },
      "source": [
        "# steer by SAE actvs"
      ]
    },
    {
      "cell_type": "markdown",
      "metadata": {
        "id": "XQ3CoL48un-r"
      },
      "source": [
        "## get steering vec"
      ]
    },
    {
      "cell_type": "code",
      "execution_count": null,
      "metadata": {
        "id": "ArLQTFovun-s"
      },
      "outputs": [],
      "source": [
        "words = ['1', '2', '3', '4', '5', '6', '7', '8', '9']\n",
        "num_sv_samp = []\n",
        "for i in range(0, 9):\n",
        "    samp = f\"{words[i]}\"\n",
        "    num_sv_samp.append(samp)\n",
        "inputs = tokenizer(num_sv_samp, return_tensors=\"pt\", padding=True, truncation=True, max_length=300)['input_ids'].to(\"cuda\")\n",
        "target_act = gather_residual_activations(model_2, 20, inputs)\n",
        "sae_acts_1 = sae.encode(target_act.to(torch.float32))"
      ]
    },
    {
      "cell_type": "code",
      "execution_count": null,
      "metadata": {
        "colab": {
          "base_uri": "https://localhost:8080/"
        },
        "id": "jxd8Y611un-s",
        "outputId": "4cd81f98-3138-4768-df13-89f0cc24b8aa"
      },
      "outputs": [
        {
          "output_type": "execute_result",
          "data": {
            "text/plain": [
              "torch.Size([1, 2, 16384])"
            ]
          },
          "metadata": {},
          "execution_count": 47
        }
      ],
      "source": [
        "mean_num_sv = sae_acts_1.mean(dim=0)\n",
        "mean_num_sv = mean_num_sv.unsqueeze(0)\n",
        "mean_num_sv.shape"
      ]
    },
    {
      "cell_type": "markdown",
      "metadata": {
        "id": "5baTwnKlt5sK"
      },
      "source": [
        "## steer tests"
      ]
    },
    {
      "cell_type": "code",
      "execution_count": null,
      "metadata": {
        "id": "ElxpMVnBFJv9"
      },
      "outputs": [],
      "source": [
        "%%capture\n",
        "multp_list = [1, 3]\n",
        "SAE_tables, SAE_scores = run_tests_steer_actvs(mean_num_sv, multp_list, 'SAE')"
      ]
    },
    {
      "cell_type": "code",
      "execution_count": null,
      "metadata": {
        "id": "k6dj0mZxFJwG"
      },
      "outputs": [],
      "source": [
        "tables = SAE_tables\n",
        "scores = SAE_scores"
      ]
    },
    {
      "cell_type": "code",
      "execution_count": null,
      "metadata": {
        "colab": {
          "base_uri": "https://localhost:8080/"
        },
        "id": "3-u2vcwz-MU3",
        "outputId": "31121b8c-f6ea-48a5-891c-039e665c1856"
      },
      "outputs": [
        {
          "output_type": "stream",
          "name": "stdout",
          "text": [
            "MULTIPLIER:  1\n",
            "Acc Score:  1.0\n",
            "                   Prompt Answer Output\n",
            "0      one two three four      5      5\n",
            "1     two three four five      6      6\n",
            "2     three four five six      7      7\n",
            "3     four five six seven      8      8\n",
            "4    five six seven eight      9      9\n",
            "5    six seven eight nine             8\n",
            "6    seven eight nine ten             1\n",
            "7   eight nine ten eleven             2\n",
            "8  nine ten eleven twelve             3\n",
            "\n",
            "\n",
            "MULTIPLIER:  3\n",
            "Acc Score:  1.0\n",
            "                   Prompt Answer Output\n",
            "0      one two three four      5      5\n",
            "1     two three four five      6      6\n",
            "2     three four five six      7      7\n",
            "3     four five six seven      8      8\n",
            "4    five six seven eight      9      9\n",
            "5    six seven eight nine             0\n",
            "6    seven eight nine ten             1\n",
            "7   eight nine ten eleven             1\n",
            "8  nine ten eleven twelve             3\n",
            "\n",
            "\n"
          ]
        }
      ],
      "source": [
        "test_id = 0\n",
        "\n",
        "for i, df in enumerate(tables[test_id]):\n",
        "    print(\"MULTIPLIER: \", multp_list[i])\n",
        "    print(\"Acc Score: \", scores[test_id][i])\n",
        "    print(df) # display(df) ## display is too bulky\n",
        "    print('\\n')"
      ]
    },
    {
      "cell_type": "code",
      "execution_count": null,
      "metadata": {
        "colab": {
          "base_uri": "https://localhost:8080/"
        },
        "id": "ZablM1R1AtJ1",
        "outputId": "298a13bf-1143-4b41-f9f8-f920dff16832"
      },
      "outputs": [
        {
          "output_type": "stream",
          "name": "stdout",
          "text": [
            "MULTIPLIER:  1\n",
            "Acc Score:  1.0\n",
            "                         Prompt Answer Output\n",
            "0  January February March April      5      5\n",
            "1      February March April May      6      6\n",
            "2          March April May June      7      7\n",
            "3           April May June July      8      8\n",
            "4          May June July August      9      9\n",
            "\n",
            "\n",
            "MULTIPLIER:  3\n",
            "Acc Score:  1.0\n",
            "                         Prompt Answer Output\n",
            "0  January February March April      5      5\n",
            "1      February March April May      6      6\n",
            "2          March April May June      7      7\n",
            "3           April May June July      8      8\n",
            "4          May June July August      9      9\n",
            "\n",
            "\n"
          ]
        }
      ],
      "source": [
        "test_id = 1\n",
        "\n",
        "for i, df in enumerate(tables[test_id]):\n",
        "    print(\"MULTIPLIER: \", multp_list[i])\n",
        "    print(\"Acc Score: \", scores[test_id][i])\n",
        "    print(df) # display(df) ## display is too bulky\n",
        "    print('\\n')"
      ]
    },
    {
      "cell_type": "code",
      "execution_count": null,
      "metadata": {
        "colab": {
          "base_uri": "https://localhost:8080/"
        },
        "id": "omokoTZkBKQF",
        "outputId": "e0418cce-3958-4966-b6dd-8dc9088c7f0e"
      },
      "outputs": [
        {
          "output_type": "stream",
          "name": "stdout",
          "text": [
            "MULTIPLIER:  1\n",
            "Acc Score:  0.6666666666666666\n",
            "                       Prompt Answer Output\n",
            "0    Monday Tuesday Wednesday      4      4\n",
            "1  Tuesday Wednesday Thursday      5      5\n",
            "2   Wednesday Thursday Friday      6       \n",
            "3    Thursday Friday Saturday            \\n\n",
            "4      Friday Saturday Sunday             .\n",
            "\n",
            "\n",
            "MULTIPLIER:  3\n",
            "Acc Score:  0.6666666666666666\n",
            "                       Prompt Answer Output\n",
            "0    Monday Tuesday Wednesday      4      4\n",
            "1  Tuesday Wednesday Thursday      5      5\n",
            "2   Wednesday Thursday Friday      6      0\n",
            "3    Thursday Friday Saturday             0\n",
            "4      Friday Saturday Sunday             1\n",
            "\n",
            "\n"
          ]
        }
      ],
      "source": [
        "test_id = 2\n",
        "\n",
        "for i, df in enumerate(tables[test_id]):\n",
        "    print(\"MULTIPLIER: \", multp_list[i])\n",
        "    print(\"Acc Score: \", scores[test_id][i])\n",
        "    print(df) # display(df) ## display is too bulky\n",
        "    print('\\n')"
      ]
    },
    {
      "cell_type": "code",
      "execution_count": null,
      "metadata": {
        "colab": {
          "base_uri": "https://localhost:8080/"
        },
        "id": "BMvf4jdoBRE2",
        "outputId": "ee9bf325-2dc5-4878-8aac-f5b6c0150728"
      },
      "outputs": [
        {
          "output_type": "stream",
          "name": "stdout",
          "text": [
            "MULTIPLIER:  1\n",
            "Acc Score:  0.2\n",
            "                            Prompt Answer     Output\n",
            "0     Today is Monday, tomorrow is      2    Tuesday\n",
            "1    Today is Tuesday, tomorrow is      3           \n",
            "2  Today is Wednesday, tomorrow is      4   Thursday\n",
            "3   Today is Thursday, tomorrow is      5     Friday\n",
            "4     Today is Friday, tomorrow is      6          6\n",
            "5   Today is Saturday, tomorrow is            Sunday\n",
            "\n",
            "\n",
            "MULTIPLIER:  3\n",
            "Acc Score:  0.8\n",
            "                            Prompt Answer Output\n",
            "0     Today is Monday, tomorrow is      2      2\n",
            "1    Today is Tuesday, tomorrow is      3      3\n",
            "2  Today is Wednesday, tomorrow is      4      4\n",
            "3   Today is Thursday, tomorrow is      5      5\n",
            "4     Today is Friday, tomorrow is      6      0\n",
            "5   Today is Saturday, tomorrow is             0\n",
            "\n",
            "\n"
          ]
        }
      ],
      "source": [
        "test_id = 3\n",
        "\n",
        "for i, df in enumerate(tables[test_id]):\n",
        "    print(\"MULTIPLIER: \", multp_list[i])\n",
        "    print(\"Acc Score: \", scores[test_id][i])\n",
        "    print(df) # display(df) ## display is too bulky\n",
        "    print('\\n')"
      ]
    },
    {
      "cell_type": "code",
      "execution_count": null,
      "metadata": {
        "colab": {
          "base_uri": "https://localhost:8080/"
        },
        "id": "0WqVRHfDBN0y",
        "outputId": "f5c7c186-ef04-41a3-ea64-3f55da73753f"
      },
      "outputs": [
        {
          "output_type": "stream",
          "name": "stdout",
          "text": [
            "MULTIPLIER:  1\n",
            "Acc Score:  0.75\n",
            "                                  Prompt Answer     Output\n",
            "0   This month is January, next month is      2   February\n",
            "1  This month is February, next month is      3          3\n",
            "2     This month is March, next month is      4      April\n",
            "3     This month is April, next month is      5          5\n",
            "4       This month is May, next month is      6          6\n",
            "5      This month is June, next month is      7          7\n",
            "6      This month is July, next month is      8          8\n",
            "7    This month is August, next month is      9          9\n",
            "\n",
            "\n",
            "MULTIPLIER:  3\n",
            "Acc Score:  1.0\n",
            "                                  Prompt Answer Output\n",
            "0   This month is January, next month is      2      2\n",
            "1  This month is February, next month is      3      3\n",
            "2     This month is March, next month is      4      4\n",
            "3     This month is April, next month is      5      5\n",
            "4       This month is May, next month is      6      6\n",
            "5      This month is June, next month is      7      7\n",
            "6      This month is July, next month is      8      8\n",
            "7    This month is August, next month is      9      9\n",
            "\n",
            "\n"
          ]
        }
      ],
      "source": [
        "test_id = 4\n",
        "\n",
        "for i, df in enumerate(tables[test_id]):\n",
        "    print(\"MULTIPLIER: \", multp_list[i])\n",
        "    print(\"Acc Score: \", scores[test_id][i])\n",
        "    print(df) # display(df) ## display is too bulky\n",
        "    print('\\n')"
      ]
    },
    {
      "cell_type": "code",
      "execution_count": null,
      "metadata": {
        "colab": {
          "base_uri": "https://localhost:8080/"
        },
        "id": "P0a4C1_6Bk1o",
        "outputId": "42da1762-bf54-48aa-a225-ef14819eb30b"
      },
      "outputs": [
        {
          "output_type": "stream",
          "name": "stdout",
          "text": [
            "MULTIPLIER:  1\n",
            "Acc Score:  0.75\n",
            "                   Prompt Answer Output\n",
            "0  twelve eleven ten nine      8      8\n",
            "1   eleven ten nine eight      7      7\n",
            "2    ten nine eight seven      6      6\n",
            "3    nine eight seven six      5      0\n",
            "4    eight seven six five      4       \n",
            "5     seven six five four      3      3\n",
            "6     six five four three      2      2\n",
            "7     five four three two      1      1\n",
            "\n",
            "\n",
            "MULTIPLIER:  3\n",
            "Acc Score:  0.625\n",
            "                   Prompt Answer Output\n",
            "0  twelve eleven ten nine      8      8\n",
            "1   eleven ten nine eight      7      0\n",
            "2    ten nine eight seven      6      6\n",
            "3    nine eight seven six      5      0\n",
            "4    eight seven six five      4      0\n",
            "5     seven six five four      3      3\n",
            "6     six five four three      2      2\n",
            "7     five four three two      1      1\n",
            "\n",
            "\n"
          ]
        }
      ],
      "source": [
        "test_id = 5\n",
        "\n",
        "for i, df in enumerate(tables[test_id]):\n",
        "    print(\"MULTIPLIER: \", multp_list[i])\n",
        "    print(\"Acc Score: \", scores[test_id][i])\n",
        "    print(df) # display(df) ## display is too bulky\n",
        "    print('\\n')"
      ]
    },
    {
      "cell_type": "code",
      "execution_count": null,
      "metadata": {
        "colab": {
          "base_uri": "https://localhost:8080/"
        },
        "id": "CrHsve4MCjJx",
        "outputId": "52aaf398-aeb9-498a-a7fd-d1f4b26ea15e"
      },
      "outputs": [
        {
          "output_type": "stream",
          "name": "stdout",
          "text": [
            "MULTIPLIER:  1\n",
            "Acc Score:  1.0\n",
            "                    Prompt Answer Output\n",
            "0      uno dos tres cuatro      5      5\n",
            "1    dos tres cuatro cinco      6      6\n",
            "2   tres cuatro cinco seis      7      7\n",
            "3  cuatro cinco seis siete      8      8\n",
            "4    cinco seis siete ocho      9      9\n",
            "5    seis siete ocho nueve             0\n",
            "\n",
            "\n",
            "MULTIPLIER:  3\n",
            "Acc Score:  0.8\n",
            "                    Prompt Answer Output\n",
            "0      uno dos tres cuatro      5      5\n",
            "1    dos tres cuatro cinco      6      0\n",
            "2   tres cuatro cinco seis      7      7\n",
            "3  cuatro cinco seis siete      8      8\n",
            "4    cinco seis siete ocho      9      9\n",
            "5    seis siete ocho nueve             0\n",
            "\n",
            "\n"
          ]
        }
      ],
      "source": [
        "test_id = 6\n",
        "\n",
        "for i, df in enumerate(tables[test_id]):\n",
        "    print(\"MULTIPLIER: \", multp_list[i])\n",
        "    print(\"Acc Score: \", scores[test_id][i])\n",
        "    print(df) # display(df) ## display is too bulky\n",
        "    print('\\n')"
      ]
    },
    {
      "cell_type": "markdown",
      "metadata": {
        "id": "63qz69BCwIs8"
      },
      "source": [
        "## nonseq prompts"
      ]
    },
    {
      "cell_type": "code",
      "execution_count": null,
      "metadata": {
        "colab": {
          "base_uri": "https://localhost:8080/"
        },
        "id": "Nieyiim4v5Wd",
        "outputId": "92a9c831-b2ac-4691-a140-5a0d43f4c215"
      },
      "outputs": [
        {
          "output_type": "stream",
          "name": "stdout",
          "text": [
            "aa a a\n",
            "0\n",
            "I AM A CAT\n",
            "0\n",
            "Bob and Mary went to store\n",
            "0\n",
            "my favorite colour is\n",
            "0\n"
          ]
        }
      ],
      "source": [
        "nonseq_prompts = [ \"aa a a\", \"I AM A CAT\", \"Bob and Mary went to store\", \"my favorite colour is\"]\n",
        "steer_vec = mean_num_sv\n",
        "multp = 3\n",
        "\n",
        "for prompt in nonseq_prompts:\n",
        "    print(prompt)\n",
        "    steer_by_sae_lastTok(prompt, steer_vec, multp)"
      ]
    },
    {
      "cell_type": "code",
      "execution_count": null,
      "metadata": {
        "colab": {
          "base_uri": "https://localhost:8080/"
        },
        "id": "88it0ZosyK8F",
        "outputId": "b8c97c99-3bae-440a-c915-12483c0a7668"
      },
      "outputs": [
        {
          "output_type": "stream",
          "name": "stdout",
          "text": [
            "aa a a\n",
            "0\n",
            "I AM A CAT\n",
            "0\n",
            "Bob and Mary went to store\n",
            "0\n",
            "my favorite colour is\n",
            "0\n"
          ]
        }
      ],
      "source": [
        "nonseq_prompts = [ \"aa a a\", \"I AM A CAT\", \"Bob and Mary went to store\", \"my favorite colour is\"]\n",
        "steer_vec = mean_num_sv\n",
        "multp = 10\n",
        "\n",
        "for prompt in nonseq_prompts:\n",
        "    print(prompt)\n",
        "    steer_by_sae_lastTok(prompt, steer_vec, multp)"
      ]
    },
    {
      "cell_type": "markdown",
      "metadata": {
        "id": "USNcT_AKu4FB"
      },
      "source": [
        "# steer by LLM actvs"
      ]
    },
    {
      "cell_type": "markdown",
      "metadata": {
        "id": "7XgCRxxEDAKs"
      },
      "source": [
        "## get steering vec"
      ]
    },
    {
      "cell_type": "code",
      "execution_count": null,
      "metadata": {
        "colab": {
          "base_uri": "https://localhost:8080/"
        },
        "id": "YzumZ1FjvyNj",
        "outputId": "e9bf2127-a7e3-41f1-b204-b9e4f31180e9"
      },
      "outputs": [
        {
          "output_type": "execute_result",
          "data": {
            "text/plain": [
              "torch.Size([9, 2, 2304])"
            ]
          },
          "metadata": {},
          "execution_count": 59
        }
      ],
      "source": [
        "words = ['1', '2', '3', '4', '5', '6', '7', '8', '9']\n",
        "num_sv_samp = []\n",
        "for i in range(0, 9):\n",
        "    samp = f\"{words[i]}\"\n",
        "    num_sv_samp.append(samp)\n",
        "inputs = tokenizer(num_sv_samp, return_tensors=\"pt\", padding=True, truncation=True, max_length=300)['input_ids'].to(\"cuda\")\n",
        "target_act = gather_residual_activations(model_2, 20, inputs)\n",
        "target_act.shape"
      ]
    },
    {
      "cell_type": "code",
      "execution_count": null,
      "metadata": {
        "colab": {
          "base_uri": "https://localhost:8080/"
        },
        "id": "O6JGe-H9vso6",
        "outputId": "da598c4d-74b9-4079-e0a6-01523f711aee"
      },
      "outputs": [
        {
          "output_type": "execute_result",
          "data": {
            "text/plain": [
              "torch.Size([9, 2, 2304])"
            ]
          },
          "metadata": {},
          "execution_count": 60
        }
      ],
      "source": [
        "target_act.shape"
      ]
    },
    {
      "cell_type": "code",
      "execution_count": null,
      "metadata": {
        "colab": {
          "base_uri": "https://localhost:8080/"
        },
        "id": "W07x72fIvAcm",
        "outputId": "0b048c09-df4e-4253-b6ef-326f9420999b"
      },
      "outputs": [
        {
          "output_type": "execute_result",
          "data": {
            "text/plain": [
              "torch.Size([1, 2, 2304])"
            ]
          },
          "metadata": {},
          "execution_count": 61
        }
      ],
      "source": [
        "LLM_mean_num_sv = target_act.mean(dim=0)\n",
        "LLM_mean_num_sv = LLM_mean_num_sv.unsqueeze(0)\n",
        "LLM_mean_num_sv.shape"
      ]
    },
    {
      "cell_type": "markdown",
      "metadata": {
        "id": "nFP3L_ncDFng"
      },
      "source": [
        "## steer tests"
      ]
    },
    {
      "cell_type": "code",
      "execution_count": null,
      "metadata": {
        "id": "aYmT-fBXDFni"
      },
      "outputs": [],
      "source": [
        "%%capture\n",
        "multp_list = [1, 3]\n",
        "LLM_tables, LLM_scores = run_tests_steer_actvs(LLM_mean_num_sv, multp_list, 'LLM')"
      ]
    },
    {
      "cell_type": "code",
      "execution_count": null,
      "metadata": {
        "id": "JAOaAaiZEbJf"
      },
      "outputs": [],
      "source": [
        "tables = LLM_tables\n",
        "scores = LLM_scores"
      ]
    },
    {
      "cell_type": "code",
      "execution_count": null,
      "metadata": {
        "colab": {
          "base_uri": "https://localhost:8080/"
        },
        "id": "KssuunRNDFni",
        "outputId": "a69bfdb0-9a5f-4b93-d8b8-dcc5dfd5a8d2"
      },
      "outputs": [
        {
          "output_type": "stream",
          "name": "stdout",
          "text": [
            "MULTIPLIER:  1\n",
            "Acc Score:  1.0\n",
            "                   Prompt Answer Output\n",
            "0      one two three four      5      5\n",
            "1     two three four five      6      6\n",
            "2     three four five six      7      7\n",
            "3     four five six seven      8      8\n",
            "4    five six seven eight      9      9\n",
            "5    six seven eight nine             .\n",
            "6    seven eight nine ten              \n",
            "7   eight nine ten eleven             .\n",
            "8  nine ten eleven twelve             3\n",
            "\n",
            "\n",
            "MULTIPLIER:  3\n",
            "Acc Score:  0.8\n",
            "                   Prompt Answer Output\n",
            "0      one two three four      5      5\n",
            "1     two three four five      6       \n",
            "2     three four five six      7      7\n",
            "3     four five six seven      8      8\n",
            "4    five six seven eight      9      9\n",
            "5    six seven eight nine             0\n",
            "6    seven eight nine ten              \n",
            "7   eight nine ten eleven              \n",
            "8  nine ten eleven twelve              \n",
            "\n",
            "\n"
          ]
        }
      ],
      "source": [
        "test_id = 0\n",
        "\n",
        "for i, df in enumerate(tables[test_id]):\n",
        "    print(\"MULTIPLIER: \", multp_list[i])\n",
        "    print(\"Acc Score: \", scores[test_id][i])\n",
        "    print(df) # display(df) ## display is too bulky\n",
        "    print('\\n')"
      ]
    },
    {
      "cell_type": "code",
      "execution_count": null,
      "metadata": {
        "colab": {
          "base_uri": "https://localhost:8080/"
        },
        "id": "kz5sNRVjDFni",
        "outputId": "d2010d0f-32ad-45a2-a36b-6ed995104e57"
      },
      "outputs": [
        {
          "output_type": "stream",
          "name": "stdout",
          "text": [
            "MULTIPLIER:  1\n",
            "Acc Score:  0.0\n",
            "                         Prompt Answer      Output\n",
            "0  January February March April      5         May\n",
            "1      February March April May      6        June\n",
            "2          March April May June      7        July\n",
            "3           April May June July      8      August\n",
            "4          May June July August      9   September\n",
            "\n",
            "\n",
            "MULTIPLIER:  3\n",
            "Acc Score:  0.2\n",
            "                         Prompt Answer Output\n",
            "0  January February March April      5      5\n",
            "1      February March April May      6       \n",
            "2          March April May June      7       \n",
            "3           April May June July      8       \n",
            "4          May June July August      9       \n",
            "\n",
            "\n"
          ]
        }
      ],
      "source": [
        "test_id = 1\n",
        "\n",
        "for i, df in enumerate(tables[test_id]):\n",
        "    print(\"MULTIPLIER: \", multp_list[i])\n",
        "    print(\"Acc Score: \", scores[test_id][i])\n",
        "    print(df) # display(df) ## display is too bulky\n",
        "    print('\\n')"
      ]
    },
    {
      "cell_type": "code",
      "execution_count": null,
      "metadata": {
        "colab": {
          "base_uri": "https://localhost:8080/"
        },
        "id": "qeNtjEG3DFni",
        "outputId": "98c21ddd-a9dd-4118-f482-32639ccac2c9"
      },
      "outputs": [
        {
          "output_type": "stream",
          "name": "stdout",
          "text": [
            "MULTIPLIER:  1\n",
            "Acc Score:  0.0\n",
            "                       Prompt Answer     Output\n",
            "0    Monday Tuesday Wednesday      4   Thursday\n",
            "1  Tuesday Wednesday Thursday      5     Friday\n",
            "2   Wednesday Thursday Friday      6           \n",
            "3    Thursday Friday Saturday                  \n",
            "4      Friday Saturday Sunday                 .\n",
            "\n",
            "\n",
            "MULTIPLIER:  3\n",
            "Acc Score:  0.3333333333333333\n",
            "                       Prompt Answer Output\n",
            "0    Monday Tuesday Wednesday      4      4\n",
            "1  Tuesday Wednesday Thursday      5       \n",
            "2   Wednesday Thursday Friday      6       \n",
            "3    Thursday Friday Saturday              \n",
            "4      Friday Saturday Sunday              \n",
            "\n",
            "\n"
          ]
        }
      ],
      "source": [
        "test_id = 2\n",
        "\n",
        "for i, df in enumerate(tables[test_id]):\n",
        "    print(\"MULTIPLIER: \", multp_list[i])\n",
        "    print(\"Acc Score: \", scores[test_id][i])\n",
        "    print(df) # display(df) ## display is too bulky\n",
        "    print('\\n')"
      ]
    },
    {
      "cell_type": "code",
      "execution_count": null,
      "metadata": {
        "colab": {
          "base_uri": "https://localhost:8080/"
        },
        "id": "pEpGMcBiDFni",
        "outputId": "b7e58978-09c8-43c4-99b0-a9557a30122d"
      },
      "outputs": [
        {
          "output_type": "stream",
          "name": "stdout",
          "text": [
            "MULTIPLIER:  1\n",
            "Acc Score:  0.0\n",
            "                            Prompt Answer      Output\n",
            "0     Today is Monday, tomorrow is      2     Tuesday\n",
            "1    Today is Tuesday, tomorrow is      3   Wednesday\n",
            "2  Today is Wednesday, tomorrow is      4    Thursday\n",
            "3   Today is Thursday, tomorrow is      5      Friday\n",
            "4     Today is Friday, tomorrow is      6    Saturday\n",
            "5   Today is Saturday, tomorrow is             Sunday\n",
            "\n",
            "\n",
            "MULTIPLIER:  3\n",
            "Acc Score:  0.4\n",
            "                            Prompt Answer Output\n",
            "0     Today is Monday, tomorrow is      2       \n",
            "1    Today is Tuesday, tomorrow is      3       \n",
            "2  Today is Wednesday, tomorrow is      4      4\n",
            "3   Today is Thursday, tomorrow is      5      5\n",
            "4     Today is Friday, tomorrow is      6       \n",
            "5   Today is Saturday, tomorrow is              \n",
            "\n",
            "\n"
          ]
        }
      ],
      "source": [
        "test_id = 3\n",
        "\n",
        "for i, df in enumerate(tables[test_id]):\n",
        "    print(\"MULTIPLIER: \", multp_list[i])\n",
        "    print(\"Acc Score: \", scores[test_id][i])\n",
        "    print(df) # display(df) ## display is too bulky\n",
        "    print('\\n')"
      ]
    },
    {
      "cell_type": "code",
      "execution_count": null,
      "metadata": {
        "colab": {
          "base_uri": "https://localhost:8080/"
        },
        "id": "SRdZDSyiDFni",
        "outputId": "7ccf3345-29f8-4110-d4c7-667fee332d5c"
      },
      "outputs": [
        {
          "output_type": "stream",
          "name": "stdout",
          "text": [
            "MULTIPLIER:  1\n",
            "Acc Score:  0.0\n",
            "                                  Prompt Answer      Output\n",
            "0   This month is January, next month is      2    February\n",
            "1  This month is February, next month is      3       March\n",
            "2     This month is March, next month is      4       April\n",
            "3     This month is April, next month is      5         May\n",
            "4       This month is May, next month is      6        June\n",
            "5      This month is June, next month is      7        July\n",
            "6      This month is July, next month is      8      August\n",
            "7    This month is August, next month is      9   September\n",
            "\n",
            "\n",
            "MULTIPLIER:  3\n",
            "Acc Score:  1.0\n",
            "                                  Prompt Answer Output\n",
            "0   This month is January, next month is      2      2\n",
            "1  This month is February, next month is      3      3\n",
            "2     This month is March, next month is      4      4\n",
            "3     This month is April, next month is      5      5\n",
            "4       This month is May, next month is      6      6\n",
            "5      This month is June, next month is      7      7\n",
            "6      This month is July, next month is      8      8\n",
            "7    This month is August, next month is      9      9\n",
            "\n",
            "\n"
          ]
        }
      ],
      "source": [
        "test_id = 4\n",
        "\n",
        "for i, df in enumerate(tables[test_id]):\n",
        "    print(\"MULTIPLIER: \", multp_list[i])\n",
        "    print(\"Acc Score: \", scores[test_id][i])\n",
        "    print(df) # display(df) ## display is too bulky\n",
        "    print('\\n')"
      ]
    },
    {
      "cell_type": "code",
      "execution_count": null,
      "metadata": {
        "colab": {
          "base_uri": "https://localhost:8080/"
        },
        "id": "_ItGP2n5DFnj",
        "outputId": "e04dfc62-041b-4d10-ef6b-0047b7bd332c"
      },
      "outputs": [
        {
          "output_type": "stream",
          "name": "stdout",
          "text": [
            "MULTIPLIER:  1\n",
            "Acc Score:  0.75\n",
            "                   Prompt Answer Output\n",
            "0  twelve eleven ten nine      8      8\n",
            "1   eleven ten nine eight      7      7\n",
            "2    ten nine eight seven      6      6\n",
            "3    nine eight seven six      5       \n",
            "4    eight seven six five      4       \n",
            "5     seven six five four      3      3\n",
            "6     six five four three      2      2\n",
            "7     five four three two      1      1\n",
            "\n",
            "\n",
            "MULTIPLIER:  3\n",
            "Acc Score:  0.5\n",
            "                   Prompt Answer Output\n",
            "0  twelve eleven ten nine      8      8\n",
            "1   eleven ten nine eight      7       \n",
            "2    ten nine eight seven      6       \n",
            "3    nine eight seven six      5      0\n",
            "4    eight seven six five      4       \n",
            "5     seven six five four      3      3\n",
            "6     six five four three      2      2\n",
            "7     five four three two      1      1\n",
            "\n",
            "\n"
          ]
        }
      ],
      "source": [
        "test_id = 5\n",
        "\n",
        "for i, df in enumerate(tables[test_id]):\n",
        "    print(\"MULTIPLIER: \", multp_list[i])\n",
        "    print(\"Acc Score: \", scores[test_id][i])\n",
        "    print(df) # display(df) ## display is too bulky\n",
        "    print('\\n')"
      ]
    },
    {
      "cell_type": "code",
      "execution_count": null,
      "metadata": {
        "colab": {
          "base_uri": "https://localhost:8080/"
        },
        "id": "dCZDWHQADFnj",
        "outputId": "8e4378a1-9176-4578-d3a4-3e910ef6edf0"
      },
      "outputs": [
        {
          "output_type": "stream",
          "name": "stdout",
          "text": [
            "MULTIPLIER:  1\n",
            "Acc Score:  0.8\n",
            "                    Prompt Answer Output\n",
            "0      uno dos tres cuatro      5      5\n",
            "1    dos tres cuatro cinco      6      .\n",
            "2   tres cuatro cinco seis      7      7\n",
            "3  cuatro cinco seis siete      8      8\n",
            "4    cinco seis siete ocho      9      9\n",
            "5    seis siete ocho nueve             0\n",
            "\n",
            "\n",
            "MULTIPLIER:  3\n",
            "Acc Score:  0.8\n",
            "                    Prompt Answer Output\n",
            "0      uno dos tres cuatro      5      5\n",
            "1    dos tres cuatro cinco      6       \n",
            "2   tres cuatro cinco seis      7      7\n",
            "3  cuatro cinco seis siete      8      8\n",
            "4    cinco seis siete ocho      9      9\n",
            "5    seis siete ocho nueve             0\n",
            "\n",
            "\n"
          ]
        }
      ],
      "source": [
        "test_id = 6\n",
        "\n",
        "for i, df in enumerate(tables[test_id]):\n",
        "    print(\"MULTIPLIER: \", multp_list[i])\n",
        "    print(\"Acc Score: \", scores[test_id][i])\n",
        "    print(df) # display(df) ## display is too bulky\n",
        "    print('\\n')"
      ]
    },
    {
      "cell_type": "markdown",
      "metadata": {
        "id": "olrffCNTDFnj"
      },
      "source": [
        "## nonseq prompts"
      ]
    },
    {
      "cell_type": "code",
      "execution_count": null,
      "metadata": {
        "colab": {
          "base_uri": "https://localhost:8080/"
        },
        "id": "U63BrUIYDFnj",
        "outputId": "b435f7d4-9690-4fd3-927e-c8174f94a848"
      },
      "outputs": [
        {
          "output_type": "stream",
          "name": "stdout",
          "text": [
            "aa a a\n",
            " \n",
            "I AM A CAT\n",
            "0\n",
            "Bob and Mary went to store\n",
            "0\n",
            "my favorite colour is\n",
            " \n"
          ]
        }
      ],
      "source": [
        "nonseq_prompts = [ \"aa a a\", \"I AM A CAT\", \"Bob and Mary went to store\", \"my favorite colour is\"]\n",
        "steer_vec = LLM_mean_num_sv\n",
        "multp = 3\n",
        "\n",
        "for prompt in nonseq_prompts:\n",
        "    print(prompt)\n",
        "    steer_by_LLM_lastTok(prompt, steer_vec, multp)"
      ]
    },
    {
      "cell_type": "code",
      "execution_count": null,
      "metadata": {
        "colab": {
          "base_uri": "https://localhost:8080/"
        },
        "id": "A5jKOB_jDFnj",
        "outputId": "28a00c09-4331-4e2f-adae-98fd029c7d31"
      },
      "outputs": [
        {
          "output_type": "stream",
          "name": "stdout",
          "text": [
            "aa a a\n",
            " \n",
            "I AM A CAT\n",
            " \n",
            "Bob and Mary went to store\n",
            " \n",
            "my favorite colour is\n",
            " \n"
          ]
        }
      ],
      "source": [
        "nonseq_prompts = [ \"aa a a\", \"I AM A CAT\", \"Bob and Mary went to store\", \"my favorite colour is\"]\n",
        "steer_vec = LLM_mean_num_sv\n",
        "multp = 10\n",
        "\n",
        "for prompt in nonseq_prompts:\n",
        "    print(prompt)\n",
        "    steer_by_LLM_lastTok(prompt, steer_vec, multp)"
      ]
    },
    {
      "cell_type": "markdown",
      "metadata": {
        "id": "sTflU6OQGGGB"
      },
      "source": [
        "# steer by ablated recon LLM SV"
      ]
    },
    {
      "cell_type": "markdown",
      "metadata": {
        "id": "Gy1lvKce8DDt"
      },
      "source": [
        "decompose the LLM steering vec"
      ]
    },
    {
      "cell_type": "markdown",
      "source": [
        "## choose which features to ablate"
      ],
      "metadata": {
        "id": "fvLKNmlqN49g"
      }
    },
    {
      "cell_type": "code",
      "execution_count": null,
      "metadata": {
        "colab": {
          "base_uri": "https://localhost:8080/"
        },
        "id": "uBkRamsQ-HgN",
        "outputId": "f9d2118c-8941-4e61-e2c2-b2e5c5b48f4c"
      },
      "outputs": [
        {
          "output_type": "execute_result",
          "data": {
            "text/plain": [
              "torch.Size([1, 2, 2304])"
            ]
          },
          "metadata": {},
          "execution_count": 73
        }
      ],
      "source": [
        "words = ['1', '2', '3', '4', '5', '6', '7', '8', '9']\n",
        "num_sv_samp = []\n",
        "for i in range(0, 9):\n",
        "    samp = f\"{words[i]}\"\n",
        "    num_sv_samp.append(samp)\n",
        "inputs = tokenizer(num_sv_samp, return_tensors=\"pt\", padding=True, truncation=True, max_length=300)['input_ids'].to(\"cuda\")\n",
        "target_act = gather_residual_activations(model_2, 20, inputs)\n",
        "\n",
        "LLM_mean_num_sv = target_act.mean(dim=0)\n",
        "LLM_mean_num_sv = LLM_mean_num_sv.unsqueeze(0)\n",
        "LLM_mean_num_sv.shape"
      ]
    },
    {
      "cell_type": "code",
      "execution_count": null,
      "metadata": {
        "id": "t6piaCl9-1cX"
      },
      "outputs": [],
      "source": [
        "# decompose LLM steering vec\n",
        "sae_LLM_mean_num_sv = sae.encode(LLM_mean_num_sv.to(torch.float32))"
      ]
    },
    {
      "cell_type": "code",
      "execution_count": null,
      "metadata": {
        "id": "tSXAEOeI-FDN"
      },
      "outputs": [],
      "source": [
        "feat_k = 100\n",
        "one_top_acts_values, one_top_acts_indices = sae_LLM_mean_num_sv[0, -1, :].topk(feat_k, dim=-1)"
      ]
    },
    {
      "cell_type": "code",
      "execution_count": null,
      "metadata": {
        "colab": {
          "base_uri": "https://localhost:8080/"
        },
        "id": "rH7JGcYv-FDN",
        "outputId": "d1fce28e-3d89-4270-f65b-a1b98d4aae52"
      },
      "outputs": [
        {
          "output_type": "stream",
          "name": "stdout",
          "text": [
            "Rank 1 150.08 13528 numeric values indicating measurements or quantities\n",
            "Rank 2 85.52 11527 the start of a document\n",
            "Rank 3 34.95 9768 terms related to control and authority, particularly in political or systemic contexts\n",
            "Rank 4 34.94 8684  technical jargon and programming-related terms\n",
            "Rank 5 33.51 140  instances of the word \"in\"\n",
            "Rank 6 30.88 833 the numerical values indicating measurements or assessments\n",
            "Rank 7 29.39 11174  numeric identifiers or values in a structured format\n",
            "Rank 8 21.73 2437  patterns related to numerical information, particularly involving the number four\n",
            "Rank 9 21.67 6305 mathematical expressions and notations used in equations and proofs\n",
            "Rank 10 15.29 3019  elements related to operational or procedural contexts in a structured format\n",
            "Rank 11 10.28 11795 the phrase \"The\" at the start of sentences\n",
            "Rank 12 9.78 745  sequences of numerical values\n",
            "Rank 13 9.0 3435  numeric values, particularly related to technology specifications or measurements\n",
            "Rank 14 8.33 1344 lists and resources for educational purposes\n",
            "Rank 15 7.86 16175 numeric identifiers or codes, particularly in a structured format or specification\n",
            "Rank 16 0.0 0 mentions of the letter 'Z' and variations of 'Z' in different contexts\n",
            "Rank 17 0.0 1 phrases emphasizing continuity or progression in narratives\n",
            "Rank 18 0.0 2 elements related to interviews and interrogation processes\n",
            "Rank 19 0.0 3 instances of the verb \"to be\" in various forms\n",
            "Rank 20 0.0 4  temporal references such as days, weeks, months, or years\n",
            "Rank 21 0.0 5 words related to trends and patterns in various contexts\n",
            "Rank 22 0.0 6 references to television talent shows and their judges\n",
            "Rank 23 0.0 7 conjunctions and transitional phrases that signify contrast or condition\n",
            "Rank 24 0.0 8  programming-related constructs and structures\n",
            "Rank 25 0.0 9 words and phrases associated with conflict and physical confrontations\n",
            "Rank 26 0.0 10 terms related to confirmation and verification processes\n",
            "Rank 27 0.0 11 terms related to applications and industries, especially in the context of materials and products\n",
            "Rank 28 0.0 12  import statements in programming code\n",
            "Rank 29 0.0 13  phrases related to missed opportunities or regrets\n",
            "Rank 30 0.0 14  mentions of logarithmic or related mathematical concepts\n",
            "Rank 31 0.0 15  mathematical expressions and operations\n",
            "Rank 32 0.0 16 dates and times related to a specific event.\n",
            "Rank 33 0.0 17  structured data or programming code elements\n",
            "Rank 34 0.0 18  numerical data and associated values\n",
            "Rank 35 0.0 19  terminology related to academic research and analysis methods\n",
            "Rank 36 0.0 20  instances of possessive pronouns or possessive constructions\n",
            "Rank 37 0.0 21 terms related to agricultural practices and research\n",
            "Rank 38 0.0 22  references to the React library and its components\n",
            "Rank 39 0.0 23 references to the name \"Jonathan\" and variations of \"Jon.\"\n",
            "Rank 40 0.0 24  terms related to \"coroner\" and associated medical investigations\n",
            "Rank 41 0.0 25 references to issued equipment or supplies\n",
            "Rank 42 0.0 26  terms related to leadership styles and their effects on workplace dynamics\n",
            "Rank 43 0.0 27 mathematical symbols and constructs\n",
            "Rank 44 0.0 28 location and administrative division references\n",
            "Rank 45 0.0 29  phrases indicating various purposes and uses of information or actions\n",
            "Rank 46 0.0 30 terms and references associated with political and social organizations\n",
            "Rank 47 0.0 31 punctuation marks and special symbols often found in written texts\n",
            "Rank 48 0.0 32  mathematical symbols and notation typically used in equations or algorithms\n",
            "Rank 49 0.0 33 terms related to research methodologies and data analysis in scientific studies\n",
            "Rank 50 0.0 34 words and phrases associated with conjunctions and connections between ideas\n",
            "Rank 51 0.0 35 references to the verb \"be\" in various contexts\n",
            "Rank 52 0.0 36 words or roots related to specific dependencies or components in a software or programming context\n",
            "Rank 53 0.0 37  punctuated phrases and statements\n",
            "Rank 54 0.0 38 modal verbs and their usage in sentences\n",
            "Rank 55 0.0 39 details about product features and specifications\n",
            "Rank 56 0.0 40 phrases related to hybrid combinations of concepts or elements in various contexts\n",
            "Rank 57 0.0 41 phrases related to family relationships and marital status\n",
            "Rank 58 0.0 42 terms related to medical treatment options and their effectiveness\n",
            "Rank 59 0.0 43  references to the number and types of bedrooms in housing descriptions\n",
            "Rank 60 0.0 44  information about public events and their details\n",
            "Rank 61 0.0 45  indicators of medical conditions and pregnancy-related terms\n",
            "Rank 62 0.0 46 technical terms related to electrical engineering, specifically voltages and their applications\n",
            "Rank 63 0.0 47 elements related to personalization and creative expression in writing\n",
            "Rank 64 0.0 48 references to being \"behind\" something, particularly in contexts implying secrecy or concealment\n",
            "Rank 65 0.0 49 terms related to health assessments and healthcare recommendations\n",
            "Rank 66 0.0 50 affirmative statements or expressions of belief in various contexts\n",
            "Rank 67 0.0 51 technical terms and references related to software, particularly those involving commands and configurations\n",
            "Rank 68 0.0 52  concepts related to problem-solving and improvement in various contexts\n",
            "Rank 69 0.0 53 expressions or phrases related to responses and feedback in communication contexts\n",
            "Rank 70 0.0 54 references to firms and films\n",
            "Rank 71 0.0 55  terms related to literature and literary works\n",
            "Rank 72 0.0 56 phrases related to beliefs and religion\n",
            "Rank 73 0.0 57 terms related to principal component analysis (PCA) and data analysis in biological contexts\n",
            "Rank 74 0.0 58  punctuation and formatting markers in the text\n",
            "Rank 75 0.0 59  references to programming and code-related operations or functions\n",
            "Rank 76 0.0 60 elements related to color and finish in product descriptions\n",
            "Rank 77 0.0 61 technical specifications or detailed measurements\n",
            "Rank 78 0.0 62 terms related to academic or scholarly context\n",
            "Rank 79 0.0 63 terms related to the lifespan and durability of products\n",
            "Rank 80 0.0 64 blocks of whitespace or specific formatting characters\n",
            "Rank 81 0.0 65  keywords related to access modifiers in programming\n",
            "Rank 82 0.0 66  keywords and structural elements related to Python modules and functions\n",
            "Rank 83 0.0 67 references to levels of difficulty in games, learning environments, or challenges\n",
            "Rank 84 0.0 68 expressions related to enjoyment and fun\n",
            "Rank 85 0.0 69  expressions of inability or negation\n",
            "Rank 86 0.0 70 situations involving blame and accountability\n",
            "Rank 87 0.0 71 specific programming or technical terms associated with network protocols and programming languages\n",
            "Rank 88 0.0 72 mathematical symbols and notations related to matrices and linear algebra\n",
            "Rank 89 0.0 73 references to healthcare services and clients in need of assistance\n",
            "Rank 90 0.0 74 terms related to biological research and animal studies\n",
            "Rank 91 0.0 75 narrative elements related to sequence or order, such as first, second, third, and their context in various contents\n",
            "Rank 92 0.0 76 terms related to distribution and its variations\n",
            "Rank 93 0.0 77 code structures and functions related to email protocols and authentication\n",
            "Rank 94 0.0 78 elements related to HTML structure and navigation components\n",
            "Rank 95 0.0 79 technical terms and code-related keywords\n",
            "Rank 96 0.0 80 terms related to exceptions and error handling in programming\n",
            "Rank 97 0.0 81 terms related to extensions and their variations in context\n",
            "Rank 98 0.0 82  code constructs related to counting and index manipulation\n",
            "Rank 99 0.0 83 terms related to linear functions and their properties\n",
            "Rank 100 0.0 84  specific numeric or structural data points in a technical context\n"
          ]
        }
      ],
      "source": [
        "rank = 1\n",
        "for val, ind in zip(one_top_acts_values, one_top_acts_indices):\n",
        "    print(f\"Rank {rank}\", round(val.item(), 2), ind.item(), feat_labels_lst[ind])\n",
        "    rank += 1"
      ]
    },
    {
      "cell_type": "markdown",
      "metadata": {
        "id": "bOL8GZLs_Mg7"
      },
      "source": [
        "These are nonzero:\n",
        "- Rank 1 150.1 13528 numeric values indicating measurements or quantities\n",
        "- Rank 2 85.52 11527 the start of a document\n",
        "- Rank 3 34.94 9768 terms related to control and authority, particularly in political or systemic contexts\n",
        "- Rank 4 34.91 8684  technical jargon and programming-related terms\n",
        "- Rank 5 33.51 140  instances of the word \"in\"\n",
        "- Rank 6 30.87 833 the numerical values indicating measurements or assessments\n",
        "- Rank 7 29.39 11174  numeric identifiers or values in a structured format\n",
        "- Rank 8 21.74 2437  patterns related to numerical information, particularly involving the number four\n",
        "- Rank 9 21.66 6305 mathematical expressions and notations used in equations and proofs\n",
        "- Rank 10 15.28 3019  elements related to operational or procedural contexts in a structured format\n",
        "- Rank 11 10.27 11795 the phrase \"The\" at the start of sentences\n",
        "- Rank 12 9.79 745  sequences of numerical values\n",
        "- Rank 13 9.0 3435  numeric values, particularly related to technology specifications or measurements\n",
        "- Rank 14 8.34 1344 lists and resources for educational purposes\n",
        "- Rank 15 7.86 16175 numeric identifiers or codes, particularly in a structured format or specification\n",
        "\n",
        "Try ablating the following:\n",
        "- Rank 2 85.52 11527 the start of a document\n",
        "- Rank 3 34.94 9768 terms related to control and authority, particularly in political or systemic contexts\n",
        "- Rank 4 34.91 8684  technical jargon and programming-related terms\n",
        "- Rank 5 33.51 140  instances of the word \"in\"\n",
        "- Rank 10 15.28 3019  elements related to operational or procedural contexts in a structured format\n",
        "- Rank 11 10.27 11795 the phrase \"The\" at the start of sentences\n",
        "\n"
      ]
    },
    {
      "cell_type": "markdown",
      "metadata": {
        "id": "nzdi5GFIA0iM"
      },
      "source": [
        "## ablate then recon to steer"
      ]
    },
    {
      "cell_type": "code",
      "execution_count": null,
      "metadata": {
        "id": "uujRBf95Bz7J"
      },
      "outputs": [],
      "source": [
        "abl_sae_LLM_mean_num_sv = torch.clone(sae_LLM_mean_num_sv)\n",
        "\n",
        "feats_to_ablate = [11527, 9768, 8684, 140, 3019, 11795]\n",
        "\n",
        "for fInd in feats_to_ablate:\n",
        "    abl_sae_LLM_mean_num_sv[:, -1, fInd] = 0"
      ]
    },
    {
      "cell_type": "code",
      "execution_count": null,
      "metadata": {
        "colab": {
          "base_uri": "https://localhost:8080/"
        },
        "id": "n3bJR_O4CLVl",
        "outputId": "12484e27-fc55-4b58-fcbd-c9f0be377822"
      },
      "outputs": [
        {
          "output_type": "execute_result",
          "data": {
            "text/plain": [
              "torch.Size([1, 2, 2304])"
            ]
          },
          "metadata": {},
          "execution_count": 78
        }
      ],
      "source": [
        "recon_abl_sae_LLM_mean_num_sv = sae.decode(abl_sae_LLM_mean_num_sv)\n",
        "recon_abl_sae_LLM_mean_num_sv.shape"
      ]
    },
    {
      "cell_type": "markdown",
      "metadata": {
        "id": "wuXfy_TtGaey"
      },
      "source": [
        "## steer ablated recon in LLM space"
      ]
    },
    {
      "cell_type": "code",
      "execution_count": null,
      "metadata": {
        "id": "cgbRoZICGae4"
      },
      "outputs": [],
      "source": [
        "%%capture\n",
        "multp_list = [1, 3]\n",
        "LLMsp_abl_LLM_tables, LLMsp_abl_LLM_scores = run_tests_steer_actvs(recon_abl_sae_LLM_mean_num_sv, multp_list, 'LLM')"
      ]
    },
    {
      "cell_type": "code",
      "execution_count": null,
      "metadata": {
        "id": "mf_WBIg7Gae5"
      },
      "outputs": [],
      "source": [
        "tables = LLMsp_abl_LLM_tables\n",
        "scores = LLMsp_abl_LLM_scores"
      ]
    },
    {
      "cell_type": "code",
      "execution_count": null,
      "metadata": {
        "colab": {
          "base_uri": "https://localhost:8080/"
        },
        "outputId": "1545fede-4c0e-4560-95ef-fb1cd29ac64b",
        "id": "ZAmunrRCGae5"
      },
      "outputs": [
        {
          "output_type": "stream",
          "name": "stdout",
          "text": [
            "MULTIPLIER:  1\n",
            "Acc Score:  0.0\n",
            "                   Prompt Answer  Output\n",
            "0      one two three four      5        \n",
            "1     two three four five      6        \n",
            "2     three four five six      7        \n",
            "3     four five six seven      8   eight\n",
            "4    five six seven eight      9    nine\n",
            "5    six seven eight nine               \n",
            "6    seven eight nine ten               \n",
            "7   eight nine ten eleven               \n",
            "8  nine ten eleven twelve               \n",
            "\n",
            "\n",
            "MULTIPLIER:  3\n",
            "Acc Score:  0.0\n",
            "                   Prompt Answer Output\n",
            "0      one two three four      5       \n",
            "1     two three four five      6       \n",
            "2     three four five six      7       \n",
            "3     four five six seven      8       \n",
            "4    five six seven eight      9       \n",
            "5    six seven eight nine              \n",
            "6    seven eight nine ten              \n",
            "7   eight nine ten eleven              \n",
            "8  nine ten eleven twelve              \n",
            "\n",
            "\n"
          ]
        }
      ],
      "source": [
        "test_id = 0\n",
        "\n",
        "for i, df in enumerate(tables[test_id]):\n",
        "    print(\"MULTIPLIER: \", multp_list[i])\n",
        "    print(\"Acc Score: \", scores[test_id][i])\n",
        "    print(df) # display(df) ## display is too bulky\n",
        "    print('\\n')"
      ]
    },
    {
      "cell_type": "code",
      "execution_count": null,
      "metadata": {
        "colab": {
          "base_uri": "https://localhost:8080/"
        },
        "outputId": "1bdac802-cb9c-4e92-a295-77b5bab7a42d",
        "id": "AWu3wKqiGae5"
      },
      "outputs": [
        {
          "output_type": "stream",
          "name": "stdout",
          "text": [
            "MULTIPLIER:  1\n",
            "Acc Score:  0.0\n",
            "                         Prompt Answer   Output\n",
            "0  January February March April      5      May\n",
            "1      February March April May      6     June\n",
            "2          March April May June      7         \n",
            "3           April May June July      8   August\n",
            "4          May June July August      9         \n",
            "\n",
            "\n",
            "MULTIPLIER:  3\n",
            "Acc Score:  0.0\n",
            "                         Prompt Answer Output\n",
            "0  January February March April      5       \n",
            "1      February March April May      6       \n",
            "2          March April May June      7       \n",
            "3           April May June July      8       \n",
            "4          May June July August      9       \n",
            "\n",
            "\n"
          ]
        }
      ],
      "source": [
        "test_id = 1\n",
        "\n",
        "for i, df in enumerate(tables[test_id]):\n",
        "    print(\"MULTIPLIER: \", multp_list[i])\n",
        "    print(\"Acc Score: \", scores[test_id][i])\n",
        "    print(df) # display(df) ## display is too bulky\n",
        "    print('\\n')"
      ]
    },
    {
      "cell_type": "code",
      "execution_count": null,
      "metadata": {
        "colab": {
          "base_uri": "https://localhost:8080/"
        },
        "outputId": "65097ba7-0fdc-4b59-e6e3-241834fe6a9f",
        "id": "FmEGeYpTGae5"
      },
      "outputs": [
        {
          "output_type": "stream",
          "name": "stdout",
          "text": [
            "MULTIPLIER:  1\n",
            "Acc Score:  0.0\n",
            "                       Prompt Answer     Output\n",
            "0    Monday Tuesday Wednesday      4   Thursday\n",
            "1  Tuesday Wednesday Thursday      5     Friday\n",
            "2   Wednesday Thursday Friday      6           \n",
            "3    Thursday Friday Saturday                  \n",
            "4      Friday Saturday Sunday                  \n",
            "\n",
            "\n",
            "MULTIPLIER:  3\n",
            "Acc Score:  0.0\n",
            "                       Prompt Answer Output\n",
            "0    Monday Tuesday Wednesday      4       \n",
            "1  Tuesday Wednesday Thursday      5       \n",
            "2   Wednesday Thursday Friday      6       \n",
            "3    Thursday Friday Saturday              \n",
            "4      Friday Saturday Sunday              \n",
            "\n",
            "\n"
          ]
        }
      ],
      "source": [
        "test_id = 2\n",
        "\n",
        "for i, df in enumerate(tables[test_id]):\n",
        "    print(\"MULTIPLIER: \", multp_list[i])\n",
        "    print(\"Acc Score: \", scores[test_id][i])\n",
        "    print(df) # display(df) ## display is too bulky\n",
        "    print('\\n')"
      ]
    },
    {
      "cell_type": "code",
      "execution_count": null,
      "metadata": {
        "colab": {
          "base_uri": "https://localhost:8080/"
        },
        "outputId": "dece9a42-5f59-4e8a-fd40-fca8cb0971fc",
        "id": "dH5mJxvFGae5"
      },
      "outputs": [
        {
          "output_type": "stream",
          "name": "stdout",
          "text": [
            "MULTIPLIER:  1\n",
            "Acc Score:  0.0\n",
            "                            Prompt Answer      Output\n",
            "0     Today is Monday, tomorrow is      2     Tuesday\n",
            "1    Today is Tuesday, tomorrow is      3   Wednesday\n",
            "2  Today is Wednesday, tomorrow is      4    Thursday\n",
            "3   Today is Thursday, tomorrow is      5      Friday\n",
            "4     Today is Friday, tomorrow is      6    Saturday\n",
            "5   Today is Saturday, tomorrow is             Sunday\n",
            "\n",
            "\n",
            "MULTIPLIER:  3\n",
            "Acc Score:  0.0\n",
            "                            Prompt Answer Output\n",
            "0     Today is Monday, tomorrow is      2       \n",
            "1    Today is Tuesday, tomorrow is      3       \n",
            "2  Today is Wednesday, tomorrow is      4       \n",
            "3   Today is Thursday, tomorrow is      5       \n",
            "4     Today is Friday, tomorrow is      6       \n",
            "5   Today is Saturday, tomorrow is              \n",
            "\n",
            "\n"
          ]
        }
      ],
      "source": [
        "test_id = 3\n",
        "\n",
        "for i, df in enumerate(tables[test_id]):\n",
        "    print(\"MULTIPLIER: \", multp_list[i])\n",
        "    print(\"Acc Score: \", scores[test_id][i])\n",
        "    print(df) # display(df) ## display is too bulky\n",
        "    print('\\n')"
      ]
    },
    {
      "cell_type": "code",
      "execution_count": null,
      "metadata": {
        "colab": {
          "base_uri": "https://localhost:8080/"
        },
        "outputId": "9a474ff3-1b58-4226-cdd4-b27d52403451",
        "id": "Joe4JMmXGae6"
      },
      "outputs": [
        {
          "output_type": "stream",
          "name": "stdout",
          "text": [
            "MULTIPLIER:  1\n",
            "Acc Score:  0.0\n",
            "                                  Prompt Answer      Output\n",
            "0   This month is January, next month is      2    February\n",
            "1  This month is February, next month is      3       March\n",
            "2     This month is March, next month is      4       April\n",
            "3     This month is April, next month is      5         May\n",
            "4       This month is May, next month is      6        June\n",
            "5      This month is June, next month is      7        July\n",
            "6      This month is July, next month is      8      August\n",
            "7    This month is August, next month is      9   September\n",
            "\n",
            "\n",
            "MULTIPLIER:  3\n",
            "Acc Score:  0.0\n",
            "                                  Prompt Answer Output\n",
            "0   This month is January, next month is      2       \n",
            "1  This month is February, next month is      3       \n",
            "2     This month is March, next month is      4       \n",
            "3     This month is April, next month is      5       \n",
            "4       This month is May, next month is      6       \n",
            "5      This month is June, next month is      7       \n",
            "6      This month is July, next month is      8       \n",
            "7    This month is August, next month is      9       \n",
            "\n",
            "\n"
          ]
        }
      ],
      "source": [
        "test_id = 4\n",
        "\n",
        "for i, df in enumerate(tables[test_id]):\n",
        "    print(\"MULTIPLIER: \", multp_list[i])\n",
        "    print(\"Acc Score: \", scores[test_id][i])\n",
        "    print(df) # display(df) ## display is too bulky\n",
        "    print('\\n')"
      ]
    },
    {
      "cell_type": "code",
      "execution_count": null,
      "metadata": {
        "colab": {
          "base_uri": "https://localhost:8080/"
        },
        "outputId": "775a38e1-290a-4e99-c54d-20ab25a84f6e",
        "id": "VlTspl_0Gae6"
      },
      "outputs": [
        {
          "output_type": "stream",
          "name": "stdout",
          "text": [
            "MULTIPLIER:  1\n",
            "Acc Score:  0.0\n",
            "                   Prompt Answer  Output\n",
            "0  twelve eleven ten nine      8   eight\n",
            "1   eleven ten nine eight      7        \n",
            "2    ten nine eight seven      6        \n",
            "3    nine eight seven six      5        \n",
            "4    eight seven six five      4        \n",
            "5     seven six five four      3        \n",
            "6     six five four three      2     two\n",
            "7     five four three two      1     one\n",
            "\n",
            "\n",
            "MULTIPLIER:  3\n",
            "Acc Score:  0.125\n",
            "                   Prompt Answer Output\n",
            "0  twelve eleven ten nine      8       \n",
            "1   eleven ten nine eight      7       \n",
            "2    ten nine eight seven      6       \n",
            "3    nine eight seven six      5       \n",
            "4    eight seven six five      4       \n",
            "5     seven six five four      3       \n",
            "6     six five four three      2       \n",
            "7     five four three two      1      1\n",
            "\n",
            "\n"
          ]
        }
      ],
      "source": [
        "test_id = 5\n",
        "\n",
        "for i, df in enumerate(tables[test_id]):\n",
        "    print(\"MULTIPLIER: \", multp_list[i])\n",
        "    print(\"Acc Score: \", scores[test_id][i])\n",
        "    print(df) # display(df) ## display is too bulky\n",
        "    print('\\n')"
      ]
    },
    {
      "cell_type": "code",
      "execution_count": null,
      "metadata": {
        "colab": {
          "base_uri": "https://localhost:8080/"
        },
        "outputId": "7fa28114-2300-408c-b5db-c8d6c888fdbc",
        "id": "sfKMj3ZUGae6"
      },
      "outputs": [
        {
          "output_type": "stream",
          "name": "stdout",
          "text": [
            "MULTIPLIER:  1\n",
            "Acc Score:  0.2\n",
            "                    Prompt Answer Output\n",
            "0      uno dos tres cuatro      5      5\n",
            "1    dos tres cuatro cinco      6       \n",
            "2   tres cuatro cinco seis      7      .\n",
            "3  cuatro cinco seis siete      8       \n",
            "4    cinco seis siete ocho      9       \n",
            "5    seis siete ocho nueve              \n",
            "\n",
            "\n",
            "MULTIPLIER:  3\n",
            "Acc Score:  0.0\n",
            "                    Prompt Answer Output\n",
            "0      uno dos tres cuatro      5       \n",
            "1    dos tres cuatro cinco      6       \n",
            "2   tres cuatro cinco seis      7       \n",
            "3  cuatro cinco seis siete      8       \n",
            "4    cinco seis siete ocho      9       \n",
            "5    seis siete ocho nueve              \n",
            "\n",
            "\n"
          ]
        }
      ],
      "source": [
        "test_id = 6\n",
        "\n",
        "for i, df in enumerate(tables[test_id]):\n",
        "    print(\"MULTIPLIER: \", multp_list[i])\n",
        "    print(\"Acc Score: \", scores[test_id][i])\n",
        "    print(df) # display(df) ## display is too bulky\n",
        "    print('\\n')"
      ]
    },
    {
      "cell_type": "markdown",
      "metadata": {
        "id": "ai8bKLzLG8Ti"
      },
      "source": [
        "## steer ablated recon in SAE space"
      ]
    },
    {
      "cell_type": "code",
      "execution_count": null,
      "metadata": {
        "id": "VbrC2Pz3G8Tz"
      },
      "outputs": [],
      "source": [
        "%%capture\n",
        "multp_list = [1, 3]\n",
        "SAEsp_abl_LLM_tables, SAEsp_abl_LLM_scores = run_tests_steer_actvs(abl_sae_LLM_mean_num_sv, multp_list, 'SAE')"
      ]
    },
    {
      "cell_type": "code",
      "execution_count": null,
      "metadata": {
        "id": "0UwL1RHzG8Tz"
      },
      "outputs": [],
      "source": [
        "tables = SAEsp_abl_LLM_tables\n",
        "scores = SAEsp_abl_LLM_scores"
      ]
    },
    {
      "cell_type": "code",
      "execution_count": null,
      "metadata": {
        "colab": {
          "base_uri": "https://localhost:8080/"
        },
        "outputId": "ff44399f-fa2f-4c98-e191-d155336d4074",
        "id": "C0x29OJ0G8T0"
      },
      "outputs": [
        {
          "output_type": "stream",
          "name": "stdout",
          "text": [
            "MULTIPLIER:  1\n",
            "Acc Score:  1.0\n",
            "                   Prompt Answer Output\n",
            "0      one two three four      5      5\n",
            "1     two three four five      6      6\n",
            "2     three four five six      7      7\n",
            "3     four five six seven      8      8\n",
            "4    five six seven eight      9      9\n",
            "5    six seven eight nine            \\n\n",
            "6    seven eight nine ten            \\n\n",
            "7   eight nine ten eleven            \\n\n",
            "8  nine ten eleven twelve            \\n\n",
            "\n",
            "\n",
            "MULTIPLIER:  3\n",
            "Acc Score:  1.0\n",
            "                   Prompt Answer Output\n",
            "0      one two three four      5      5\n",
            "1     two three four five      6      6\n",
            "2     three four five six      7      7\n",
            "3     four five six seven      8      8\n",
            "4    five six seven eight      9      9\n",
            "5    six seven eight nine             0\n",
            "6    seven eight nine ten             1\n",
            "7   eight nine ten eleven             1\n",
            "8  nine ten eleven twelve             3\n",
            "\n",
            "\n"
          ]
        }
      ],
      "source": [
        "test_id = 0\n",
        "\n",
        "for i, df in enumerate(tables[test_id]):\n",
        "    print(\"MULTIPLIER: \", multp_list[i])\n",
        "    print(\"Acc Score: \", scores[test_id][i])\n",
        "    print(df) # display(df) ## display is too bulky\n",
        "    print('\\n')"
      ]
    },
    {
      "cell_type": "code",
      "execution_count": null,
      "metadata": {
        "colab": {
          "base_uri": "https://localhost:8080/"
        },
        "outputId": "2ce0fbc9-373c-486a-e16c-431a0ba5abd8",
        "id": "LCSDNxNiG8T0"
      },
      "outputs": [
        {
          "output_type": "stream",
          "name": "stdout",
          "text": [
            "MULTIPLIER:  1\n",
            "Acc Score:  0.2\n",
            "                         Prompt Answer Output\n",
            "0  January February March April      5       \n",
            "1      February March April May      6       \n",
            "2          March April May June      7       \n",
            "3           April May June July      8      8\n",
            "4          May June July August      9       \n",
            "\n",
            "\n",
            "MULTIPLIER:  3\n",
            "Acc Score:  1.0\n",
            "                         Prompt Answer Output\n",
            "0  January February March April      5      5\n",
            "1      February March April May      6      6\n",
            "2          March April May June      7      7\n",
            "3           April May June July      8      8\n",
            "4          May June July August      9      9\n",
            "\n",
            "\n"
          ]
        }
      ],
      "source": [
        "test_id = 1\n",
        "\n",
        "for i, df in enumerate(tables[test_id]):\n",
        "    print(\"MULTIPLIER: \", multp_list[i])\n",
        "    print(\"Acc Score: \", scores[test_id][i])\n",
        "    print(df) # display(df) ## display is too bulky\n",
        "    print('\\n')"
      ]
    },
    {
      "cell_type": "code",
      "execution_count": null,
      "metadata": {
        "colab": {
          "base_uri": "https://localhost:8080/"
        },
        "outputId": "a5a6176e-f7ab-4dce-b6e3-76be3c8e831f",
        "id": "UqezKCmgG8T0"
      },
      "outputs": [
        {
          "output_type": "stream",
          "name": "stdout",
          "text": [
            "MULTIPLIER:  1\n",
            "Acc Score:  0.0\n",
            "                       Prompt Answer Output\n",
            "0    Monday Tuesday Wednesday      4       \n",
            "1  Tuesday Wednesday Thursday      5       \n",
            "2   Wednesday Thursday Friday      6       \n",
            "3    Thursday Friday Saturday              \n",
            "4      Friday Saturday Sunday             ,\n",
            "\n",
            "\n",
            "MULTIPLIER:  3\n",
            "Acc Score:  0.6666666666666666\n",
            "                       Prompt Answer Output\n",
            "0    Monday Tuesday Wednesday      4      4\n",
            "1  Tuesday Wednesday Thursday      5      5\n",
            "2   Wednesday Thursday Friday      6      0\n",
            "3    Thursday Friday Saturday             0\n",
            "4      Friday Saturday Sunday             1\n",
            "\n",
            "\n"
          ]
        }
      ],
      "source": [
        "test_id = 2\n",
        "\n",
        "for i, df in enumerate(tables[test_id]):\n",
        "    print(\"MULTIPLIER: \", multp_list[i])\n",
        "    print(\"Acc Score: \", scores[test_id][i])\n",
        "    print(df) # display(df) ## display is too bulky\n",
        "    print('\\n')"
      ]
    },
    {
      "cell_type": "code",
      "execution_count": null,
      "metadata": {
        "colab": {
          "base_uri": "https://localhost:8080/"
        },
        "outputId": "418c20ab-b94f-47a4-fb9e-7fa85f688c09",
        "id": "tm9VNboIG8T0"
      },
      "outputs": [
        {
          "output_type": "stream",
          "name": "stdout",
          "text": [
            "MULTIPLIER:  1\n",
            "Acc Score:  0.0\n",
            "                            Prompt Answer      Output\n",
            "0     Today is Monday, tomorrow is      2     Tuesday\n",
            "1    Today is Tuesday, tomorrow is      3   Wednesday\n",
            "2  Today is Wednesday, tomorrow is      4    Thursday\n",
            "3   Today is Thursday, tomorrow is      5      Friday\n",
            "4     Today is Friday, tomorrow is      6    Saturday\n",
            "5   Today is Saturday, tomorrow is             Sunday\n",
            "\n",
            "\n",
            "MULTIPLIER:  3\n",
            "Acc Score:  0.2\n",
            "                            Prompt Answer Output\n",
            "0     Today is Monday, tomorrow is      2      0\n",
            "1    Today is Tuesday, tomorrow is      3      3\n",
            "2  Today is Wednesday, tomorrow is      4      0\n",
            "3   Today is Thursday, tomorrow is      5      0\n",
            "4     Today is Friday, tomorrow is      6      0\n",
            "5   Today is Saturday, tomorrow is             0\n",
            "\n",
            "\n"
          ]
        }
      ],
      "source": [
        "test_id = 3\n",
        "\n",
        "for i, df in enumerate(tables[test_id]):\n",
        "    print(\"MULTIPLIER: \", multp_list[i])\n",
        "    print(\"Acc Score: \", scores[test_id][i])\n",
        "    print(df) # display(df) ## display is too bulky\n",
        "    print('\\n')"
      ]
    },
    {
      "cell_type": "code",
      "execution_count": null,
      "metadata": {
        "colab": {
          "base_uri": "https://localhost:8080/"
        },
        "outputId": "ae6114bf-9f09-4074-ef60-2c0cf942bbaf",
        "id": "cCev_n0cG8T0"
      },
      "outputs": [
        {
          "output_type": "stream",
          "name": "stdout",
          "text": [
            "MULTIPLIER:  1\n",
            "Acc Score:  0.0\n",
            "                                  Prompt Answer      Output\n",
            "0   This month is January, next month is      2    February\n",
            "1  This month is February, next month is      3       March\n",
            "2     This month is March, next month is      4       April\n",
            "3     This month is April, next month is      5         May\n",
            "4       This month is May, next month is      6        June\n",
            "5      This month is June, next month is      7        July\n",
            "6      This month is July, next month is      8      August\n",
            "7    This month is August, next month is      9   September\n",
            "\n",
            "\n",
            "MULTIPLIER:  3\n",
            "Acc Score:  1.0\n",
            "                                  Prompt Answer Output\n",
            "0   This month is January, next month is      2      2\n",
            "1  This month is February, next month is      3      3\n",
            "2     This month is March, next month is      4      4\n",
            "3     This month is April, next month is      5      5\n",
            "4       This month is May, next month is      6      6\n",
            "5      This month is June, next month is      7      7\n",
            "6      This month is July, next month is      8      8\n",
            "7    This month is August, next month is      9      9\n",
            "\n",
            "\n"
          ]
        }
      ],
      "source": [
        "test_id = 4\n",
        "\n",
        "for i, df in enumerate(tables[test_id]):\n",
        "    print(\"MULTIPLIER: \", multp_list[i])\n",
        "    print(\"Acc Score: \", scores[test_id][i])\n",
        "    print(df) # display(df) ## display is too bulky\n",
        "    print('\\n')"
      ]
    },
    {
      "cell_type": "code",
      "execution_count": null,
      "metadata": {
        "colab": {
          "base_uri": "https://localhost:8080/"
        },
        "outputId": "3116fa05-a40d-43cf-e9fd-36ee2b92d850",
        "id": "CXHG7TE2G8T0"
      },
      "outputs": [
        {
          "output_type": "stream",
          "name": "stdout",
          "text": [
            "MULTIPLIER:  1\n",
            "Acc Score:  0.625\n",
            "                   Prompt Answer Output\n",
            "0  twelve eleven ten nine      8      8\n",
            "1   eleven ten nine eight      7       \n",
            "2    ten nine eight seven      6      6\n",
            "3    nine eight seven six      5       \n",
            "4    eight seven six five      4       \n",
            "5     seven six five four      3      3\n",
            "6     six five four three      2      2\n",
            "7     five four three two      1      1\n",
            "\n",
            "\n",
            "MULTIPLIER:  3\n",
            "Acc Score:  0.625\n",
            "                   Prompt Answer Output\n",
            "0  twelve eleven ten nine      8      8\n",
            "1   eleven ten nine eight      7      0\n",
            "2    ten nine eight seven      6      6\n",
            "3    nine eight seven six      5      0\n",
            "4    eight seven six five      4      0\n",
            "5     seven six five four      3      3\n",
            "6     six five four three      2      2\n",
            "7     five four three two      1      1\n",
            "\n",
            "\n"
          ]
        }
      ],
      "source": [
        "test_id = 5\n",
        "\n",
        "for i, df in enumerate(tables[test_id]):\n",
        "    print(\"MULTIPLIER: \", multp_list[i])\n",
        "    print(\"Acc Score: \", scores[test_id][i])\n",
        "    print(df) # display(df) ## display is too bulky\n",
        "    print('\\n')"
      ]
    },
    {
      "cell_type": "code",
      "execution_count": null,
      "metadata": {
        "colab": {
          "base_uri": "https://localhost:8080/"
        },
        "outputId": "7817147d-b93b-45c8-99ad-5aa87b0baef1",
        "id": "4tjvwKwOG8T0"
      },
      "outputs": [
        {
          "output_type": "stream",
          "name": "stdout",
          "text": [
            "MULTIPLIER:  1\n",
            "Acc Score:  0.6\n",
            "                    Prompt Answer Output\n",
            "0      uno dos tres cuatro      5      5\n",
            "1    dos tres cuatro cinco      6      6\n",
            "2   tres cuatro cinco seis      7       \n",
            "3  cuatro cinco seis siete      8      8\n",
            "4    cinco seis siete ocho      9     \\n\n",
            "5    seis siete ocho nueve            \\n\n",
            "\n",
            "\n",
            "MULTIPLIER:  3\n",
            "Acc Score:  1.0\n",
            "                    Prompt Answer Output\n",
            "0      uno dos tres cuatro      5      5\n",
            "1    dos tres cuatro cinco      6      6\n",
            "2   tres cuatro cinco seis      7      7\n",
            "3  cuatro cinco seis siete      8      8\n",
            "4    cinco seis siete ocho      9      9\n",
            "5    seis siete ocho nueve             0\n",
            "\n",
            "\n"
          ]
        }
      ],
      "source": [
        "test_id = 6\n",
        "\n",
        "for i, df in enumerate(tables[test_id]):\n",
        "    print(\"MULTIPLIER: \", multp_list[i])\n",
        "    print(\"Acc Score: \", scores[test_id][i])\n",
        "    print(df) # display(df) ## display is too bulky\n",
        "    print('\\n')"
      ]
    },
    {
      "cell_type": "markdown",
      "metadata": {
        "id": "wYOA_etg86Bu"
      },
      "source": [
        "# steer by ablated SAE SV"
      ]
    },
    {
      "cell_type": "markdown",
      "metadata": {
        "id": "ryzYsrkWNxzD"
      },
      "source": [
        "## choose which features to ablate"
      ]
    },
    {
      "cell_type": "code",
      "execution_count": null,
      "metadata": {
        "id": "nnH75X-e9nTV"
      },
      "outputs": [],
      "source": [
        "words = ['1', '2', '3', '4', '5', '6', '7', '8', '9']\n",
        "num_sv_samp = []\n",
        "for i in range(0, 9):\n",
        "    samp = f\"{words[i]}\"\n",
        "    num_sv_samp.append(samp)\n",
        "inputs = tokenizer(num_sv_samp, return_tensors=\"pt\", padding=True, truncation=True, max_length=300)['input_ids'].to(\"cuda\")\n",
        "target_act = gather_residual_activations(model_2, 20, inputs)\n",
        "sae_acts_1 = sae.encode(target_act.to(torch.float32))"
      ]
    },
    {
      "cell_type": "code",
      "execution_count": null,
      "metadata": {
        "colab": {
          "base_uri": "https://localhost:8080/"
        },
        "id": "J40Ewux29nTV",
        "outputId": "19446065-1748-4c2d-8173-772aa3d69eaa"
      },
      "outputs": [
        {
          "output_type": "execute_result",
          "data": {
            "text/plain": [
              "torch.Size([1, 2, 16384])"
            ]
          },
          "metadata": {},
          "execution_count": 98
        }
      ],
      "source": [
        "mean_num_sv = sae_acts_1.mean(dim=0)\n",
        "mean_num_sv = mean_num_sv.unsqueeze(0)\n",
        "mean_num_sv.shape"
      ]
    },
    {
      "cell_type": "code",
      "execution_count": null,
      "metadata": {
        "id": "UknTTbsR8Ffp"
      },
      "outputs": [],
      "source": [
        "feat_k = 100 # 50\n",
        "one_top_acts_values, one_top_acts_indices = mean_num_sv[0, -1, :].topk(feat_k, dim=-1)"
      ]
    },
    {
      "cell_type": "code",
      "execution_count": null,
      "metadata": {
        "colab": {
          "base_uri": "https://localhost:8080/"
        },
        "id": "AKcdNYvH9uxF",
        "outputId": "0ae78a02-18df-437f-b261-23f2b70caef4"
      },
      "outputs": [
        {
          "output_type": "stream",
          "name": "stdout",
          "text": [
            "Rank 1 150.08 13528 numeric values indicating measurements or quantities\n",
            "Rank 2 85.52 11527 the start of a document\n",
            "Rank 3 34.95 9768 terms related to control and authority, particularly in political or systemic contexts\n",
            "Rank 4 34.94 8684  technical jargon and programming-related terms\n",
            "Rank 5 33.51 140  instances of the word \"in\"\n",
            "Rank 6 30.88 833 the numerical values indicating measurements or assessments\n",
            "Rank 7 28.96 11174  numeric identifiers or values in a structured format\n",
            "Rank 8 21.67 6305 mathematical expressions and notations used in equations and proofs\n",
            "Rank 9 21.36 2437  patterns related to numerical information, particularly involving the number four\n",
            "Rank 10 15.09 3019  elements related to operational or procedural contexts in a structured format\n",
            "Rank 11 12.09 3435  numeric values, particularly related to technology specifications or measurements\n",
            "Rank 12 11.91 745  sequences of numerical values\n",
            "Rank 13 8.7 3371  numerical expressions and equations\n",
            "Rank 14 7.24 16175 numeric identifiers or codes, particularly in a structured format or specification\n",
            "Rank 15 6.97 11795 the phrase \"The\" at the start of sentences\n",
            "Rank 16 6.95 1344 lists and resources for educational purposes\n",
            "Rank 17 6.45 1494  numeric representations and special characters in the text\n",
            "Rank 18 5.66 8640  numerical data and references to scientific publications\n",
            "Rank 19 5.4 2740  phrases related to biological processes and cellular interactions\n",
            "Rank 20 4.82 12977 quantitative data or statistical metrics related to observations\n",
            "Rank 21 4.56 4723 numbers and specific dates\n",
            "Rank 22 4.47 2102 numeric values, particularly in a scientific or quantitative context\n",
            "Rank 23 4.44 13206  numeric values and their mathematical relationships\n",
            "Rank 24 4.25 4743 numerical data, particularly relating to prime factors or mathematical expressions\n",
            "Rank 25 3.42 5052 the beginning of a document or section, likely signaling the start of significant content\n",
            "Rank 26 2.91 15078 terms related to specific chemical compounds or drugs\n",
            "Rank 27 2.84 12621 numerical information, particularly related to contact details or official statistics\n",
            "Rank 28 2.74 6275 numbers and numerical values in context\n",
            "Rank 29 2.67 14581 references to specific biblical passages and their contextual significance\n",
            "Rank 30 2.64 5426  references to collaboration and collective effort in various contexts\n",
            "Rank 31 2.63 10306 references to the \"Six Million Dollar Man\" television series and its elements\n",
            "Rank 32 2.6 821 the beginning of a document or section\n",
            "Rank 33 2.23 4569  references to programming concepts and code structures\n",
            "Rank 34 1.61 1238  numerical data or codes\n",
            "Rank 35 1.39 4020 the presence of hyphens or long dash indicators\n",
            "Rank 36 1.38 2762 references to the month of August\n",
            "Rank 37 1.32 7363  sentences or phrases that indicate the end of a section or document\n",
            "Rank 38 1.0 15805  references to quantities, specifically in terms of pieces or units\n",
            "Rank 39 1.0 16362  references to numerical data or statistics\n",
            "Rank 40 0.93 11805 guidance or rules for effective communication and professionalism in correspondence\n",
            "Rank 41 0.92 10452  numeric sequences and patterns\n",
            "Rank 42 0.86 4541 terms related to historical events and social commentary\n",
            "Rank 43 0.84 15735  numerical data and comparisons\n",
            "Rank 44 0.82 5982 specific terms related to real estate and community features\n",
            "Rank 45 0.8 11578  numerical data and statistics related to quantities or measures\n",
            "Rank 46 0.8 14279 references to children's ages or descriptors of young people\n",
            "Rank 47 0.8 9416 quantitative references relating to studies and participants\n",
            "Rank 48 0.8 6433 references to violent incidents and casualties\n",
            "Rank 49 0.8 14387 attributes related to real estate properties\n",
            "Rank 50 0.79 2973 timestamps and date formats\n",
            "Rank 51 0.79 12153 references to specific numerical identifiers or titles associated with cultural works\n",
            "Rank 52 0.79 6928 the beginning of a text or document\n",
            "Rank 53 0.78 6763 numeric representations and descriptions of quantity\n",
            "Rank 54 0.78 8737  elements related to numerical values or ordered data\n",
            "Rank 55 0.0 0 mentions of the letter 'Z' and variations of 'Z' in different contexts\n",
            "Rank 56 0.0 1 phrases emphasizing continuity or progression in narratives\n",
            "Rank 57 0.0 2 elements related to interviews and interrogation processes\n",
            "Rank 58 0.0 3 instances of the verb \"to be\" in various forms\n",
            "Rank 59 0.0 4  temporal references such as days, weeks, months, or years\n",
            "Rank 60 0.0 5 words related to trends and patterns in various contexts\n",
            "Rank 61 0.0 6 references to television talent shows and their judges\n",
            "Rank 62 0.0 7 conjunctions and transitional phrases that signify contrast or condition\n",
            "Rank 63 0.0 8  programming-related constructs and structures\n",
            "Rank 64 0.0 9 words and phrases associated with conflict and physical confrontations\n",
            "Rank 65 0.0 10 terms related to confirmation and verification processes\n",
            "Rank 66 0.0 11 terms related to applications and industries, especially in the context of materials and products\n",
            "Rank 67 0.0 12  import statements in programming code\n",
            "Rank 68 0.0 13  phrases related to missed opportunities or regrets\n",
            "Rank 69 0.0 14  mentions of logarithmic or related mathematical concepts\n",
            "Rank 70 0.0 15  mathematical expressions and operations\n",
            "Rank 71 0.0 16 dates and times related to a specific event.\n",
            "Rank 72 0.0 17  structured data or programming code elements\n",
            "Rank 73 0.0 18  numerical data and associated values\n",
            "Rank 74 0.0 19  terminology related to academic research and analysis methods\n",
            "Rank 75 0.0 20  instances of possessive pronouns or possessive constructions\n",
            "Rank 76 0.0 21 terms related to agricultural practices and research\n",
            "Rank 77 0.0 22  references to the React library and its components\n",
            "Rank 78 0.0 23 references to the name \"Jonathan\" and variations of \"Jon.\"\n",
            "Rank 79 0.0 24  terms related to \"coroner\" and associated medical investigations\n",
            "Rank 80 0.0 25 references to issued equipment or supplies\n",
            "Rank 81 0.0 26  terms related to leadership styles and their effects on workplace dynamics\n",
            "Rank 82 0.0 27 mathematical symbols and constructs\n",
            "Rank 83 0.0 28 location and administrative division references\n",
            "Rank 84 0.0 29  phrases indicating various purposes and uses of information or actions\n",
            "Rank 85 0.0 30 terms and references associated with political and social organizations\n",
            "Rank 86 0.0 31 punctuation marks and special symbols often found in written texts\n",
            "Rank 87 0.0 32  mathematical symbols and notation typically used in equations or algorithms\n",
            "Rank 88 0.0 33 terms related to research methodologies and data analysis in scientific studies\n",
            "Rank 89 0.0 34 words and phrases associated with conjunctions and connections between ideas\n",
            "Rank 90 0.0 35 references to the verb \"be\" in various contexts\n",
            "Rank 91 0.0 36 words or roots related to specific dependencies or components in a software or programming context\n",
            "Rank 92 0.0 37  punctuated phrases and statements\n",
            "Rank 93 0.0 38 modal verbs and their usage in sentences\n",
            "Rank 94 0.0 39 details about product features and specifications\n",
            "Rank 95 0.0 40 phrases related to hybrid combinations of concepts or elements in various contexts\n",
            "Rank 96 0.0 41 phrases related to family relationships and marital status\n",
            "Rank 97 0.0 42 terms related to medical treatment options and their effectiveness\n",
            "Rank 98 0.0 43  references to the number and types of bedrooms in housing descriptions\n",
            "Rank 99 0.0 44  information about public events and their details\n",
            "Rank 100 0.0 45  indicators of medical conditions and pregnancy-related terms\n"
          ]
        }
      ],
      "source": [
        "rank = 1\n",
        "for val, ind in zip(one_top_acts_values, one_top_acts_indices):\n",
        "    print(f\"Rank {rank}\", round(val.item(), 2), ind.item(), feat_labels_lst[ind])\n",
        "    rank += 1"
      ]
    },
    {
      "cell_type": "markdown",
      "metadata": {
        "id": "m_6yapZIODSF"
      },
      "source": [
        "There's too many non-zero features to manually assess (Gemma2-2B uses JumpReLU rather than TopK of say k=16, so we get around 50 non-zero features). Thus, we only look at the top 10 features, which at a glance look to be much higher in the distribution of activations.\n",
        "\n",
        "Top 10:\n",
        "- Rank 1 150.1 13528 numeric values indicating measurements or quantities\n",
        "- Rank 2 85.52 11527 the start of a document\n",
        "- Rank 3 34.94 9768 terms related to control and authority, particularly in political or systemic contexts\n",
        "- Rank 4 34.91 8684  technical jargon and programming-related terms\n",
        "- Rank 5 33.51 140  instances of the word \"in\"\n",
        "- Rank 6 30.87 833 the numerical values indicating measurements or assessments\n",
        "- Rank 7 28.97 11174  numeric identifiers or values in a structured format\n",
        "- Rank 8 21.66 6305 mathematical expressions and notations used in equations and proofs\n",
        "- Rank 9 21.37 2437  patterns related to numerical information, particularly involving the number four\n",
        "- Rank 10 15.08 3019  elements related to operational or procedural contexts in a structured format\n",
        "\n",
        "We ablate the following:\n",
        "- Rank 2 85.52 11527 the start of a document\n",
        "- Rank 3 34.94 9768 terms related to control and authority, particularly in political or systemic contexts\n",
        "- Rank 4 34.91 8684  technical jargon and programming-related terms\n",
        "- Rank 5 33.51 140  instances of the word \"in\"\n"
      ]
    },
    {
      "cell_type": "markdown",
      "metadata": {
        "id": "CMm_VwWTO96p"
      },
      "source": [
        "## ablate then steer"
      ]
    },
    {
      "cell_type": "code",
      "execution_count": null,
      "metadata": {
        "id": "kiViFOkxO961"
      },
      "outputs": [],
      "source": [
        "filt_mean_num_sv = torch.clone(mean_num_sv)\n",
        "\n",
        "feats_to_ablate = [11527, 9768, 8684, 140]\n",
        "\n",
        "for fInd in feats_to_ablate:\n",
        "    filt_mean_num_sv[:, -1, fInd] = 0"
      ]
    },
    {
      "cell_type": "markdown",
      "metadata": {
        "id": "6JEgXPQLRPhu"
      },
      "source": [
        "## steer ablated in SAE space"
      ]
    },
    {
      "cell_type": "code",
      "execution_count": null,
      "metadata": {
        "id": "CMX2UksBRPh6"
      },
      "outputs": [],
      "source": [
        "%%capture\n",
        "multp_list = [1, 3]\n",
        "abl_SAE_tables, abl_SAE_scores = run_tests_steer_actvs(filt_mean_num_sv, multp_list, 'SAE')"
      ]
    },
    {
      "cell_type": "code",
      "execution_count": null,
      "metadata": {
        "id": "eAWgjX3PRPh6"
      },
      "outputs": [],
      "source": [
        "tables = abl_SAE_tables\n",
        "scores = abl_SAE_scores"
      ]
    },
    {
      "cell_type": "code",
      "execution_count": null,
      "metadata": {
        "colab": {
          "base_uri": "https://localhost:8080/"
        },
        "outputId": "a878f558-c09e-4e5c-e3cc-36126e4d37f5",
        "id": "MaZxW9b0RPh7"
      },
      "outputs": [
        {
          "output_type": "stream",
          "name": "stdout",
          "text": [
            "MULTIPLIER:  1\n",
            "Acc Score:  1.0\n",
            "                   Prompt Answer Output\n",
            "0      one two three four      5      5\n",
            "1     two three four five      6      6\n",
            "2     three four five six      7      7\n",
            "3     four five six seven      8      8\n",
            "4    five six seven eight      9      9\n",
            "5    six seven eight nine             0\n",
            "6    seven eight nine ten             1\n",
            "7   eight nine ten eleven             2\n",
            "8  nine ten eleven twelve             3\n",
            "\n",
            "\n",
            "MULTIPLIER:  3\n",
            "Acc Score:  1.0\n",
            "                   Prompt Answer Output\n",
            "0      one two three four      5      5\n",
            "1     two three four five      6      6\n",
            "2     three four five six      7      7\n",
            "3     four five six seven      8      8\n",
            "4    five six seven eight      9      9\n",
            "5    six seven eight nine             0\n",
            "6    seven eight nine ten             1\n",
            "7   eight nine ten eleven             1\n",
            "8  nine ten eleven twelve             3\n",
            "\n",
            "\n"
          ]
        }
      ],
      "source": [
        "test_id = 0\n",
        "\n",
        "for i, df in enumerate(tables[test_id]):\n",
        "    print(\"MULTIPLIER: \", multp_list[i])\n",
        "    print(\"Acc Score: \", scores[test_id][i])\n",
        "    print(df) # display(df) ## display is too bulky\n",
        "    print('\\n')"
      ]
    },
    {
      "cell_type": "code",
      "execution_count": null,
      "metadata": {
        "colab": {
          "base_uri": "https://localhost:8080/"
        },
        "outputId": "05c9df74-0498-43e7-bf32-5fa25d6f1417",
        "id": "N_8xbQYNRPh7"
      },
      "outputs": [
        {
          "output_type": "stream",
          "name": "stdout",
          "text": [
            "MULTIPLIER:  1\n",
            "Acc Score:  1.0\n",
            "                         Prompt Answer Output\n",
            "0  January February March April      5      5\n",
            "1      February March April May      6      6\n",
            "2          March April May June      7      7\n",
            "3           April May June July      8      8\n",
            "4          May June July August      9      9\n",
            "\n",
            "\n",
            "MULTIPLIER:  3\n",
            "Acc Score:  1.0\n",
            "                         Prompt Answer Output\n",
            "0  January February March April      5      5\n",
            "1      February March April May      6      6\n",
            "2          March April May June      7      7\n",
            "3           April May June July      8      8\n",
            "4          May June July August      9      9\n",
            "\n",
            "\n"
          ]
        }
      ],
      "source": [
        "test_id = 1\n",
        "\n",
        "for i, df in enumerate(tables[test_id]):\n",
        "    print(\"MULTIPLIER: \", multp_list[i])\n",
        "    print(\"Acc Score: \", scores[test_id][i])\n",
        "    print(df) # display(df) ## display is too bulky\n",
        "    print('\\n')"
      ]
    },
    {
      "cell_type": "code",
      "execution_count": null,
      "metadata": {
        "colab": {
          "base_uri": "https://localhost:8080/"
        },
        "outputId": "2f6146e0-fe5d-4e85-c074-e4a4c928ae24",
        "id": "ACpDsdHmRPh7"
      },
      "outputs": [
        {
          "output_type": "stream",
          "name": "stdout",
          "text": [
            "MULTIPLIER:  1\n",
            "Acc Score:  0.6666666666666666\n",
            "                       Prompt Answer Output\n",
            "0    Monday Tuesday Wednesday      4      4\n",
            "1  Tuesday Wednesday Thursday      5      5\n",
            "2   Wednesday Thursday Friday      6       \n",
            "3    Thursday Friday Saturday              \n",
            "4      Friday Saturday Sunday             ,\n",
            "\n",
            "\n",
            "MULTIPLIER:  3\n",
            "Acc Score:  0.6666666666666666\n",
            "                       Prompt Answer Output\n",
            "0    Monday Tuesday Wednesday      4      4\n",
            "1  Tuesday Wednesday Thursday      5      5\n",
            "2   Wednesday Thursday Friday      6      0\n",
            "3    Thursday Friday Saturday             0\n",
            "4      Friday Saturday Sunday             1\n",
            "\n",
            "\n"
          ]
        }
      ],
      "source": [
        "test_id = 2\n",
        "\n",
        "for i, df in enumerate(tables[test_id]):\n",
        "    print(\"MULTIPLIER: \", multp_list[i])\n",
        "    print(\"Acc Score: \", scores[test_id][i])\n",
        "    print(df) # display(df) ## display is too bulky\n",
        "    print('\\n')"
      ]
    },
    {
      "cell_type": "code",
      "execution_count": null,
      "metadata": {
        "colab": {
          "base_uri": "https://localhost:8080/"
        },
        "outputId": "1ec43101-6411-49a3-a24b-7f13b02753c9",
        "id": "re3XJnA_RPh7"
      },
      "outputs": [
        {
          "output_type": "stream",
          "name": "stdout",
          "text": [
            "MULTIPLIER:  1\n",
            "Acc Score:  0.0\n",
            "                            Prompt Answer      Output\n",
            "0     Today is Monday, tomorrow is      2     Tuesday\n",
            "1    Today is Tuesday, tomorrow is      3   Wednesday\n",
            "2  Today is Wednesday, tomorrow is      4    Thursday\n",
            "3   Today is Thursday, tomorrow is      5      Friday\n",
            "4     Today is Friday, tomorrow is      6    Saturday\n",
            "5   Today is Saturday, tomorrow is             Sunday\n",
            "\n",
            "\n",
            "MULTIPLIER:  3\n",
            "Acc Score:  0.8\n",
            "                            Prompt Answer Output\n",
            "0     Today is Monday, tomorrow is      2      2\n",
            "1    Today is Tuesday, tomorrow is      3      3\n",
            "2  Today is Wednesday, tomorrow is      4      4\n",
            "3   Today is Thursday, tomorrow is      5      5\n",
            "4     Today is Friday, tomorrow is      6      0\n",
            "5   Today is Saturday, tomorrow is             0\n",
            "\n",
            "\n"
          ]
        }
      ],
      "source": [
        "test_id = 3\n",
        "\n",
        "for i, df in enumerate(tables[test_id]):\n",
        "    print(\"MULTIPLIER: \", multp_list[i])\n",
        "    print(\"Acc Score: \", scores[test_id][i])\n",
        "    print(df) # display(df) ## display is too bulky\n",
        "    print('\\n')"
      ]
    },
    {
      "cell_type": "code",
      "execution_count": null,
      "metadata": {
        "colab": {
          "base_uri": "https://localhost:8080/"
        },
        "outputId": "0367431d-9f9c-4843-c395-bd0447ca0e1d",
        "id": "iyC3JY1uRPh7"
      },
      "outputs": [
        {
          "output_type": "stream",
          "name": "stdout",
          "text": [
            "MULTIPLIER:  1\n",
            "Acc Score:  0.625\n",
            "                                  Prompt Answer      Output\n",
            "0   This month is January, next month is      2    February\n",
            "1  This month is February, next month is      3           3\n",
            "2     This month is March, next month is      4       April\n",
            "3     This month is April, next month is      5           5\n",
            "4       This month is May, next month is      6           6\n",
            "5      This month is June, next month is      7           7\n",
            "6      This month is July, next month is      8           8\n",
            "7    This month is August, next month is      9   September\n",
            "\n",
            "\n",
            "MULTIPLIER:  3\n",
            "Acc Score:  1.0\n",
            "                                  Prompt Answer Output\n",
            "0   This month is January, next month is      2      2\n",
            "1  This month is February, next month is      3      3\n",
            "2     This month is March, next month is      4      4\n",
            "3     This month is April, next month is      5      5\n",
            "4       This month is May, next month is      6      6\n",
            "5      This month is June, next month is      7      7\n",
            "6      This month is July, next month is      8      8\n",
            "7    This month is August, next month is      9      9\n",
            "\n",
            "\n"
          ]
        }
      ],
      "source": [
        "test_id = 4\n",
        "\n",
        "for i, df in enumerate(tables[test_id]):\n",
        "    print(\"MULTIPLIER: \", multp_list[i])\n",
        "    print(\"Acc Score: \", scores[test_id][i])\n",
        "    print(df) # display(df) ## display is too bulky\n",
        "    print('\\n')"
      ]
    },
    {
      "cell_type": "code",
      "execution_count": null,
      "metadata": {
        "colab": {
          "base_uri": "https://localhost:8080/"
        },
        "outputId": "e3b9fcac-ac26-4307-f246-07cd14afe17d",
        "id": "OmiBOu1bRPh7"
      },
      "outputs": [
        {
          "output_type": "stream",
          "name": "stdout",
          "text": [
            "MULTIPLIER:  1\n",
            "Acc Score:  0.75\n",
            "                   Prompt Answer Output\n",
            "0  twelve eleven ten nine      8      8\n",
            "1   eleven ten nine eight      7      7\n",
            "2    ten nine eight seven      6      6\n",
            "3    nine eight seven six      5      0\n",
            "4    eight seven six five      4       \n",
            "5     seven six five four      3      3\n",
            "6     six five four three      2      2\n",
            "7     five four three two      1      1\n",
            "\n",
            "\n",
            "MULTIPLIER:  3\n",
            "Acc Score:  0.625\n",
            "                   Prompt Answer Output\n",
            "0  twelve eleven ten nine      8      0\n",
            "1   eleven ten nine eight      7      7\n",
            "2    ten nine eight seven      6      6\n",
            "3    nine eight seven six      5      0\n",
            "4    eight seven six five      4      0\n",
            "5     seven six five four      3      3\n",
            "6     six five four three      2      2\n",
            "7     five four three two      1      1\n",
            "\n",
            "\n"
          ]
        }
      ],
      "source": [
        "test_id = 5\n",
        "\n",
        "for i, df in enumerate(tables[test_id]):\n",
        "    print(\"MULTIPLIER: \", multp_list[i])\n",
        "    print(\"Acc Score: \", scores[test_id][i])\n",
        "    print(df) # display(df) ## display is too bulky\n",
        "    print('\\n')"
      ]
    },
    {
      "cell_type": "code",
      "execution_count": null,
      "metadata": {
        "colab": {
          "base_uri": "https://localhost:8080/"
        },
        "outputId": "8d5db907-62ae-41fb-afc8-798f6a32eb26",
        "id": "FQuoGFEyRPh7"
      },
      "outputs": [
        {
          "output_type": "stream",
          "name": "stdout",
          "text": [
            "MULTIPLIER:  1\n",
            "Acc Score:  1.0\n",
            "                    Prompt Answer Output\n",
            "0      uno dos tres cuatro      5      5\n",
            "1    dos tres cuatro cinco      6      6\n",
            "2   tres cuatro cinco seis      7      7\n",
            "3  cuatro cinco seis siete      8      8\n",
            "4    cinco seis siete ocho      9      9\n",
            "5    seis siete ocho nueve             0\n",
            "\n",
            "\n",
            "MULTIPLIER:  3\n",
            "Acc Score:  0.8\n",
            "                    Prompt Answer Output\n",
            "0      uno dos tres cuatro      5      5\n",
            "1    dos tres cuatro cinco      6      0\n",
            "2   tres cuatro cinco seis      7      7\n",
            "3  cuatro cinco seis siete      8      8\n",
            "4    cinco seis siete ocho      9      9\n",
            "5    seis siete ocho nueve             0\n",
            "\n",
            "\n"
          ]
        }
      ],
      "source": [
        "test_id = 6\n",
        "\n",
        "for i, df in enumerate(tables[test_id]):\n",
        "    print(\"MULTIPLIER: \", multp_list[i])\n",
        "    print(\"Acc Score: \", scores[test_id][i])\n",
        "    print(df) # display(df) ## display is too bulky\n",
        "    print('\\n')"
      ]
    },
    {
      "cell_type": "markdown",
      "source": [
        "# compare all SV scores"
      ],
      "metadata": {
        "id": "KplEOp6FIG97"
      }
    },
    {
      "cell_type": "code",
      "source": [
        "def display_scores(scores_table):\n",
        "    for i, score_list in enumerate(scores_table):\n",
        "        score_list = [round(score, 2) for score in score_list]\n",
        "        print(test_labels_lst[i], score_list)"
      ],
      "metadata": {
        "id": "OI54gFJFKACJ"
      },
      "execution_count": null,
      "outputs": []
    },
    {
      "cell_type": "code",
      "source": [
        "def avg_score_fn(scores_table):\n",
        "    total_score = 0\n",
        "    for score_list in scores_table:\n",
        "        score = max(score_list)\n",
        "        total_score += score\n",
        "    print(round(total_score / len(scores_table), 2))\n",
        "    return round(total_score / len(scores_table), 2)"
      ],
      "metadata": {
        "id": "m6dCqzDxI7XP"
      },
      "execution_count": null,
      "outputs": []
    },
    {
      "cell_type": "code",
      "source": [
        "def get_best_scores_fn(scores_table):\n",
        "    best_scores = []\n",
        "    for score_list in scores_table:\n",
        "        score = round(max(score_list), 2)\n",
        "        best_scores.append(score)\n",
        "    return best_scores"
      ],
      "metadata": {
        "id": "TnqRLcVCZ-Nv"
      },
      "execution_count": null,
      "outputs": []
    },
    {
      "cell_type": "code",
      "source": [
        "display_scores(SAE_scores)"
      ],
      "metadata": {
        "colab": {
          "base_uri": "https://localhost:8080/"
        },
        "id": "iPhK9PfnKISH",
        "outputId": "8780a4bd-f4d4-4e0c-95cb-24902b731536"
      },
      "execution_count": null,
      "outputs": [
        {
          "output_type": "stream",
          "name": "stdout",
          "text": [
            "numwords [1.0, 1.0]\n",
            "months [1.0, 1.0]\n",
            "days [0.67, 0.67]\n",
            "tomorrow_is [0.2, 0.8]\n",
            "nextMonth_is [0.75, 1.0]\n",
            "descr_numwords [0.75, 0.62]\n",
            "spanish_numwords [1.0, 0.8]\n"
          ]
        }
      ]
    },
    {
      "cell_type": "code",
      "source": [
        "display_scores(abl_SAE_scores)"
      ],
      "metadata": {
        "colab": {
          "base_uri": "https://localhost:8080/"
        },
        "id": "31fvO8ZQRdan",
        "outputId": "98941072-dc7c-4129-e961-5c7e386545f1"
      },
      "execution_count": null,
      "outputs": [
        {
          "output_type": "stream",
          "name": "stdout",
          "text": [
            "numwords [1.0, 1.0]\n",
            "months [1.0, 1.0]\n",
            "days [0.67, 0.67]\n",
            "tomorrow_is [0.0, 0.8]\n",
            "nextMonth_is [0.62, 1.0]\n",
            "descr_numwords [0.75, 0.62]\n",
            "spanish_numwords [1.0, 0.8]\n"
          ]
        }
      ]
    },
    {
      "cell_type": "code",
      "source": [
        "display_scores(LLM_scores)"
      ],
      "metadata": {
        "colab": {
          "base_uri": "https://localhost:8080/"
        },
        "id": "kKaO6XloKKlY",
        "outputId": "c9cf5ccf-d8d8-4899-e839-2867aacc90de"
      },
      "execution_count": null,
      "outputs": [
        {
          "output_type": "stream",
          "name": "stdout",
          "text": [
            "numwords [1.0, 0.8]\n",
            "months [0.0, 0.2]\n",
            "days [0.0, 0.33]\n",
            "tomorrow_is [0.0, 0.4]\n",
            "nextMonth_is [0.0, 1.0]\n",
            "descr_numwords [0.75, 0.5]\n",
            "spanish_numwords [0.8, 0.8]\n"
          ]
        }
      ]
    },
    {
      "cell_type": "code",
      "source": [
        "display_scores(LLMsp_abl_LLM_scores)"
      ],
      "metadata": {
        "colab": {
          "base_uri": "https://localhost:8080/"
        },
        "id": "Ss1Exn4tKNHF",
        "outputId": "74392a99-2449-408c-fe9c-3348d366e2e9"
      },
      "execution_count": null,
      "outputs": [
        {
          "output_type": "stream",
          "name": "stdout",
          "text": [
            "numwords [0.0, 0.0]\n",
            "months [0.0, 0.0]\n",
            "days [0.0, 0.0]\n",
            "tomorrow_is [0.0, 0.0]\n",
            "nextMonth_is [0.0, 0.0]\n",
            "descr_numwords [0.0, 0.12]\n",
            "spanish_numwords [0.2, 0.0]\n"
          ]
        }
      ]
    },
    {
      "cell_type": "code",
      "source": [
        "display_scores(SAEsp_abl_LLM_scores)"
      ],
      "metadata": {
        "colab": {
          "base_uri": "https://localhost:8080/"
        },
        "id": "GPKZEkdjInK0",
        "outputId": "281151cc-34cc-42f7-e569-6c796ea2e780"
      },
      "execution_count": null,
      "outputs": [
        {
          "output_type": "stream",
          "name": "stdout",
          "text": [
            "numwords [1.0, 1.0]\n",
            "months [0.2, 1.0]\n",
            "days [0.0, 0.67]\n",
            "tomorrow_is [0.0, 0.2]\n",
            "nextMonth_is [0.0, 1.0]\n",
            "descr_numwords [0.62, 0.62]\n",
            "spanish_numwords [0.6, 1.0]\n"
          ]
        }
      ]
    },
    {
      "cell_type": "markdown",
      "source": [
        "## avg score bar plots (Fig 1)"
      ],
      "metadata": {
        "id": "cYZ4-JFsfrSy"
      }
    },
    {
      "cell_type": "markdown",
      "source": [
        "We take the max, so that 0 vs 0.2 lower score of 'tomorrow_is, multp 1' in filtered SAE sv doesn't matter"
      ],
      "metadata": {
        "id": "tXSkT8qIQRXg"
      }
    },
    {
      "cell_type": "code",
      "source": [
        "avg_scores = []"
      ],
      "metadata": {
        "id": "HyAMPE5LfvPE"
      },
      "execution_count": null,
      "outputs": []
    },
    {
      "cell_type": "code",
      "source": [
        "avg_scores.append(avg_score_fn(LLM_scores))"
      ],
      "metadata": {
        "colab": {
          "base_uri": "https://localhost:8080/"
        },
        "id": "GTOPuNdzJE5N",
        "outputId": "3596f93f-5a27-4459-cc94-1434a2b665da"
      },
      "execution_count": null,
      "outputs": [
        {
          "output_type": "stream",
          "name": "stdout",
          "text": [
            "0.64\n"
          ]
        }
      ]
    },
    {
      "cell_type": "code",
      "source": [
        "avg_scores.append(avg_score_fn(SAE_scores))"
      ],
      "metadata": {
        "colab": {
          "base_uri": "https://localhost:8080/"
        },
        "id": "5FIcHfP0JC6Q",
        "outputId": "a98ecf6a-ec87-4b9b-b82d-a8fa0b154a0e"
      },
      "execution_count": null,
      "outputs": [
        {
          "output_type": "stream",
          "name": "stdout",
          "text": [
            "0.89\n"
          ]
        }
      ]
    },
    {
      "cell_type": "code",
      "source": [
        "avg_scores.append(avg_score_fn(LLMsp_abl_LLM_scores))"
      ],
      "metadata": {
        "colab": {
          "base_uri": "https://localhost:8080/"
        },
        "id": "ggIr6l7wJMa3",
        "outputId": "bf43ebc1-4d61-4850-d65c-987fe9701f40"
      },
      "execution_count": null,
      "outputs": [
        {
          "output_type": "stream",
          "name": "stdout",
          "text": [
            "0.05\n"
          ]
        }
      ]
    },
    {
      "cell_type": "code",
      "source": [
        "avg_scores.append(avg_score_fn(SAEsp_abl_LLM_scores))"
      ],
      "metadata": {
        "colab": {
          "base_uri": "https://localhost:8080/"
        },
        "id": "4C3BLb4QJKGD",
        "outputId": "868093ba-afb6-496d-83a4-c87814470e2c"
      },
      "execution_count": null,
      "outputs": [
        {
          "output_type": "stream",
          "name": "stdout",
          "text": [
            "0.78\n"
          ]
        }
      ]
    },
    {
      "cell_type": "code",
      "source": [
        "avg_scores.append(avg_score_fn(abl_SAE_scores))"
      ],
      "metadata": {
        "colab": {
          "base_uri": "https://localhost:8080/"
        },
        "id": "TpH7F1mYKgRC",
        "outputId": "c994f2be-b76f-4c9f-a9a9-2943b1551fc5"
      },
      "execution_count": null,
      "outputs": [
        {
          "output_type": "stream",
          "name": "stdout",
          "text": [
            "0.89\n"
          ]
        }
      ]
    },
    {
      "cell_type": "code",
      "source": [
        "avg_scores"
      ],
      "metadata": {
        "colab": {
          "base_uri": "https://localhost:8080/"
        },
        "id": "KEpndZoBiq9d",
        "outputId": "15822b3d-45f5-4dcc-a1a7-d10656ea0200"
      },
      "execution_count": null,
      "outputs": [
        {
          "output_type": "execute_result",
          "data": {
            "text/plain": [
              "[0.64, 0.89, 0.05, 0.78, 0.89]"
            ]
          },
          "metadata": {},
          "execution_count": 125
        }
      ]
    },
    {
      "cell_type": "code",
      "source": [
        "custom_labels = ['LLM (SV #1)', 'SAE (SV #2)', 'Decomp LLM \\n in LLM space \\n (SV #3)', 'Decomp LLM \\n in SAE space \\n (SV #4)', 'Filtered SAE \\n (SV #5)']\n",
        "colors = ['red', 'blue', 'orange', 'purple', 'lightblue']\n",
        "\n",
        "num_tasks = len(custom_labels)\n",
        "task_indices = np.arange(num_tasks)\n",
        "bar_width = 0.5\n",
        "\n",
        "fig, ax = plt.subplots()\n",
        "for i in range(num_tasks):\n",
        "    ax.bar(task_indices[i], avg_scores[i], width=bar_width, label=custom_labels[i], color=colors[i])\n",
        "\n",
        "ax.set_ylabel('Average Accuracy Score')\n",
        "ax.set_xticks(task_indices)\n",
        "ax.set_xticklabels(custom_labels)\n",
        "ax.set_xlim(-0.5, num_tasks - 0.5)\n",
        "\n",
        "plt.show()"
      ],
      "metadata": {
        "colab": {
          "base_uri": "https://localhost:8080/",
          "height": 462
        },
        "id": "S0bts8fGhlN3",
        "outputId": "6acbafd0-17bc-4dab-b915-5816a7caf05a"
      },
      "execution_count": null,
      "outputs": [
        {
          "output_type": "display_data",
          "data": {
            "text/plain": [
              "<Figure size 640x480 with 1 Axes>"
            ],
            "image/png": "[encoded data removed]"
          },
          "metadata": {}
        }
      ]
    },
    {
      "cell_type": "markdown",
      "source": [
        "## bar plot all tasks, all sv (Fig 2)"
      ],
      "metadata": {
        "id": "XJBPX-cfaynW"
      }
    },
    {
      "cell_type": "code",
      "source": [
        "test_labels_lst_2 = ['numwords', 'months', 'days', 'tomorrow_is', 'nextMonth_is', 'descr \\n numwords', 'spanish \\n numwords']"
      ],
      "metadata": {
        "id": "K_CdCOOEcl6i"
      },
      "execution_count": null,
      "outputs": []
    },
    {
      "cell_type": "code",
      "source": [
        "import numpy as np\n",
        "import matplotlib.pyplot as plt\n",
        "\n",
        "colors = ['red', 'blue', 'purple', 'lightblue',] #  'orange'  #cyan\n",
        "\n",
        "# custom_labels = ['SAE Model', 'LLM Model', 'LLMsp Ablated', 'SAEsp Ablated', 'Ablated SAE']\n",
        "custom_labels = ['LLM (SV #1)', 'SAE (SV #2)', 'SAE-Decomp LLM \\n (SV #4)', 'Filtered SAE \\n (SV #5)']\n",
        "\n",
        "scores = [\n",
        "    get_best_scores_fn(LLM_scores),\n",
        "    get_best_scores_fn(SAE_scores),\n",
        "    # get_best_scores_fn(LLMsp_abl_LLM_scores),\n",
        "    get_best_scores_fn(SAEsp_abl_LLM_scores),\n",
        "    get_best_scores_fn(abl_SAE_scores)\n",
        "]\n",
        "\n",
        "num_lists = len(scores)\n",
        "num_tasks = 3  # plot the first 3 tasks\n",
        "\n",
        "task_indices = np.arange(num_tasks) # position of the groups of bars\n",
        "\n",
        "bar_width = 0.15 #  width of a single bar\n",
        "\n",
        "fig, ax = plt.subplots()\n",
        "for i in range(num_lists):\n",
        "    ax.bar(task_indices + i * bar_width, [scores[i][j] for j in range(num_tasks)],\n",
        "           width=bar_width, label=custom_labels[i], color=colors[i])\n",
        "\n",
        "ax.set_ylabel('Accurary Score')\n",
        "# ax.set_title()\n",
        "ax.set_xticks(task_indices + bar_width * (num_lists - 1) / 2)\n",
        "ax.set_xticklabels([test_labels_lst[i] for i in range(num_tasks)])  # Adjusted for the first three tasks only\n",
        "\n",
        "# legend outside of the plot\n",
        "ax.legend(loc='upper left', bbox_to_anchor=(1, 1))\n",
        "\n",
        "# space out the x-ticks\n",
        "ax.set_xlim(-0.5, num_tasks - 0.5 + num_lists * bar_width)  # Adjusting x-limits to provide a better spaced view\n",
        "\n",
        "plt.show()"
      ],
      "metadata": {
        "colab": {
          "base_uri": "https://localhost:8080/",
          "height": 430
        },
        "id": "YpnGXn4ma1zv",
        "outputId": "cd435a5a-c5e4-4dba-ed89-66a9393e6562"
      },
      "execution_count": null,
      "outputs": [
        {
          "output_type": "display_data",
          "data": {
            "text/plain": [
              "<Figure size 640x480 with 1 Axes>"
            ],
            "image/png": "[encoded data removed]"
          },
          "metadata": {}
        }
      ]
    },
    {
      "cell_type": "code",
      "source": [
        "num_lists = len(scores)\n",
        "num_tasks = 4  # plot the last 4 tasks\n",
        "\n",
        "task_indices = np.arange(num_tasks)\n",
        "\n",
        "bar_width = 0.15\n",
        "\n",
        "fig, ax = plt.subplots()\n",
        "\n",
        "for i in range(num_lists):\n",
        "    ax.bar(task_indices + i * bar_width, [scores[i][j + 3] for j in range(num_tasks)],\n",
        "           width=bar_width, label=custom_labels[i], color=colors[i])\n",
        "\n",
        "ax.set_ylabel('Accuracy Score')\n",
        "# ax.set_title('')\n",
        "ax.set_xticks(task_indices + bar_width * (num_lists - 1) / 2)\n",
        "ax.set_xticklabels([test_labels_lst_2[i + 3] for i in range(num_tasks)])  # for the last four tasks only\n",
        "\n",
        "ax.legend(loc='upper left', bbox_to_anchor=(1, 1))\n",
        "\n",
        "ax.set_xlim(-0.5, num_tasks - 0.5 + num_lists * bar_width)\n",
        "\n",
        "plt.show()"
      ],
      "metadata": {
        "colab": {
          "base_uri": "https://localhost:8080/",
          "height": 446
        },
        "id": "nW7nH6zKRiJH",
        "outputId": "4bd9af85-615a-4ebe-befa-0eab9ebba931"
      },
      "execution_count": null,
      "outputs": [
        {
          "output_type": "display_data",
          "data": {
            "text/plain": [
              "<Figure size 640x480 with 1 Axes>"
            ],
            "image/png": "[encoded data removed]"
          },
          "metadata": {}
        }
      ]
    },
    {
      "cell_type": "markdown",
      "source": [
        "# sv of nums 1 to 4"
      ],
      "metadata": {
        "id": "Hsk9rhTabh5x"
      }
    },
    {
      "cell_type": "markdown",
      "metadata": {
        "id": "Www5tRbybsoY"
      },
      "source": [
        "## get steering vec"
      ]
    },
    {
      "cell_type": "code",
      "execution_count": null,
      "metadata": {
        "id": "q6fNRd6ubsoY"
      },
      "outputs": [],
      "source": [
        "words = ['1', '2', '3', '4']\n",
        "num_sv_samp = []\n",
        "for i in range(0, 4):\n",
        "    samp = f\"{words[i]}\"\n",
        "    num_sv_samp.append(samp)\n",
        "inputs = tokenizer(num_sv_samp, return_tensors=\"pt\", padding=True, truncation=True, max_length=300)['input_ids'].to(\"cuda\")\n",
        "target_act = gather_residual_activations(model_2, 20, inputs)\n",
        "sae_acts_1 = sae.encode(target_act.to(torch.float32))"
      ]
    },
    {
      "cell_type": "code",
      "execution_count": null,
      "metadata": {
        "colab": {
          "base_uri": "https://localhost:8080/"
        },
        "outputId": "5ac34bbb-0241-4ff4-86de-2fa6c48e9ac4",
        "id": "PhsZyh9ubsoY"
      },
      "outputs": [
        {
          "output_type": "execute_result",
          "data": {
            "text/plain": [
              "torch.Size([1, 2, 16384])"
            ]
          },
          "metadata": {},
          "execution_count": 144
        }
      ],
      "source": [
        "mean_num_sv = sae_acts_1.mean(dim=0)\n",
        "mean_num_sv = mean_num_sv.unsqueeze(0)\n",
        "mean_num_sv.shape"
      ]
    },
    {
      "cell_type": "markdown",
      "metadata": {
        "id": "PrTDrRsUbsoZ"
      },
      "source": [
        "## steer tests"
      ]
    },
    {
      "cell_type": "code",
      "execution_count": null,
      "metadata": {
        "id": "M_7BqcL4bsoZ"
      },
      "outputs": [],
      "source": [
        "%%capture\n",
        "multp_list = [1, 3]\n",
        "SAE_tables, SAE_scores = run_tests_steer_actvs(mean_num_sv, multp_list, 'SAE')"
      ]
    },
    {
      "cell_type": "code",
      "execution_count": null,
      "metadata": {
        "id": "2RORl5zybsoZ"
      },
      "outputs": [],
      "source": [
        "tables = SAE_tables\n",
        "scores = SAE_scores"
      ]
    },
    {
      "cell_type": "code",
      "execution_count": null,
      "metadata": {
        "colab": {
          "base_uri": "https://localhost:8080/"
        },
        "outputId": "c3080131-0080-4f07-ef4c-66ecdfdc3720",
        "id": "H7_3FqFdbsoa"
      },
      "outputs": [
        {
          "output_type": "stream",
          "name": "stdout",
          "text": [
            "MULTIPLIER:  1\n",
            "Acc Score:  1.0\n",
            "                   Prompt Answer Output\n",
            "0      one two three four      5      5\n",
            "1     two three four five      6      6\n",
            "2     three four five six      7      7\n",
            "3     four five six seven      8      8\n",
            "4    five six seven eight      9      9\n",
            "5    six seven eight nine             0\n",
            "6    seven eight nine ten             1\n",
            "7   eight nine ten eleven             2\n",
            "8  nine ten eleven twelve             3\n",
            "\n",
            "\n",
            "MULTIPLIER:  3\n",
            "Acc Score:  0.6\n",
            "                   Prompt Answer Output\n",
            "0      one two three four      5      5\n",
            "1     two three four five      6      0\n",
            "2     three four five six      7      7\n",
            "3     four five six seven      8      8\n",
            "4    five six seven eight      9      0\n",
            "5    six seven eight nine             0\n",
            "6    seven eight nine ten             1\n",
            "7   eight nine ten eleven             1\n",
            "8  nine ten eleven twelve             3\n",
            "\n",
            "\n"
          ]
        }
      ],
      "source": [
        "test_id = 0\n",
        "\n",
        "for i, df in enumerate(tables[test_id]):\n",
        "    print(\"MULTIPLIER: \", multp_list[i])\n",
        "    print(\"Acc Score: \", scores[test_id][i])\n",
        "    print(df) # display(df) ## display is too bulky\n",
        "    print('\\n')"
      ]
    },
    {
      "cell_type": "code",
      "execution_count": null,
      "metadata": {
        "colab": {
          "base_uri": "https://localhost:8080/"
        },
        "outputId": "50346021-8234-438e-b48f-a0cba006af63",
        "id": "Z2iyHE6mbsoa"
      },
      "outputs": [
        {
          "output_type": "stream",
          "name": "stdout",
          "text": [
            "MULTIPLIER:  1\n",
            "Acc Score:  1.0\n",
            "                         Prompt Answer Output\n",
            "0  January February March April      5      5\n",
            "1      February March April May      6      6\n",
            "2          March April May June      7      7\n",
            "3           April May June July      8      8\n",
            "4          May June July August      9      9\n",
            "\n",
            "\n",
            "MULTIPLIER:  3\n",
            "Acc Score:  0.2\n",
            "                         Prompt Answer Output\n",
            "0  January February March April      5      5\n",
            "1      February March April May      6      0\n",
            "2          March April May June      7      1\n",
            "3           April May June July      8      0\n",
            "4          May June July August      9      0\n",
            "\n",
            "\n"
          ]
        }
      ],
      "source": [
        "test_id = 1\n",
        "\n",
        "for i, df in enumerate(tables[test_id]):\n",
        "    print(\"MULTIPLIER: \", multp_list[i])\n",
        "    print(\"Acc Score: \", scores[test_id][i])\n",
        "    print(df) # display(df) ## display is too bulky\n",
        "    print('\\n')"
      ]
    },
    {
      "cell_type": "code",
      "execution_count": null,
      "metadata": {
        "colab": {
          "base_uri": "https://localhost:8080/"
        },
        "outputId": "4fd4d402-1ecc-4660-aaf4-ae98ddb024c1",
        "id": "4L3919scbsoa"
      },
      "outputs": [
        {
          "output_type": "stream",
          "name": "stdout",
          "text": [
            "MULTIPLIER:  1\n",
            "Acc Score:  1.0\n",
            "                       Prompt Answer Output\n",
            "0    Monday Tuesday Wednesday      4      4\n",
            "1  Tuesday Wednesday Thursday      5      5\n",
            "2   Wednesday Thursday Friday      6      6\n",
            "3    Thursday Friday Saturday             7\n",
            "4      Friday Saturday Sunday             .\n",
            "\n",
            "\n",
            "MULTIPLIER:  3\n",
            "Acc Score:  0.6666666666666666\n",
            "                       Prompt Answer Output\n",
            "0    Monday Tuesday Wednesday      4      4\n",
            "1  Tuesday Wednesday Thursday      5      5\n",
            "2   Wednesday Thursday Friday      6      0\n",
            "3    Thursday Friday Saturday             0\n",
            "4      Friday Saturday Sunday             1\n",
            "\n",
            "\n"
          ]
        }
      ],
      "source": [
        "test_id = 2\n",
        "\n",
        "for i, df in enumerate(tables[test_id]):\n",
        "    print(\"MULTIPLIER: \", multp_list[i])\n",
        "    print(\"Acc Score: \", scores[test_id][i])\n",
        "    print(df) # display(df) ## display is too bulky\n",
        "    print('\\n')"
      ]
    },
    {
      "cell_type": "code",
      "execution_count": null,
      "metadata": {
        "colab": {
          "base_uri": "https://localhost:8080/"
        },
        "outputId": "2eccffdc-567d-4146-9128-cecff841c407",
        "id": "1j038K-cbsoa"
      },
      "outputs": [
        {
          "output_type": "stream",
          "name": "stdout",
          "text": [
            "MULTIPLIER:  1\n",
            "Acc Score:  0.6\n",
            "                            Prompt Answer   Output\n",
            "0     Today is Monday, tomorrow is      2        0\n",
            "1    Today is Tuesday, tomorrow is      3        3\n",
            "2  Today is Wednesday, tomorrow is      4        4\n",
            "3   Today is Thursday, tomorrow is      5   Friday\n",
            "4     Today is Friday, tomorrow is      6        6\n",
            "5   Today is Saturday, tomorrow is          Sunday\n",
            "\n",
            "\n",
            "MULTIPLIER:  3\n",
            "Acc Score:  0.6\n",
            "                            Prompt Answer Output\n",
            "0     Today is Monday, tomorrow is      2      2\n",
            "1    Today is Tuesday, tomorrow is      3      3\n",
            "2  Today is Wednesday, tomorrow is      4      4\n",
            "3   Today is Thursday, tomorrow is      5      0\n",
            "4     Today is Friday, tomorrow is      6      0\n",
            "5   Today is Saturday, tomorrow is             0\n",
            "\n",
            "\n"
          ]
        }
      ],
      "source": [
        "test_id = 3\n",
        "\n",
        "for i, df in enumerate(tables[test_id]):\n",
        "    print(\"MULTIPLIER: \", multp_list[i])\n",
        "    print(\"Acc Score: \", scores[test_id][i])\n",
        "    print(df) # display(df) ## display is too bulky\n",
        "    print('\\n')"
      ]
    },
    {
      "cell_type": "code",
      "execution_count": null,
      "metadata": {
        "colab": {
          "base_uri": "https://localhost:8080/"
        },
        "outputId": "38576f50-049c-4213-9d0f-5a74eda868f9",
        "id": "Bil_rmtgbsob"
      },
      "outputs": [
        {
          "output_type": "stream",
          "name": "stdout",
          "text": [
            "MULTIPLIER:  1\n",
            "Acc Score:  0.875\n",
            "                                  Prompt Answer     Output\n",
            "0   This month is January, next month is      2   February\n",
            "1  This month is February, next month is      3          3\n",
            "2     This month is March, next month is      4          4\n",
            "3     This month is April, next month is      5          5\n",
            "4       This month is May, next month is      6          6\n",
            "5      This month is June, next month is      7          7\n",
            "6      This month is July, next month is      8          8\n",
            "7    This month is August, next month is      9          9\n",
            "\n",
            "\n",
            "MULTIPLIER:  3\n",
            "Acc Score:  0.875\n",
            "                                  Prompt Answer Output\n",
            "0   This month is January, next month is      2      2\n",
            "1  This month is February, next month is      3      3\n",
            "2     This month is March, next month is      4      4\n",
            "3     This month is April, next month is      5      5\n",
            "4       This month is May, next month is      6      0\n",
            "5      This month is June, next month is      7      7\n",
            "6      This month is July, next month is      8      8\n",
            "7    This month is August, next month is      9      9\n",
            "\n",
            "\n"
          ]
        }
      ],
      "source": [
        "test_id = 4\n",
        "\n",
        "for i, df in enumerate(tables[test_id]):\n",
        "    print(\"MULTIPLIER: \", multp_list[i])\n",
        "    print(\"Acc Score: \", scores[test_id][i])\n",
        "    print(df) # display(df) ## display is too bulky\n",
        "    print('\\n')"
      ]
    },
    {
      "cell_type": "code",
      "execution_count": null,
      "metadata": {
        "colab": {
          "base_uri": "https://localhost:8080/"
        },
        "outputId": "63ce9e57-c0d8-4936-8a06-e3907fec8673",
        "id": "sOJdcc-Cbsob"
      },
      "outputs": [
        {
          "output_type": "stream",
          "name": "stdout",
          "text": [
            "MULTIPLIER:  1\n",
            "Acc Score:  0.75\n",
            "                   Prompt Answer Output\n",
            "0  twelve eleven ten nine      8      8\n",
            "1   eleven ten nine eight      7      7\n",
            "2    ten nine eight seven      6      6\n",
            "3    nine eight seven six      5      0\n",
            "4    eight seven six five      4      0\n",
            "5     seven six five four      3      3\n",
            "6     six five four three      2      2\n",
            "7     five four three two      1      1\n",
            "\n",
            "\n",
            "MULTIPLIER:  3\n",
            "Acc Score:  0.375\n",
            "                   Prompt Answer Output\n",
            "0  twelve eleven ten nine      8      0\n",
            "1   eleven ten nine eight      7      0\n",
            "2    ten nine eight seven      6      0\n",
            "3    nine eight seven six      5      0\n",
            "4    eight seven six five      4      0\n",
            "5     seven six five four      3      3\n",
            "6     six five four three      2      2\n",
            "7     five four three two      1      1\n",
            "\n",
            "\n"
          ]
        }
      ],
      "source": [
        "test_id = 5\n",
        "\n",
        "for i, df in enumerate(tables[test_id]):\n",
        "    print(\"MULTIPLIER: \", multp_list[i])\n",
        "    print(\"Acc Score: \", scores[test_id][i])\n",
        "    print(df) # display(df) ## display is too bulky\n",
        "    print('\\n')"
      ]
    },
    {
      "cell_type": "code",
      "execution_count": null,
      "metadata": {
        "colab": {
          "base_uri": "https://localhost:8080/"
        },
        "outputId": "437c3da4-108c-4c97-8034-fe2e382afa6a",
        "id": "8gQwNiKVbsob"
      },
      "outputs": [
        {
          "output_type": "stream",
          "name": "stdout",
          "text": [
            "MULTIPLIER:  1\n",
            "Acc Score:  1.0\n",
            "                    Prompt Answer Output\n",
            "0      uno dos tres cuatro      5      5\n",
            "1    dos tres cuatro cinco      6      6\n",
            "2   tres cuatro cinco seis      7      7\n",
            "3  cuatro cinco seis siete      8      8\n",
            "4    cinco seis siete ocho      9      9\n",
            "5    seis siete ocho nueve             0\n",
            "\n",
            "\n",
            "MULTIPLIER:  3\n",
            "Acc Score:  0.6\n",
            "                    Prompt Answer Output\n",
            "0      uno dos tres cuatro      5      5\n",
            "1    dos tres cuatro cinco      6      0\n",
            "2   tres cuatro cinco seis      7      7\n",
            "3  cuatro cinco seis siete      8      8\n",
            "4    cinco seis siete ocho      9      0\n",
            "5    seis siete ocho nueve             0\n",
            "\n",
            "\n"
          ]
        }
      ],
      "source": [
        "test_id = 6\n",
        "\n",
        "for i, df in enumerate(tables[test_id]):\n",
        "    print(\"MULTIPLIER: \", multp_list[i])\n",
        "    print(\"Acc Score: \", scores[test_id][i])\n",
        "    print(df) # display(df) ## display is too bulky\n",
        "    print('\\n')"
      ]
    },
    {
      "cell_type": "markdown",
      "metadata": {
        "id": "e_pfwRiFbsob"
      },
      "source": [
        "## nonseq prompts"
      ]
    },
    {
      "cell_type": "code",
      "execution_count": null,
      "metadata": {
        "colab": {
          "base_uri": "https://localhost:8080/"
        },
        "outputId": "d4b0049a-aae7-4d00-fb20-d8b722f86b94",
        "id": "52k0Q4oGbsob"
      },
      "outputs": [
        {
          "output_type": "stream",
          "name": "stdout",
          "text": [
            "aa a a\n",
            "1\n",
            "I AM A CAT\n",
            "0\n",
            "Bob and Mary went to store\n",
            "0\n",
            "my favorite colour is\n",
            "0\n"
          ]
        }
      ],
      "source": [
        "nonseq_prompts = [ \"aa a a\", \"I AM A CAT\", \"Bob and Mary went to store\", \"my favorite colour is\"]\n",
        "steer_vec = mean_num_sv\n",
        "multp = 3\n",
        "\n",
        "for prompt in nonseq_prompts:\n",
        "    print(prompt)\n",
        "    steer_by_sae_lastTok(prompt, steer_vec, multp)"
      ]
    },
    {
      "cell_type": "code",
      "execution_count": null,
      "metadata": {
        "colab": {
          "base_uri": "https://localhost:8080/"
        },
        "outputId": "0702f1cb-0204-4dc2-cbbc-a6e02af614c2",
        "id": "9Xml5mtXbsob"
      },
      "outputs": [
        {
          "output_type": "stream",
          "name": "stdout",
          "text": [
            "aa a a\n",
            "0\n",
            "I AM A CAT\n",
            "0\n",
            "Bob and Mary went to store\n",
            "0\n",
            "my favorite colour is\n",
            "0\n"
          ]
        }
      ],
      "source": [
        "nonseq_prompts = [ \"aa a a\", \"I AM A CAT\", \"Bob and Mary went to store\", \"my favorite colour is\"]\n",
        "steer_vec = mean_num_sv\n",
        "multp = 10\n",
        "\n",
        "for prompt in nonseq_prompts:\n",
        "    print(prompt)\n",
        "    steer_by_sae_lastTok(prompt, steer_vec, multp)"
      ]
    },
    {
      "cell_type": "markdown",
      "source": [
        "# sv of nums 6 to 9"
      ],
      "metadata": {
        "id": "XowUlnNNcLFR"
      }
    },
    {
      "cell_type": "markdown",
      "metadata": {
        "id": "kcKrutVecLFR"
      },
      "source": [
        "## get steering vec"
      ]
    },
    {
      "cell_type": "code",
      "execution_count": null,
      "metadata": {
        "id": "J27jL-HUcLFR"
      },
      "outputs": [],
      "source": [
        "words = ['6', '7', '8', '9']\n",
        "num_sv_samp = []\n",
        "for i in range(0, 4):\n",
        "    samp = f\"{words[i]}\"\n",
        "    num_sv_samp.append(samp)\n",
        "inputs = tokenizer(num_sv_samp, return_tensors=\"pt\", padding=True, truncation=True, max_length=300)['input_ids'].to(\"cuda\")\n",
        "target_act = gather_residual_activations(model_2, 20, inputs)\n",
        "sae_acts_1 = sae.encode(target_act.to(torch.float32))"
      ]
    },
    {
      "cell_type": "code",
      "execution_count": null,
      "metadata": {
        "colab": {
          "base_uri": "https://localhost:8080/"
        },
        "outputId": "139a4a2e-00c7-491a-cc9f-cbe5683ea78d",
        "id": "QO7N8AoZcLFS"
      },
      "outputs": [
        {
          "output_type": "execute_result",
          "data": {
            "text/plain": [
              "torch.Size([1, 2, 16384])"
            ]
          },
          "metadata": {},
          "execution_count": 170
        }
      ],
      "source": [
        "mean_num_sv = sae_acts_1.mean(dim=0)\n",
        "mean_num_sv = mean_num_sv.unsqueeze(0)\n",
        "mean_num_sv.shape"
      ]
    },
    {
      "cell_type": "markdown",
      "metadata": {
        "id": "0IbvhY5ScLFS"
      },
      "source": [
        "## steer tests"
      ]
    },
    {
      "cell_type": "code",
      "execution_count": null,
      "metadata": {
        "id": "DZN-YVlTcLFS"
      },
      "outputs": [],
      "source": [
        "%%capture\n",
        "multp_list = [1, 3]\n",
        "SAE_tables, SAE_scores = run_tests_steer_actvs(mean_num_sv, multp_list, 'SAE')"
      ]
    },
    {
      "cell_type": "code",
      "execution_count": null,
      "metadata": {
        "id": "2gfiIsbVcLFS"
      },
      "outputs": [],
      "source": [
        "tables = SAE_tables\n",
        "scores = SAE_scores"
      ]
    },
    {
      "cell_type": "code",
      "execution_count": null,
      "metadata": {
        "colab": {
          "base_uri": "https://localhost:8080/"
        },
        "outputId": "c22eb594-9c20-4b06-e1d3-03fa7dbb8082",
        "id": "eOVWdIcvcLFS"
      },
      "outputs": [
        {
          "output_type": "stream",
          "name": "stdout",
          "text": [
            "MULTIPLIER:  1\n",
            "Acc Score:  1.0\n",
            "                   Prompt Answer Output\n",
            "0      one two three four      5      5\n",
            "1     two three four five      6      6\n",
            "2     three four five six      7      7\n",
            "3     four five six seven      8      8\n",
            "4    five six seven eight      9      9\n",
            "5    six seven eight nine             8\n",
            "6    seven eight nine ten             1\n",
            "7   eight nine ten eleven            \\n\n",
            "8  nine ten eleven twelve             3\n",
            "\n",
            "\n",
            "MULTIPLIER:  3\n",
            "Acc Score:  1.0\n",
            "                   Prompt Answer Output\n",
            "0      one two three four      5      5\n",
            "1     two three four five      6      6\n",
            "2     three four five six      7      7\n",
            "3     four five six seven      8      8\n",
            "4    five six seven eight      9      9\n",
            "5    six seven eight nine             8\n",
            "6    seven eight nine ten             1\n",
            "7   eight nine ten eleven             1\n",
            "8  nine ten eleven twelve             3\n",
            "\n",
            "\n"
          ]
        }
      ],
      "source": [
        "test_id = 0\n",
        "\n",
        "for i, df in enumerate(tables[test_id]):\n",
        "    print(\"MULTIPLIER: \", multp_list[i])\n",
        "    print(\"Acc Score: \", scores[test_id][i])\n",
        "    print(df) # display(df) ## display is too bulky\n",
        "    print('\\n')"
      ]
    },
    {
      "cell_type": "code",
      "execution_count": null,
      "metadata": {
        "colab": {
          "base_uri": "https://localhost:8080/"
        },
        "outputId": "fdbd0a4f-cc96-4a20-9180-ef6d29a617d8",
        "id": "6paqo7lRcLFS"
      },
      "outputs": [
        {
          "output_type": "stream",
          "name": "stdout",
          "text": [
            "MULTIPLIER:  1\n",
            "Acc Score:  0.6\n",
            "                         Prompt Answer Output\n",
            "0  January February March April      5      5\n",
            "1      February March April May      6       \n",
            "2          March April May June      7       \n",
            "3           April May June July      8      8\n",
            "4          May June July August      9      9\n",
            "\n",
            "\n",
            "MULTIPLIER:  3\n",
            "Acc Score:  1.0\n",
            "                         Prompt Answer Output\n",
            "0  January February March April      5      5\n",
            "1      February March April May      6      6\n",
            "2          March April May June      7      7\n",
            "3           April May June July      8      8\n",
            "4          May June July August      9      9\n",
            "\n",
            "\n"
          ]
        }
      ],
      "source": [
        "test_id = 1\n",
        "\n",
        "for i, df in enumerate(tables[test_id]):\n",
        "    print(\"MULTIPLIER: \", multp_list[i])\n",
        "    print(\"Acc Score: \", scores[test_id][i])\n",
        "    print(df) # display(df) ## display is too bulky\n",
        "    print('\\n')"
      ]
    },
    {
      "cell_type": "code",
      "execution_count": null,
      "metadata": {
        "colab": {
          "base_uri": "https://localhost:8080/"
        },
        "outputId": "ff77e449-c2a8-4d28-e382-e6d3a1d7b2b3",
        "id": "f_zIZEnTcLFS"
      },
      "outputs": [
        {
          "output_type": "stream",
          "name": "stdout",
          "text": [
            "MULTIPLIER:  1\n",
            "Acc Score:  0.6666666666666666\n",
            "                       Prompt Answer Output\n",
            "0    Monday Tuesday Wednesday      4      4\n",
            "1  Tuesday Wednesday Thursday      5      5\n",
            "2   Wednesday Thursday Friday      6       \n",
            "3    Thursday Friday Saturday            \\n\n",
            "4      Friday Saturday Sunday             ,\n",
            "\n",
            "\n",
            "MULTIPLIER:  3\n",
            "Acc Score:  1.0\n",
            "                       Prompt Answer Output\n",
            "0    Monday Tuesday Wednesday      4      4\n",
            "1  Tuesday Wednesday Thursday      5      5\n",
            "2   Wednesday Thursday Friday      6      6\n",
            "3    Thursday Friday Saturday             7\n",
            "4      Friday Saturday Sunday             0\n",
            "\n",
            "\n"
          ]
        }
      ],
      "source": [
        "test_id = 2\n",
        "\n",
        "for i, df in enumerate(tables[test_id]):\n",
        "    print(\"MULTIPLIER: \", multp_list[i])\n",
        "    print(\"Acc Score: \", scores[test_id][i])\n",
        "    print(df) # display(df) ## display is too bulky\n",
        "    print('\\n')"
      ]
    },
    {
      "cell_type": "code",
      "execution_count": null,
      "metadata": {
        "colab": {
          "base_uri": "https://localhost:8080/"
        },
        "outputId": "99dad915-8fda-4605-b1c6-1abfa994e3f4",
        "id": "tbav9b8jcLFS"
      },
      "outputs": [
        {
          "output_type": "stream",
          "name": "stdout",
          "text": [
            "MULTIPLIER:  1\n",
            "Acc Score:  0.0\n",
            "                            Prompt Answer      Output\n",
            "0     Today is Monday, tomorrow is      2     Tuesday\n",
            "1    Today is Tuesday, tomorrow is      3   Wednesday\n",
            "2  Today is Wednesday, tomorrow is      4    Thursday\n",
            "3   Today is Thursday, tomorrow is      5      Friday\n",
            "4     Today is Friday, tomorrow is      6            \n",
            "5   Today is Saturday, tomorrow is             Sunday\n",
            "\n",
            "\n",
            "MULTIPLIER:  3\n",
            "Acc Score:  0.8\n",
            "                            Prompt Answer Output\n",
            "0     Today is Monday, tomorrow is      2      2\n",
            "1    Today is Tuesday, tomorrow is      3      3\n",
            "2  Today is Wednesday, tomorrow is      4      4\n",
            "3   Today is Thursday, tomorrow is      5      5\n",
            "4     Today is Friday, tomorrow is      6      0\n",
            "5   Today is Saturday, tomorrow is             0\n",
            "\n",
            "\n"
          ]
        }
      ],
      "source": [
        "test_id = 3\n",
        "\n",
        "for i, df in enumerate(tables[test_id]):\n",
        "    print(\"MULTIPLIER: \", multp_list[i])\n",
        "    print(\"Acc Score: \", scores[test_id][i])\n",
        "    print(df) # display(df) ## display is too bulky\n",
        "    print('\\n')"
      ]
    },
    {
      "cell_type": "code",
      "execution_count": null,
      "metadata": {
        "colab": {
          "base_uri": "https://localhost:8080/"
        },
        "outputId": "c5993766-4c90-45c4-9411-97b22a8287ef",
        "id": "QEmyn6oicLFS"
      },
      "outputs": [
        {
          "output_type": "stream",
          "name": "stdout",
          "text": [
            "MULTIPLIER:  1\n",
            "Acc Score:  0.375\n",
            "                                  Prompt Answer      Output\n",
            "0   This month is January, next month is      2    February\n",
            "1  This month is February, next month is      3       March\n",
            "2     This month is March, next month is      4       April\n",
            "3     This month is April, next month is      5         May\n",
            "4       This month is May, next month is      6           6\n",
            "5      This month is June, next month is      7           7\n",
            "6      This month is July, next month is      8           8\n",
            "7    This month is August, next month is      9   September\n",
            "\n",
            "\n",
            "MULTIPLIER:  3\n",
            "Acc Score:  1.0\n",
            "                                  Prompt Answer Output\n",
            "0   This month is January, next month is      2      2\n",
            "1  This month is February, next month is      3      3\n",
            "2     This month is March, next month is      4      4\n",
            "3     This month is April, next month is      5      5\n",
            "4       This month is May, next month is      6      6\n",
            "5      This month is June, next month is      7      7\n",
            "6      This month is July, next month is      8      8\n",
            "7    This month is August, next month is      9      9\n",
            "\n",
            "\n"
          ]
        }
      ],
      "source": [
        "test_id = 4\n",
        "\n",
        "for i, df in enumerate(tables[test_id]):\n",
        "    print(\"MULTIPLIER: \", multp_list[i])\n",
        "    print(\"Acc Score: \", scores[test_id][i])\n",
        "    print(df) # display(df) ## display is too bulky\n",
        "    print('\\n')"
      ]
    },
    {
      "cell_type": "code",
      "execution_count": null,
      "metadata": {
        "colab": {
          "base_uri": "https://localhost:8080/"
        },
        "outputId": "3dcd26ca-3144-4be3-ead6-4d0db65f756d",
        "id": "LQGC9VTLcLFT"
      },
      "outputs": [
        {
          "output_type": "stream",
          "name": "stdout",
          "text": [
            "MULTIPLIER:  1\n",
            "Acc Score:  0.75\n",
            "                   Prompt Answer Output\n",
            "0  twelve eleven ten nine      8      8\n",
            "1   eleven ten nine eight      7      7\n",
            "2    ten nine eight seven      6      6\n",
            "3    nine eight seven six      5      7\n",
            "4    eight seven six five      4       \n",
            "5     seven six five four      3      3\n",
            "6     six five four three      2      2\n",
            "7     five four three two      1      1\n",
            "\n",
            "\n",
            "MULTIPLIER:  3\n",
            "Acc Score:  0.75\n",
            "                   Prompt Answer Output\n",
            "0  twelve eleven ten nine      8      8\n",
            "1   eleven ten nine eight      7      7\n",
            "2    ten nine eight seven      6      6\n",
            "3    nine eight seven six      5      0\n",
            "4    eight seven six five      4      0\n",
            "5     seven six five four      3      3\n",
            "6     six five four three      2      2\n",
            "7     five four three two      1      1\n",
            "\n",
            "\n"
          ]
        }
      ],
      "source": [
        "test_id = 5\n",
        "\n",
        "for i, df in enumerate(tables[test_id]):\n",
        "    print(\"MULTIPLIER: \", multp_list[i])\n",
        "    print(\"Acc Score: \", scores[test_id][i])\n",
        "    print(df) # display(df) ## display is too bulky\n",
        "    print('\\n')"
      ]
    },
    {
      "cell_type": "code",
      "execution_count": null,
      "metadata": {
        "colab": {
          "base_uri": "https://localhost:8080/"
        },
        "outputId": "89db7c72-eaa1-4260-a3c8-724ddf6af125",
        "id": "cJV6uJDjcLFT"
      },
      "outputs": [
        {
          "output_type": "stream",
          "name": "stdout",
          "text": [
            "MULTIPLIER:  1\n",
            "Acc Score:  1.0\n",
            "                    Prompt Answer Output\n",
            "0      uno dos tres cuatro      5      5\n",
            "1    dos tres cuatro cinco      6      6\n",
            "2   tres cuatro cinco seis      7      7\n",
            "3  cuatro cinco seis siete      8      8\n",
            "4    cinco seis siete ocho      9      9\n",
            "5    seis siete ocho nueve             0\n",
            "\n",
            "\n",
            "MULTIPLIER:  3\n",
            "Acc Score:  1.0\n",
            "                    Prompt Answer Output\n",
            "0      uno dos tres cuatro      5      5\n",
            "1    dos tres cuatro cinco      6      6\n",
            "2   tres cuatro cinco seis      7      7\n",
            "3  cuatro cinco seis siete      8      8\n",
            "4    cinco seis siete ocho      9      9\n",
            "5    seis siete ocho nueve             0\n",
            "\n",
            "\n"
          ]
        }
      ],
      "source": [
        "test_id = 6\n",
        "\n",
        "for i, df in enumerate(tables[test_id]):\n",
        "    print(\"MULTIPLIER: \", multp_list[i])\n",
        "    print(\"Acc Score: \", scores[test_id][i])\n",
        "    print(df) # display(df) ## display is too bulky\n",
        "    print('\\n')"
      ]
    },
    {
      "cell_type": "markdown",
      "metadata": {
        "id": "JH9Ys3-fcLFT"
      },
      "source": [
        "## nonseq prompts"
      ]
    },
    {
      "cell_type": "code",
      "execution_count": null,
      "metadata": {
        "colab": {
          "base_uri": "https://localhost:8080/"
        },
        "outputId": "8c94e4e6-80a0-42a4-eefe-1522aaecf391",
        "id": "TDA7uOqEcLFT"
      },
      "outputs": [
        {
          "output_type": "stream",
          "name": "stdout",
          "text": [
            "aa a a\n",
            "0\n",
            "I AM A CAT\n",
            "0\n",
            "Bob and Mary went to store\n",
            "0\n",
            "my favorite colour is\n",
            "0\n"
          ]
        }
      ],
      "source": [
        "nonseq_prompts = [ \"aa a a\", \"I AM A CAT\", \"Bob and Mary went to store\", \"my favorite colour is\"]\n",
        "steer_vec = mean_num_sv\n",
        "multp = 3\n",
        "\n",
        "for prompt in nonseq_prompts:\n",
        "    print(prompt)\n",
        "    steer_by_sae_lastTok(prompt, steer_vec, multp)"
      ]
    },
    {
      "cell_type": "code",
      "execution_count": null,
      "metadata": {
        "colab": {
          "base_uri": "https://localhost:8080/"
        },
        "outputId": "41acc773-93ec-4452-fbd5-750cf82ce52b",
        "id": "e0VcXKKPcLFT"
      },
      "outputs": [
        {
          "output_type": "stream",
          "name": "stdout",
          "text": [
            "aa a a\n",
            "7\n",
            "I AM A CAT\n",
            "7\n",
            "Bob and Mary went to store\n",
            "7\n",
            "my favorite colour is\n",
            "7\n"
          ]
        }
      ],
      "source": [
        "nonseq_prompts = [ \"aa a a\", \"I AM A CAT\", \"Bob and Mary went to store\", \"my favorite colour is\"]\n",
        "steer_vec = mean_num_sv\n",
        "multp = 10\n",
        "\n",
        "for prompt in nonseq_prompts:\n",
        "    print(prompt)\n",
        "    steer_by_sae_lastTok(prompt, steer_vec, multp)"
      ]
    }
  ],
  "metadata": {
    "accelerator": "GPU",
    "colab": {
      "collapsed_sections": [
        "wuXfy_TtGaey"
      ],
      "gpuType": "L4",
      "machine_shape": "hm",
      "toc_visible": true,
      "provenance": []
    },
    "kernelspec": {
      "display_name": "Python 3",
      "name": "python3"
    },
    "language_info": {
      "name": "python"
    },
    "widgets": {
      "application/vnd.jupyter.widget-state+json": {
        "20712ca8fa124594b0dad0f40602bfb5": {
          "model_module": "@jupyter-widgets/controls",
          "model_name": "VBoxModel",
          "model_module_version": "1.5.0",
          "state": {
            "_dom_classes": [],
            "_model_module": "@jupyter-widgets/controls",
            "_model_module_version": "1.5.0",
            "_model_name": "VBoxModel",
            "_view_count": null,
            "_view_module": "@jupyter-widgets/controls",
            "_view_module_version": "1.5.0",
            "_view_name": "VBoxView",
            "box_style": "",
            "children": [
              "IPY_MODEL_9fd1a85ffa2b40358cfce429124a5886",
              "IPY_MODEL_3b294e1525894e569d5fe5791f69b041",
              "IPY_MODEL_2a3b957dd0f34640a1074cb4351284cc",
              "IPY_MODEL_b64041fca1a04c0b909f4b89c1f32e62",
              "IPY_MODEL_e4b25c2b97284449b0cb57d1cfd4a197"
            ],
            "layout": "IPY_MODEL_e33fb2fd996c46919be89f946bacfc65"
          }
        },
        "9fd1a85ffa2b40358cfce429124a5886": {
          "model_module": "@jupyter-widgets/controls",
          "model_name": "HTMLModel",
          "model_module_version": "1.5.0",
          "state": {
            "_dom_classes": [],
            "_model_module": "@jupyter-widgets/controls",
            "_model_module_version": "1.5.0",
            "_model_name": "HTMLModel",
            "_view_count": null,
            "_view_module": "@jupyter-widgets/controls",
            "_view_module_version": "1.5.0",
            "_view_name": "HTMLView",
            "description": "",
            "description_tooltip": null,
            "layout": "IPY_MODEL_9ec3ed384f48455fad75a41a27016116",
            "placeholder": "​",
            "style": "IPY_MODEL_7b526d6219a148899773ae4dfc790a2c",
            "value": "<center> <img\nsrc=https://huggingface.co/front/assets/huggingface_logo-noborder.svg\nalt='Hugging Face'> <br> Copy a token from <a\nhref=\"https://huggingface.co/settings/tokens\" target=\"_blank\">your Hugging Face\ntokens page</a> and paste it below. <br> Immediately click login after copying\nyour token or it might be stored in plain text in this notebook file. </center>"
          }
        },
        "3b294e1525894e569d5fe5791f69b041": {
          "model_module": "@jupyter-widgets/controls",
          "model_name": "PasswordModel",
          "model_module_version": "1.5.0",
          "state": {
            "_dom_classes": [],
            "_model_module": "@jupyter-widgets/controls",
            "_model_module_version": "1.5.0",
            "_model_name": "PasswordModel",
            "_view_count": null,
            "_view_module": "@jupyter-widgets/controls",
            "_view_module_version": "1.5.0",
            "_view_name": "PasswordView",
            "continuous_update": true,
            "description": "Token:",
            "description_tooltip": null,
            "disabled": false,
            "layout": "IPY_MODEL_afb94f51cedc46938ff2f7b147b3c3b0",
            "placeholder": "​",
            "style": "IPY_MODEL_68f30fd63aee4c4e809628da7b85b53c",
            "value": ""
          }
        },
        "2a3b957dd0f34640a1074cb4351284cc": {
          "model_module": "@jupyter-widgets/controls",
          "model_name": "CheckboxModel",
          "model_module_version": "1.5.0",
          "state": {
            "_dom_classes": [],
            "_model_module": "@jupyter-widgets/controls",
            "_model_module_version": "1.5.0",
            "_model_name": "CheckboxModel",
            "_view_count": null,
            "_view_module": "@jupyter-widgets/controls",
            "_view_module_version": "1.5.0",
            "_view_name": "CheckboxView",
            "description": "Add token as git credential?",
            "description_tooltip": null,
            "disabled": false,
            "indent": true,
            "layout": "IPY_MODEL_a62d91308ae04128b8cf909d87bfef24",
            "style": "IPY_MODEL_d52a88e60e024c33a787a6b0b8ee5f9a",
            "value": true
          }
        },
        "b64041fca1a04c0b909f4b89c1f32e62": {
          "model_module": "@jupyter-widgets/controls",
          "model_name": "ButtonModel",
          "model_module_version": "1.5.0",
          "state": {
            "_dom_classes": [],
            "_model_module": "@jupyter-widgets/controls",
            "_model_module_version": "1.5.0",
            "_model_name": "ButtonModel",
            "_view_count": null,
            "_view_module": "@jupyter-widgets/controls",
            "_view_module_version": "1.5.0",
            "_view_name": "ButtonView",
            "button_style": "",
            "description": "Login",
            "disabled": false,
            "icon": "",
            "layout": "IPY_MODEL_74bc9456b84e44fb8776f4bff05dbd4d",
            "style": "IPY_MODEL_82ac6172bafb402ea6c65de60b687cb6",
            "tooltip": ""
          }
        },
        "e4b25c2b97284449b0cb57d1cfd4a197": {
          "model_module": "@jupyter-widgets/controls",
          "model_name": "HTMLModel",
          "model_module_version": "1.5.0",
          "state": {
            "_dom_classes": [],
            "_model_module": "@jupyter-widgets/controls",
            "_model_module_version": "1.5.0",
            "_model_name": "HTMLModel",
            "_view_count": null,
            "_view_module": "@jupyter-widgets/controls",
            "_view_module_version": "1.5.0",
            "_view_name": "HTMLView",
            "description": "",
            "description_tooltip": null,
            "layout": "IPY_MODEL_4cfb6909ad734c76a91ff5771112a35b",
            "placeholder": "​",
            "style": "IPY_MODEL_3988f92368e949a08dcfa9f1f96c2430",
            "value": "\n<b>Pro Tip:</b> If you don't already have one, you can create a dedicated\n'notebooks' token with 'write' access, that you can then easily reuse for all\nnotebooks. </center>"
          }
        },
        "e33fb2fd996c46919be89f946bacfc65": {
          "model_module": "@jupyter-widgets/base",
          "model_name": "LayoutModel",
          "model_module_version": "1.2.0",
          "state": {
            "_model_module": "@jupyter-widgets/base",
            "_model_module_version": "1.2.0",
            "_model_name": "LayoutModel",
            "_view_count": null,
            "_view_module": "@jupyter-widgets/base",
            "_view_module_version": "1.2.0",
            "_view_name": "LayoutView",
            "align_content": null,
            "align_items": "center",
            "align_self": null,
            "border": null,
            "bottom": null,
            "display": "flex",
            "flex": null,
            "flex_flow": "column",
            "grid_area": null,
            "grid_auto_columns": null,
            "grid_auto_flow": null,
            "grid_auto_rows": null,
            "grid_column": null,
            "grid_gap": null,
            "grid_row": null,
            "grid_template_areas": null,
            "grid_template_columns": null,
            "grid_template_rows": null,
            "height": null,
            "justify_content": null,
            "justify_items": null,
            "left": null,
            "margin": null,
            "max_height": null,
            "max_width": null,
            "min_height": null,
            "min_width": null,
            "object_fit": null,
            "object_position": null,
            "order": null,
            "overflow": null,
            "overflow_x": null,
            "overflow_y": null,
            "padding": null,
            "right": null,
            "top": null,
            "visibility": null,
            "width": "50%"
          }
        },
        "9ec3ed384f48455fad75a41a27016116": {
          "model_module": "@jupyter-widgets/base",
          "model_name": "LayoutModel",
          "model_module_version": "1.2.0",
          "state": {
            "_model_module": "@jupyter-widgets/base",
            "_model_module_version": "1.2.0",
            "_model_name": "LayoutModel",
            "_view_count": null,
            "_view_module": "@jupyter-widgets/base",
            "_view_module_version": "1.2.0",
            "_view_name": "LayoutView",
            "align_content": null,
            "align_items": null,
            "align_self": null,
            "border": null,
            "bottom": null,
            "display": null,
            "flex": null,
            "flex_flow": null,
            "grid_area": null,
            "grid_auto_columns": null,
            "grid_auto_flow": null,
            "grid_auto_rows": null,
            "grid_column": null,
            "grid_gap": null,
            "grid_row": null,
            "grid_template_areas": null,
            "grid_template_columns": null,
            "grid_template_rows": null,
            "height": null,
            "justify_content": null,
            "justify_items": null,
            "left": null,
            "margin": null,
            "max_height": null,
            "max_width": null,
            "min_height": null,
            "min_width": null,
            "object_fit": null,
            "object_position": null,
            "order": null,
            "overflow": null,
            "overflow_x": null,
            "overflow_y": null,
            "padding": null,
            "right": null,
            "top": null,
            "visibility": null,
            "width": null
          }
        },
        "7b526d6219a148899773ae4dfc790a2c": {
          "model_module": "@jupyter-widgets/controls",
          "model_name": "DescriptionStyleModel",
          "model_module_version": "1.5.0",
          "state": {
            "_model_module": "@jupyter-widgets/controls",
            "_model_module_version": "1.5.0",
            "_model_name": "DescriptionStyleModel",
            "_view_count": null,
            "_view_module": "@jupyter-widgets/base",
            "_view_module_version": "1.2.0",
            "_view_name": "StyleView",
            "description_width": ""
          }
        },
        "afb94f51cedc46938ff2f7b147b3c3b0": {
          "model_module": "@jupyter-widgets/base",
          "model_name": "LayoutModel",
          "model_module_version": "1.2.0",
          "state": {
            "_model_module": "@jupyter-widgets/base",
            "_model_module_version": "1.2.0",
            "_model_name": "LayoutModel",
            "_view_count": null,
            "_view_module": "@jupyter-widgets/base",
            "_view_module_version": "1.2.0",
            "_view_name": "LayoutView",
            "align_content": null,
            "align_items": null,
            "align_self": null,
            "border": null,
            "bottom": null,
            "display": null,
            "flex": null,
            "flex_flow": null,
            "grid_area": null,
            "grid_auto_columns": null,
            "grid_auto_flow": null,
            "grid_auto_rows": null,
            "grid_column": null,
            "grid_gap": null,
            "grid_row": null,
            "grid_template_areas": null,
            "grid_template_columns": null,
            "grid_template_rows": null,
            "height": null,
            "justify_content": null,
            "justify_items": null,
            "left": null,
            "margin": null,
            "max_height": null,
            "max_width": null,
            "min_height": null,
            "min_width": null,
            "object_fit": null,
            "object_position": null,
            "order": null,
            "overflow": null,
            "overflow_x": null,
            "overflow_y": null,
            "padding": null,
            "right": null,
            "top": null,
            "visibility": null,
            "width": null
          }
        },
        "68f30fd63aee4c4e809628da7b85b53c": {
          "model_module": "@jupyter-widgets/controls",
          "model_name": "DescriptionStyleModel",
          "model_module_version": "1.5.0",
          "state": {
            "_model_module": "@jupyter-widgets/controls",
            "_model_module_version": "1.5.0",
            "_model_name": "DescriptionStyleModel",
            "_view_count": null,
            "_view_module": "@jupyter-widgets/base",
            "_view_module_version": "1.2.0",
            "_view_name": "StyleView",
            "description_width": ""
          }
        },
        "a62d91308ae04128b8cf909d87bfef24": {
          "model_module": "@jupyter-widgets/base",
          "model_name": "LayoutModel",
          "model_module_version": "1.2.0",
          "state": {
            "_model_module": "@jupyter-widgets/base",
            "_model_module_version": "1.2.0",
            "_model_name": "LayoutModel",
            "_view_count": null,
            "_view_module": "@jupyter-widgets/base",
            "_view_module_version": "1.2.0",
            "_view_name": "LayoutView",
            "align_content": null,
            "align_items": null,
            "align_self": null,
            "border": null,
            "bottom": null,
            "display": null,
            "flex": null,
            "flex_flow": null,
            "grid_area": null,
            "grid_auto_columns": null,
            "grid_auto_flow": null,
            "grid_auto_rows": null,
            "grid_column": null,
            "grid_gap": null,
            "grid_row": null,
            "grid_template_areas": null,
            "grid_template_columns": null,
            "grid_template_rows": null,
            "height": null,
            "justify_content": null,
            "justify_items": null,
            "left": null,
            "margin": null,
            "max_height": null,
            "max_width": null,
            "min_height": null,
            "min_width": null,
            "object_fit": null,
            "object_position": null,
            "order": null,
            "overflow": null,
            "overflow_x": null,
            "overflow_y": null,
            "padding": null,
            "right": null,
            "top": null,
            "visibility": null,
            "width": null
          }
        },
        "d52a88e60e024c33a787a6b0b8ee5f9a": {
          "model_module": "@jupyter-widgets/controls",
          "model_name": "DescriptionStyleModel",
          "model_module_version": "1.5.0",
          "state": {
            "_model_module": "@jupyter-widgets/controls",
            "_model_module_version": "1.5.0",
            "_model_name": "DescriptionStyleModel",
            "_view_count": null,
            "_view_module": "@jupyter-widgets/base",
            "_view_module_version": "1.2.0",
            "_view_name": "StyleView",
            "description_width": ""
          }
        },
        "74bc9456b84e44fb8776f4bff05dbd4d": {
          "model_module": "@jupyter-widgets/base",
          "model_name": "LayoutModel",
          "model_module_version": "1.2.0",
          "state": {
            "_model_module": "@jupyter-widgets/base",
            "_model_module_version": "1.2.0",
            "_model_name": "LayoutModel",
            "_view_count": null,
            "_view_module": "@jupyter-widgets/base",
            "_view_module_version": "1.2.0",
            "_view_name": "LayoutView",
            "align_content": null,
            "align_items": null,
            "align_self": null,
            "border": null,
            "bottom": null,
            "display": null,
            "flex": null,
            "flex_flow": null,
            "grid_area": null,
            "grid_auto_columns": null,
            "grid_auto_flow": null,
            "grid_auto_rows": null,
            "grid_column": null,
            "grid_gap": null,
            "grid_row": null,
            "grid_template_areas": null,
            "grid_template_columns": null,
            "grid_template_rows": null,
            "height": null,
            "justify_content": null,
            "justify_items": null,
            "left": null,
            "margin": null,
            "max_height": null,
            "max_width": null,
            "min_height": null,
            "min_width": null,
            "object_fit": null,
            "object_position": null,
            "order": null,
            "overflow": null,
            "overflow_x": null,
            "overflow_y": null,
            "padding": null,
            "right": null,
            "top": null,
            "visibility": null,
            "width": null
          }
        },
        "82ac6172bafb402ea6c65de60b687cb6": {
          "model_module": "@jupyter-widgets/controls",
          "model_name": "ButtonStyleModel",
          "model_module_version": "1.5.0",
          "state": {
            "_model_module": "@jupyter-widgets/controls",
            "_model_module_version": "1.5.0",
            "_model_name": "ButtonStyleModel",
            "_view_count": null,
            "_view_module": "@jupyter-widgets/base",
            "_view_module_version": "1.2.0",
            "_view_name": "StyleView",
            "button_color": null,
            "font_weight": ""
          }
        },
        "4cfb6909ad734c76a91ff5771112a35b": {
          "model_module": "@jupyter-widgets/base",
          "model_name": "LayoutModel",
          "model_module_version": "1.2.0",
          "state": {
            "_model_module": "@jupyter-widgets/base",
            "_model_module_version": "1.2.0",
            "_model_name": "LayoutModel",
            "_view_count": null,
            "_view_module": "@jupyter-widgets/base",
            "_view_module_version": "1.2.0",
            "_view_name": "LayoutView",
            "align_content": null,
            "align_items": null,
            "align_self": null,
            "border": null,
            "bottom": null,
            "display": null,
            "flex": null,
            "flex_flow": null,
            "grid_area": null,
            "grid_auto_columns": null,
            "grid_auto_flow": null,
            "grid_auto_rows": null,
            "grid_column": null,
            "grid_gap": null,
            "grid_row": null,
            "grid_template_areas": null,
            "grid_template_columns": null,
            "grid_template_rows": null,
            "height": null,
            "justify_content": null,
            "justify_items": null,
            "left": null,
            "margin": null,
            "max_height": null,
            "max_width": null,
            "min_height": null,
            "min_width": null,
            "object_fit": null,
            "object_position": null,
            "order": null,
            "overflow": null,
            "overflow_x": null,
            "overflow_y": null,
            "padding": null,
            "right": null,
            "top": null,
            "visibility": null,
            "width": null
          }
        },
        "3988f92368e949a08dcfa9f1f96c2430": {
          "model_module": "@jupyter-widgets/controls",
          "model_name": "DescriptionStyleModel",
          "model_module_version": "1.5.0",
          "state": {
            "_model_module": "@jupyter-widgets/controls",
            "_model_module_version": "1.5.0",
            "_model_name": "DescriptionStyleModel",
            "_view_count": null,
            "_view_module": "@jupyter-widgets/base",
            "_view_module_version": "1.2.0",
            "_view_name": "StyleView",
            "description_width": ""
          }
        },
        "76b601852c7e4066b302004d9c23d5fa": {
          "model_module": "@jupyter-widgets/controls",
          "model_name": "HBoxModel",
          "model_module_version": "1.5.0",
          "state": {
            "_dom_classes": [],
            "_model_module": "@jupyter-widgets/controls",
            "_model_module_version": "1.5.0",
            "_model_name": "HBoxModel",
            "_view_count": null,
            "_view_module": "@jupyter-widgets/controls",
            "_view_module_version": "1.5.0",
            "_view_name": "HBoxView",
            "box_style": "",
            "children": [
              "IPY_MODEL_0647722d16eb4fa68a376059a265365d",
              "IPY_MODEL_07e24a087c4e4082b8f96bdc6b24371b",
              "IPY_MODEL_e742a42058a14bce97ba43a7d80d2ee7"
            ],
            "layout": "IPY_MODEL_36709db13e7a45239bb6d7ce63d7f677"
          }
        },
        "0647722d16eb4fa68a376059a265365d": {
          "model_module": "@jupyter-widgets/controls",
          "model_name": "HTMLModel",
          "model_module_version": "1.5.0",
          "state": {
            "_dom_classes": [],
            "_model_module": "@jupyter-widgets/controls",
            "_model_module_version": "1.5.0",
            "_model_name": "HTMLModel",
            "_view_count": null,
            "_view_module": "@jupyter-widgets/controls",
            "_view_module_version": "1.5.0",
            "_view_name": "HTMLView",
            "description": "",
            "description_tooltip": null,
            "layout": "IPY_MODEL_ddf0fca18b984d4c9b7ed8a8395426c1",
            "placeholder": "​",
            "style": "IPY_MODEL_05e2a9b3804642648657f2f6796c91f7",
            "value": "params.npz: 100%"
          }
        },
        "07e24a087c4e4082b8f96bdc6b24371b": {
          "model_module": "@jupyter-widgets/controls",
          "model_name": "FloatProgressModel",
          "model_module_version": "1.5.0",
          "state": {
            "_dom_classes": [],
            "_model_module": "@jupyter-widgets/controls",
            "_model_module_version": "1.5.0",
            "_model_name": "FloatProgressModel",
            "_view_count": null,
            "_view_module": "@jupyter-widgets/controls",
            "_view_module_version": "1.5.0",
            "_view_name": "ProgressView",
            "bar_style": "success",
            "description": "",
            "description_tooltip": null,
            "layout": "IPY_MODEL_1c4274fdba824a6eb6a9585a6a826dd9",
            "max": 302131416,
            "min": 0,
            "orientation": "horizontal",
            "style": "IPY_MODEL_ee859c40665644ffaa1a86d43cd219d8",
            "value": 302131416
          }
        },
        "e742a42058a14bce97ba43a7d80d2ee7": {
          "model_module": "@jupyter-widgets/controls",
          "model_name": "HTMLModel",
          "model_module_version": "1.5.0",
          "state": {
            "_dom_classes": [],
            "_model_module": "@jupyter-widgets/controls",
            "_model_module_version": "1.5.0",
            "_model_name": "HTMLModel",
            "_view_count": null,
            "_view_module": "@jupyter-widgets/controls",
            "_view_module_version": "1.5.0",
            "_view_name": "HTMLView",
            "description": "",
            "description_tooltip": null,
            "layout": "IPY_MODEL_e493e48b5afd4d1fb4a530a88f9063f2",
            "placeholder": "​",
            "style": "IPY_MODEL_1b2bfd7b2cb14687a98d6c62eafb9b5e",
            "value": " 302M/302M [01:45&lt;00:00, 1.65MB/s]"
          }
        },
        "36709db13e7a45239bb6d7ce63d7f677": {
          "model_module": "@jupyter-widgets/base",
          "model_name": "LayoutModel",
          "model_module_version": "1.2.0",
          "state": {
            "_model_module": "@jupyter-widgets/base",
            "_model_module_version": "1.2.0",
            "_model_name": "LayoutModel",
            "_view_count": null,
            "_view_module": "@jupyter-widgets/base",
            "_view_module_version": "1.2.0",
            "_view_name": "LayoutView",
            "align_content": null,
            "align_items": null,
            "align_self": null,
            "border": null,
            "bottom": null,
            "display": null,
            "flex": null,
            "flex_flow": null,
            "grid_area": null,
            "grid_auto_columns": null,
            "grid_auto_flow": null,
            "grid_auto_rows": null,
            "grid_column": null,
            "grid_gap": null,
            "grid_row": null,
            "grid_template_areas": null,
            "grid_template_columns": null,
            "grid_template_rows": null,
            "height": null,
            "justify_content": null,
            "justify_items": null,
            "left": null,
            "margin": null,
            "max_height": null,
            "max_width": null,
            "min_height": null,
            "min_width": null,
            "object_fit": null,
            "object_position": null,
            "order": null,
            "overflow": null,
            "overflow_x": null,
            "overflow_y": null,
            "padding": null,
            "right": null,
            "top": null,
            "visibility": null,
            "width": null
          }
        },
        "ddf0fca18b984d4c9b7ed8a8395426c1": {
          "model_module": "@jupyter-widgets/base",
          "model_name": "LayoutModel",
          "model_module_version": "1.2.0",
          "state": {
            "_model_module": "@jupyter-widgets/base",
            "_model_module_version": "1.2.0",
            "_model_name": "LayoutModel",
            "_view_count": null,
            "_view_module": "@jupyter-widgets/base",
            "_view_module_version": "1.2.0",
            "_view_name": "LayoutView",
            "align_content": null,
            "align_items": null,
            "align_self": null,
            "border": null,
            "bottom": null,
            "display": null,
            "flex": null,
            "flex_flow": null,
            "grid_area": null,
            "grid_auto_columns": null,
            "grid_auto_flow": null,
            "grid_auto_rows": null,
            "grid_column": null,
            "grid_gap": null,
            "grid_row": null,
            "grid_template_areas": null,
            "grid_template_columns": null,
            "grid_template_rows": null,
            "height": null,
            "justify_content": null,
            "justify_items": null,
            "left": null,
            "margin": null,
            "max_height": null,
            "max_width": null,
            "min_height": null,
            "min_width": null,
            "object_fit": null,
            "object_position": null,
            "order": null,
            "overflow": null,
            "overflow_x": null,
            "overflow_y": null,
            "padding": null,
            "right": null,
            "top": null,
            "visibility": null,
            "width": null
          }
        },
        "05e2a9b3804642648657f2f6796c91f7": {
          "model_module": "@jupyter-widgets/controls",
          "model_name": "DescriptionStyleModel",
          "model_module_version": "1.5.0",
          "state": {
            "_model_module": "@jupyter-widgets/controls",
            "_model_module_version": "1.5.0",
            "_model_name": "DescriptionStyleModel",
            "_view_count": null,
            "_view_module": "@jupyter-widgets/base",
            "_view_module_version": "1.2.0",
            "_view_name": "StyleView",
            "description_width": ""
          }
        },
        "1c4274fdba824a6eb6a9585a6a826dd9": {
          "model_module": "@jupyter-widgets/base",
          "model_name": "LayoutModel",
          "model_module_version": "1.2.0",
          "state": {
            "_model_module": "@jupyter-widgets/base",
            "_model_module_version": "1.2.0",
            "_model_name": "LayoutModel",
            "_view_count": null,
            "_view_module": "@jupyter-widgets/base",
            "_view_module_version": "1.2.0",
            "_view_name": "LayoutView",
            "align_content": null,
            "align_items": null,
            "align_self": null,
            "border": null,
            "bottom": null,
            "display": null,
            "flex": null,
            "flex_flow": null,
            "grid_area": null,
            "grid_auto_columns": null,
            "grid_auto_flow": null,
            "grid_auto_rows": null,
            "grid_column": null,
            "grid_gap": null,
            "grid_row": null,
            "grid_template_areas": null,
            "grid_template_columns": null,
            "grid_template_rows": null,
            "height": null,
            "justify_content": null,
            "justify_items": null,
            "left": null,
            "margin": null,
            "max_height": null,
            "max_width": null,
            "min_height": null,
            "min_width": null,
            "object_fit": null,
            "object_position": null,
            "order": null,
            "overflow": null,
            "overflow_x": null,
            "overflow_y": null,
            "padding": null,
            "right": null,
            "top": null,
            "visibility": null,
            "width": null
          }
        },
        "ee859c40665644ffaa1a86d43cd219d8": {
          "model_module": "@jupyter-widgets/controls",
          "model_name": "ProgressStyleModel",
          "model_module_version": "1.5.0",
          "state": {
            "_model_module": "@jupyter-widgets/controls",
            "_model_module_version": "1.5.0",
            "_model_name": "ProgressStyleModel",
            "_view_count": null,
            "_view_module": "@jupyter-widgets/base",
            "_view_module_version": "1.2.0",
            "_view_name": "StyleView",
            "bar_color": null,
            "description_width": ""
          }
        },
        "e493e48b5afd4d1fb4a530a88f9063f2": {
          "model_module": "@jupyter-widgets/base",
          "model_name": "LayoutModel",
          "model_module_version": "1.2.0",
          "state": {
            "_model_module": "@jupyter-widgets/base",
            "_model_module_version": "1.2.0",
            "_model_name": "LayoutModel",
            "_view_count": null,
            "_view_module": "@jupyter-widgets/base",
            "_view_module_version": "1.2.0",
            "_view_name": "LayoutView",
            "align_content": null,
            "align_items": null,
            "align_self": null,
            "border": null,
            "bottom": null,
            "display": null,
            "flex": null,
            "flex_flow": null,
            "grid_area": null,
            "grid_auto_columns": null,
            "grid_auto_flow": null,
            "grid_auto_rows": null,
            "grid_column": null,
            "grid_gap": null,
            "grid_row": null,
            "grid_template_areas": null,
            "grid_template_columns": null,
            "grid_template_rows": null,
            "height": null,
            "justify_content": null,
            "justify_items": null,
            "left": null,
            "margin": null,
            "max_height": null,
            "max_width": null,
            "min_height": null,
            "min_width": null,
            "object_fit": null,
            "object_position": null,
            "order": null,
            "overflow": null,
            "overflow_x": null,
            "overflow_y": null,
            "padding": null,
            "right": null,
            "top": null,
            "visibility": null,
            "width": null
          }
        },
        "1b2bfd7b2cb14687a98d6c62eafb9b5e": {
          "model_module": "@jupyter-widgets/controls",
          "model_name": "DescriptionStyleModel",
          "model_module_version": "1.5.0",
          "state": {
            "_model_module": "@jupyter-widgets/controls",
            "_model_module_version": "1.5.0",
            "_model_name": "DescriptionStyleModel",
            "_view_count": null,
            "_view_module": "@jupyter-widgets/base",
            "_view_module_version": "1.2.0",
            "_view_name": "StyleView",
            "description_width": ""
          }
        }
      }
    }
  },
  "nbformat": 4,
  "nbformat_minor": 0
}